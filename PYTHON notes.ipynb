{
 "cells": [
  {
   "cell_type": "markdown",
   "id": "adbe0bf5",
   "metadata": {},
   "source": [
    "# Python complete notes"
   ]
  },
  {
   "cell_type": "raw",
   "id": "75051da2",
   "metadata": {},
   "source": [
    "Python is high level programming launguage\n",
    "program is the set of instruction \n",
    "high level a human can easily understand the code input as well as output\n"
   ]
  },
  {
   "cell_type": "raw",
   "id": "60a537c5",
   "metadata": {},
   "source": [
    "features of python\n",
    "1 . high level\n",
    "2. Interpreter\n",
    "3. case sensitive\n",
    "4. dynamically typed\n",
    "\n",
    "Interpreter= in python our code excutes line by line because interpreter is working\n",
    "\n",
    "compiler = used to compile all of the code in a single cell\n",
    "\n",
    "Case sensitive: lowercase and uppercase value has different\n",
    "\n",
    "dynamically typed = this language doest not required any pre defined data type for any variable\n",
    "\n",
    "\n",
    "5. python has esential libarary, python has number of pre define function numpy, pandas, visualization, seaborn, scipy\n",
    "\n",
    "6. python is object oriented programming language (oops)"
   ]
  },
  {
   "cell_type": "raw",
   "id": "27aa9112",
   "metadata": {},
   "source": [
    "' ', \" \" both work same"
   ]
  },
  {
   "cell_type": "code",
   "execution_count": 36,
   "id": "f2f8eaf1",
   "metadata": {},
   "outputs": [],
   "source": [
    "import os"
   ]
  },
  {
   "cell_type": "code",
   "execution_count": 37,
   "id": "69b20dbf",
   "metadata": {},
   "outputs": [
    {
     "data": {
      "text/plain": [
       "'C:\\\\Users\\\\Abhishek\\\\Class_notes'"
      ]
     },
     "execution_count": 37,
     "metadata": {},
     "output_type": "execute_result"
    }
   ],
   "source": [
    "os.getcwd()"
   ]
  },
  {
   "cell_type": "markdown",
   "id": "200561ff",
   "metadata": {},
   "source": [
    "To check  preticular documentation"
   ]
  },
  {
   "cell_type": "code",
   "execution_count": 323,
   "id": "7f027f03",
   "metadata": {},
   "outputs": [
    {
     "name": "stdout",
     "output_type": "stream",
     "text": [
      "Help on built-in function max in module builtins:\n",
      "\n",
      "max(...)\n",
      "    max(iterable, *[, default=obj, key=func]) -> value\n",
      "    max(arg1, arg2, *args, *[, key=func]) -> value\n",
      "    \n",
      "    With a single iterable argument, return its biggest item. The\n",
      "    default keyword-only argument specifies an object to return if\n",
      "    the provided iterable is empty.\n",
      "    With two or more arguments, return the largest argument.\n",
      "\n"
     ]
    }
   ],
   "source": [
    "help(max)  #help key word used to check documentaion"
   ]
  },
  {
   "cell_type": "markdown",
   "id": "6e16f15c",
   "metadata": {},
   "source": [
    "- **print  # to check documentation  press >>>   'shift+tab'**\n",
    "\n",
    "- just press tab it show what to do next in step"
   ]
  },
  {
   "cell_type": "code",
   "execution_count": 325,
   "id": "a0e9534a",
   "metadata": {},
   "outputs": [],
   "source": [
    "print?"
   ]
  },
  {
   "cell_type": "code",
   "execution_count": 330,
   "id": "b0ab4ead",
   "metadata": {},
   "outputs": [
    {
     "name": "stdout",
     "output_type": "stream",
     "text": [
      "C:\\Users\\Abhishek\n"
     ]
    }
   ],
   "source": [
    "cd    # current directory"
   ]
  },
  {
   "cell_type": "code",
   "execution_count": 331,
   "id": "7c5fc6af",
   "metadata": {},
   "outputs": [
    {
     "name": "stdout",
     "output_type": "stream",
     "text": [
      "C:\\Users\\Abhishek\n"
     ]
    }
   ],
   "source": [
    "%cd"
   ]
  },
  {
   "cell_type": "code",
   "execution_count": 1,
   "id": "5a4a8adb",
   "metadata": {},
   "outputs": [
    {
     "data": {
      "text/plain": [
       "'hello world'"
      ]
     },
     "execution_count": 1,
     "metadata": {},
     "output_type": "execute_result"
    }
   ],
   "source": [
    "\"hello world\""
   ]
  },
  {
   "cell_type": "code",
   "execution_count": 2,
   "id": "cd7d20e6",
   "metadata": {},
   "outputs": [
    {
     "name": "stdout",
     "output_type": "stream",
     "text": [
      "hello world\n",
      "hello world\n"
     ]
    }
   ],
   "source": [
    "#double or single quotation both work same\n",
    "print('hello world')\n",
    "print(\"hello world\")"
   ]
  },
  {
   "cell_type": "code",
   "execution_count": 4,
   "id": "a155524a",
   "metadata": {},
   "outputs": [
    {
     "name": "stdout",
     "output_type": "stream",
     "text": [
      "hello world\n"
     ]
    },
    {
     "data": {
      "text/plain": [
       "'hello world'"
      ]
     },
     "execution_count": 4,
     "metadata": {},
     "output_type": "execute_result"
    }
   ],
   "source": [
    "print('hello world')\n",
    "\"hello world\""
   ]
  },
  {
   "cell_type": "code",
   "execution_count": null,
   "id": "8913cd0b",
   "metadata": {},
   "outputs": [],
   "source": [
    "# only last statement execute without print "
   ]
  },
  {
   "cell_type": "code",
   "execution_count": 6,
   "id": "37a685db",
   "metadata": {},
   "outputs": [
    {
     "name": "stdout",
     "output_type": "stream",
     "text": [
      "hello world\n"
     ]
    }
   ],
   "source": [
    "('hello world')\n",
    "print(\"hello world\")"
   ]
  },
  {
   "cell_type": "code",
   "execution_count": 7,
   "id": "420f15a9",
   "metadata": {},
   "outputs": [
    {
     "name": "stdout",
     "output_type": "stream",
     "text": [
      "hello world\n",
      "hello world\n"
     ]
    }
   ],
   "source": [
    "print('hello world')\n",
    "print(\"hello world\")"
   ]
  },
  {
   "cell_type": "code",
   "execution_count": null,
   "id": "e2b13898",
   "metadata": {},
   "outputs": [],
   "source": [
    "#  \\n help to move next line "
   ]
  },
  {
   "cell_type": "code",
   "execution_count": 9,
   "id": "f3f5fa5c",
   "metadata": {},
   "outputs": [
    {
     "name": "stdout",
     "output_type": "stream",
     "text": [
      "hello world\n",
      " hello world\n"
     ]
    }
   ],
   "source": [
    "print('hello world\\n hello world')"
   ]
  },
  {
   "cell_type": "code",
   "execution_count": 10,
   "id": "605497c3",
   "metadata": {},
   "outputs": [
    {
     "name": "stdout",
     "output_type": "stream",
     "text": [
      "helloReedy\n"
     ]
    }
   ],
   "source": [
    "print('hello'+'Reedy')"
   ]
  },
  {
   "cell_type": "code",
   "execution_count": 11,
   "id": "ed594439",
   "metadata": {},
   "outputs": [
    {
     "name": "stdout",
     "output_type": "stream",
     "text": [
      "hello Reedy\n"
     ]
    }
   ],
   "source": [
    "print('hello'+' Reedy')"
   ]
  },
  {
   "cell_type": "code",
   "execution_count": 12,
   "id": "5f6fff88",
   "metadata": {},
   "outputs": [
    {
     "name": "stdout",
     "output_type": "stream",
     "text": [
      "hello Reedy\n"
     ]
    }
   ],
   "source": [
    "print('hello'+\" \"+'Reedy')"
   ]
  },
  {
   "cell_type": "markdown",
   "id": "02066773",
   "metadata": {},
   "source": [
    "# VARIABLES"
   ]
  },
  {
   "cell_type": "raw",
   "id": "9c38f3e1",
   "metadata": {},
   "source": [
    "-variables are used to store and retrieve data from our systems memory\n",
    "-We can store value in a variable by either assigning a value to a variable or getting the value as input from user\n",
    "-A variable should start with a letter or an underscore and cannot start with numbers.\n",
    "-varaible = is a name that is points towards the data , a variable also works like conatiner\n"
   ]
  },
  {
   "cell_type": "raw",
   "id": "95e50f5b",
   "metadata": {},
   "source": [
    "rules fo creating a variable\n",
    "1. a variable cannot start from number\n",
    "4x=10\n",
    "2. a variable cannot start from any special character @ $ # %( exception _ underscore)\n",
    "3. inbetween the characters we can use number as well "
   ]
  },
  {
   "cell_type": "code",
   "execution_count": 17,
   "id": "e404bf8b",
   "metadata": {},
   "outputs": [
    {
     "name": "stdout",
     "output_type": "stream",
     "text": [
      "10 Reddy\n",
      "Reddy\n",
      "20.62\n"
     ]
    }
   ],
   "source": [
    "# 2 TYPE VARIABLE\n",
    "## ASSIGNING SINGLE VALUE\n",
    "A = 10\n",
    "NAME = 'Reddy'\n",
    "salary = 20.62\n",
    "print(A, NAME)\n",
    "print(NAME)\n",
    "print(salary)\n"
   ]
  },
  {
   "cell_type": "code",
   "execution_count": 20,
   "id": "4fb675dc",
   "metadata": {},
   "outputs": [],
   "source": [
    "#PRINT(salary)  # PRINT need to be write is samll letter only "
   ]
  },
  {
   "cell_type": "code",
   "execution_count": 22,
   "id": "e9745120",
   "metadata": {},
   "outputs": [
    {
     "name": "stdout",
     "output_type": "stream",
     "text": [
      "10 10 10\n",
      "20\n",
      "30\n",
      "40\n"
     ]
    }
   ],
   "source": [
    "# assigning multiple value\n",
    "a=b=c=10\n",
    "x,y,z = 20,30,40\n",
    "print(a,b,c)\n",
    "print(x)\n",
    "print(y)\n",
    "print(z)"
   ]
  },
  {
   "cell_type": "code",
   "execution_count": 26,
   "id": "32c5b88b",
   "metadata": {},
   "outputs": [
    {
     "data": {
      "text/plain": [
       "4"
      ]
     },
     "execution_count": 26,
     "metadata": {},
     "output_type": "execute_result"
    }
   ],
   "source": [
    "a= 4\n",
    "a"
   ]
  },
  {
   "cell_type": "code",
   "execution_count": 27,
   "id": "61eb9f5a",
   "metadata": {},
   "outputs": [
    {
     "data": {
      "text/plain": [
       "10"
      ]
     },
     "execution_count": 27,
     "metadata": {},
     "output_type": "execute_result"
    }
   ],
   "source": [
    "x = 10\n",
    "x"
   ]
  },
  {
   "cell_type": "code",
   "execution_count": 28,
   "id": "df66de11",
   "metadata": {},
   "outputs": [
    {
     "data": {
      "text/plain": [
       "14"
      ]
     },
     "execution_count": 28,
     "metadata": {},
     "output_type": "execute_result"
    }
   ],
   "source": [
    "a+x"
   ]
  },
  {
   "cell_type": "code",
   "execution_count": 29,
   "id": "bfa0e7af",
   "metadata": {},
   "outputs": [
    {
     "name": "stdout",
     "output_type": "stream",
     "text": [
      "10\n",
      "20\n"
     ]
    }
   ],
   "source": [
    "a = 10\n",
    "A = 20\n",
    "print(a)\n",
    "print(A)"
   ]
  },
  {
   "cell_type": "code",
   "execution_count": 30,
   "id": "ff2d7f3a",
   "metadata": {},
   "outputs": [
    {
     "name": "stdout",
     "output_type": "stream",
     "text": [
      "hello\n"
     ]
    }
   ],
   "source": [
    "x = \"hello\"\n",
    "print(x)"
   ]
  },
  {
   "cell_type": "code",
   "execution_count": 32,
   "id": "03137b0d",
   "metadata": {},
   "outputs": [
    {
     "ename": "SyntaxError",
     "evalue": "invalid decimal literal (3815122302.py, line 2)",
     "output_type": "error",
     "traceback": [
      "\u001b[1;36m  Cell \u001b[1;32mIn[32], line 2\u001b[1;36m\u001b[0m\n\u001b[1;33m    7apple= 20\u001b[0m\n\u001b[1;37m    ^\u001b[0m\n\u001b[1;31mSyntaxError\u001b[0m\u001b[1;31m:\u001b[0m invalid decimal literal\n"
     ]
    }
   ],
   "source": [
    "#1st rule\n",
    "7apple= 20"
   ]
  },
  {
   "cell_type": "code",
   "execution_count": 33,
   "id": "f8171d8b",
   "metadata": {},
   "outputs": [
    {
     "data": {
      "text/plain": [
       "40"
      ]
     },
     "execution_count": 33,
     "metadata": {},
     "output_type": "execute_result"
    }
   ],
   "source": [
    "apple= 40\n",
    "apple"
   ]
  },
  {
   "cell_type": "code",
   "execution_count": 34,
   "id": "3388e626",
   "metadata": {},
   "outputs": [
    {
     "ename": "SyntaxError",
     "evalue": "invalid syntax. Maybe you meant '==' or ':=' instead of '='? (1948438700.py, line 2)",
     "output_type": "error",
     "traceback": [
      "\u001b[1;36m  Cell \u001b[1;32mIn[34], line 2\u001b[1;36m\u001b[0m\n\u001b[1;33m    @hi= 8\u001b[0m\n\u001b[1;37m     ^\u001b[0m\n\u001b[1;31mSyntaxError\u001b[0m\u001b[1;31m:\u001b[0m invalid syntax. Maybe you meant '==' or ':=' instead of '='?\n"
     ]
    }
   ],
   "source": [
    "#2. rule\n",
    "@hi= 8"
   ]
  },
  {
   "cell_type": "code",
   "execution_count": 35,
   "id": "d2dc66b0",
   "metadata": {},
   "outputs": [
    {
     "data": {
      "text/plain": [
       "50"
      ]
     },
     "execution_count": 35,
     "metadata": {},
     "output_type": "execute_result"
    }
   ],
   "source": [
    "_b= 50\n",
    "_b"
   ]
  },
  {
   "cell_type": "code",
   "execution_count": 36,
   "id": "e941368b",
   "metadata": {},
   "outputs": [
    {
     "data": {
      "text/plain": [
       "30"
      ]
     },
     "execution_count": 36,
     "metadata": {},
     "output_type": "execute_result"
    }
   ],
   "source": [
    "#3rd rule\n",
    "abc9= 30\n",
    "abc9"
   ]
  },
  {
   "cell_type": "code",
   "execution_count": 37,
   "id": "0fb5ec6a",
   "metadata": {},
   "outputs": [
    {
     "data": {
      "text/plain": [
       "3"
      ]
     },
     "execution_count": 37,
     "metadata": {},
     "output_type": "execute_result"
    }
   ],
   "source": [
    "x1y= 3\n",
    "x1y"
   ]
  },
  {
   "cell_type": "code",
   "execution_count": 38,
   "id": "e0669e4c",
   "metadata": {},
   "outputs": [
    {
     "ename": "TypeError",
     "evalue": "unsupported operand type(s) for @=: 'int' and 'int'",
     "output_type": "error",
     "traceback": [
      "\u001b[1;31m---------------------------------------------------------------------------\u001b[0m",
      "\u001b[1;31mTypeError\u001b[0m                                 Traceback (most recent call last)",
      "Cell \u001b[1;32mIn[38], line 1\u001b[0m\n\u001b[1;32m----> 1\u001b[0m a\u001b[38;5;241m@\u001b[39m\u001b[38;5;241m=\u001b[39m\u001b[38;5;241m3\u001b[39m\n\u001b[0;32m      2\u001b[0m b\u001b[38;5;241m=\u001b[39m\u001b[38;5;241m3\u001b[39m\n",
      "\u001b[1;31mTypeError\u001b[0m: unsupported operand type(s) for @=: 'int' and 'int'"
     ]
    }
   ],
   "source": [
    "a@=3\n",
    "b=3"
   ]
  },
  {
   "cell_type": "code",
   "execution_count": 39,
   "id": "efab8fdb",
   "metadata": {
    "scrolled": true
   },
   "outputs": [
    {
     "ename": "NameError",
     "evalue": "name 'hi' is not defined",
     "output_type": "error",
     "traceback": [
      "\u001b[1;31m---------------------------------------------------------------------------\u001b[0m",
      "\u001b[1;31mNameError\u001b[0m                                 Traceback (most recent call last)",
      "Cell \u001b[1;32mIn[39], line 2\u001b[0m\n\u001b[0;32m      1\u001b[0m xyz\u001b[38;5;241m=\u001b[39m \u001b[38;5;241m456\u001b[39m\n\u001b[1;32m----> 2\u001b[0m c\u001b[38;5;241m=\u001b[39m hi\n",
      "\u001b[1;31mNameError\u001b[0m: name 'hi' is not defined"
     ]
    }
   ],
   "source": [
    "xyz= 456\n",
    "c= hi"
   ]
  },
  {
   "cell_type": "code",
   "execution_count": 39,
   "id": "f07e71ee",
   "metadata": {},
   "outputs": [
    {
     "data": {
      "text/plain": [
       "'Raghunathreddy'"
      ]
     },
     "execution_count": 39,
     "metadata": {},
     "output_type": "execute_result"
    }
   ],
   "source": [
    "my_name = \"Raghunathreddy\"\n",
    "my_name"
   ]
  },
  {
   "cell_type": "code",
   "execution_count": 310,
   "id": "015c5525",
   "metadata": {},
   "outputs": [
    {
     "data": {
      "text/plain": [
       "3"
      ]
     },
     "execution_count": 310,
     "metadata": {},
     "output_type": "execute_result"
    }
   ],
   "source": [
    "a = 1+2\n",
    "a"
   ]
  },
  {
   "cell_type": "code",
   "execution_count": 312,
   "id": "45e976eb",
   "metadata": {},
   "outputs": [
    {
     "data": {
      "text/plain": [
       "'12'"
      ]
     },
     "execution_count": 312,
     "metadata": {},
     "output_type": "execute_result"
    }
   ],
   "source": [
    "a = '1'+'2'  #str\n",
    "a"
   ]
  },
  {
   "cell_type": "code",
   "execution_count": 313,
   "id": "4d5669e5",
   "metadata": {},
   "outputs": [
    {
     "data": {
      "text/plain": [
       "5"
      ]
     },
     "execution_count": 313,
     "metadata": {},
     "output_type": "execute_result"
    }
   ],
   "source": [
    "a = 1*5 #int\n",
    "a"
   ]
  },
  {
   "cell_type": "code",
   "execution_count": 315,
   "id": "30b12880",
   "metadata": {},
   "outputs": [
    {
     "data": {
      "text/plain": [
       "'11111'"
      ]
     },
     "execution_count": 315,
     "metadata": {},
     "output_type": "execute_result"
    }
   ],
   "source": [
    "a = '1'*5  # str\n",
    "a"
   ]
  },
  {
   "cell_type": "code",
   "execution_count": 357,
   "id": "d75e4069",
   "metadata": {},
   "outputs": [],
   "source": [
    "colors = ['red', 'blue', 'green', 'black', 'white']"
   ]
  },
  {
   "cell_type": "code",
   "execution_count": 355,
   "id": "2c0c12ad",
   "metadata": {},
   "outputs": [
    {
     "data": {
      "text/plain": [
       "['black', 'blue', 'green', 'red', 'white']"
      ]
     },
     "execution_count": 355,
     "metadata": {},
     "output_type": "execute_result"
    }
   ],
   "source": [
    "sorted(colors)  # it sort tempararly "
   ]
  },
  {
   "cell_type": "code",
   "execution_count": 356,
   "id": "3982a3fe",
   "metadata": {},
   "outputs": [
    {
     "data": {
      "text/plain": [
       "['red', 'blue', 'green', 'black', 'white']"
      ]
     },
     "execution_count": 356,
     "metadata": {},
     "output_type": "execute_result"
    }
   ],
   "source": [
    " colors"
   ]
  },
  {
   "cell_type": "code",
   "execution_count": 358,
   "id": "dfbee952",
   "metadata": {},
   "outputs": [],
   "source": [
    "colors.sort()  # it sort element permanently"
   ]
  },
  {
   "cell_type": "code",
   "execution_count": 359,
   "id": "5b0ba599",
   "metadata": {},
   "outputs": [
    {
     "data": {
      "text/plain": [
       "['black', 'blue', 'green', 'red', 'white']"
      ]
     },
     "execution_count": 359,
     "metadata": {},
     "output_type": "execute_result"
    }
   ],
   "source": [
    "colors"
   ]
  },
  {
   "cell_type": "markdown",
   "id": "190ee28e",
   "metadata": {},
   "source": [
    "# Keywords in Python"
   ]
  },
  {
   "cell_type": "raw",
   "id": "f74b7e44",
   "metadata": {},
   "source": [
    " -special reserve words for coding\n",
    "-have special meaning and purposes\n",
    "-Can't be used for variable names"
   ]
  },
  {
   "cell_type": "code",
   "execution_count": 40,
   "id": "baeb2cb5",
   "metadata": {},
   "outputs": [
    {
     "name": "stdout",
     "output_type": "stream",
     "text": [
      "\n",
      "Here is a list of the Python keywords.  Enter any keyword to get more help.\n",
      "\n",
      "False               class               from                or\n",
      "None                continue            global              pass\n",
      "True                def                 if                  raise\n",
      "and                 del                 import              return\n",
      "as                  elif                in                  try\n",
      "assert              else                is                  while\n",
      "async               except              lambda              with\n",
      "await               finally             nonlocal            yield\n",
      "break               for                 not                 \n",
      "\n"
     ]
    }
   ],
   "source": [
    "help('keywords')"
   ]
  },
  {
   "cell_type": "code",
   "execution_count": 41,
   "id": "816b7df0",
   "metadata": {},
   "outputs": [
    {
     "ename": "SyntaxError",
     "evalue": "invalid syntax (1229414940.py, line 1)",
     "output_type": "error",
     "traceback": [
      "\u001b[1;36m  Cell \u001b[1;32mIn[41], line 1\u001b[1;36m\u001b[0m\n\u001b[1;33m    pass = 10\u001b[0m\n\u001b[1;37m         ^\u001b[0m\n\u001b[1;31mSyntaxError\u001b[0m\u001b[1;31m:\u001b[0m invalid syntax\n"
     ]
    }
   ],
   "source": [
    "pass = 10"
   ]
  },
  {
   "cell_type": "markdown",
   "id": "18d494e1",
   "metadata": {},
   "source": [
    "# Different way to print statement"
   ]
  },
  {
   "cell_type": "code",
   "execution_count": 291,
   "id": "d3d674de",
   "metadata": {},
   "outputs": [
    {
     "name": "stdout",
     "output_type": "stream",
     "text": [
      "25 is a tupe, <class 'int'> type of variable\n"
     ]
    }
   ],
   "source": [
    "age = 25\n",
    "print('{} is a tupe, {} type of variable'.format(age, type(age)))"
   ]
  },
  {
   "cell_type": "code",
   "execution_count": 293,
   "id": "f7c25e0c",
   "metadata": {},
   "outputs": [
    {
     "name": "stdout",
     "output_type": "stream",
     "text": [
      "my name is Reddy and im studying python cpurse\n"
     ]
    }
   ],
   "source": [
    "name  =\"Reddy\"\n",
    "study = \"python\"\n",
    "print('my name is {} and im studying {} course'. format(name, study))"
   ]
  },
  {
   "cell_type": "code",
   "execution_count": 295,
   "id": "3c68f29d",
   "metadata": {},
   "outputs": [
    {
     "name": "stdout",
     "output_type": "stream",
     "text": [
      "my name is  Reddy and im studying  python\n"
     ]
    }
   ],
   "source": [
    "name  =\"Reddy\"\n",
    "study = \"python\"\n",
    "print('my name is ',name, 'and im studying ',study)"
   ]
  },
  {
   "cell_type": "code",
   "execution_count": 296,
   "id": "eadcfb1c",
   "metadata": {},
   "outputs": [
    {
     "name": "stdout",
     "output_type": "stream",
     "text": [
      "Reddy is name and python is my course\n"
     ]
    }
   ],
   "source": [
    "name  =\"Reddy\"\n",
    "study = \"python\"\n",
    "print('%s is name and %s is my course' %(name, study))"
   ]
  },
  {
   "cell_type": "code",
   "execution_count": 298,
   "id": "a7904ebc",
   "metadata": {},
   "outputs": [
    {
     "name": "stdout",
     "output_type": "stream",
     "text": [
      " 65 is a <class 'int'> type of variable\n"
     ]
    }
   ],
   "source": [
    "weight = 65\n",
    "print(\" %s is a %s type of variable\" %(weight,type(weight)))"
   ]
  },
  {
   "cell_type": "code",
   "execution_count": 300,
   "id": "a7cec4e1",
   "metadata": {},
   "outputs": [
    {
     "name": "stdout",
     "output_type": "stream",
     "text": [
      "number is 0\n",
      "number is 1\n",
      "number is 2\n",
      "number is 3\n",
      "number is 4\n"
     ]
    }
   ],
   "source": [
    "for i in range(5):\n",
    "    print('number is {}'.format(i))"
   ]
  },
  {
   "cell_type": "code",
   "execution_count": 301,
   "id": "1ac7739d",
   "metadata": {},
   "outputs": [
    {
     "name": "stdout",
     "output_type": "stream",
     "text": [
      "number is 0  number is 1  number is 2  number is 3  number is 4  "
     ]
    }
   ],
   "source": [
    "for i in range(5):\n",
    "    print('number is {}'.format(i), end = \"  \")"
   ]
  },
  {
   "cell_type": "code",
   "execution_count": 307,
   "id": "4dbb0ecd",
   "metadata": {},
   "outputs": [
    {
     "name": "stdout",
     "output_type": "stream",
     "text": [
      "num is 0\n",
      "num is 2\n",
      "num is 4\n",
      "num is 6\n",
      "num is 8\n"
     ]
    }
   ],
   "source": [
    "for i in range(0,10,2):\n",
    "    print('num is %s' %(i))"
   ]
  },
  {
   "cell_type": "code",
   "execution_count": 308,
   "id": "e0847b50",
   "metadata": {},
   "outputs": [
    {
     "data": {
      "text/plain": [
       "6.544"
      ]
     },
     "execution_count": 308,
     "metadata": {},
     "output_type": "execute_result"
    }
   ],
   "source": [
    "a = -6.544\n",
    "abs(a)"
   ]
  },
  {
   "cell_type": "code",
   "execution_count": 309,
   "id": "9c576fd3",
   "metadata": {},
   "outputs": [
    {
     "name": "stdout",
     "output_type": "stream",
     "text": [
      "sum of 5 and 6 is 11\n"
     ]
    }
   ],
   "source": [
    "def num(a,b):\n",
    "    return a+b\n",
    "a, b = 5, 6\n",
    "print('sum of {} and {} is {}'.format(a,b,num(a,b)))"
   ]
  },
  {
   "cell_type": "code",
   "execution_count": 319,
   "id": "56840fb9",
   "metadata": {},
   "outputs": [
    {
     "name": "stdout",
     "output_type": "stream",
     "text": [
      "enter your name: 556\n",
      "hello 556\n"
     ]
    }
   ],
   "source": [
    "a = 'hello {}'\n",
    "b = input('enter your name: ')\n",
    "print(a.format(b))"
   ]
  },
  {
   "cell_type": "code",
   "execution_count": 360,
   "id": "73a32d88",
   "metadata": {},
   "outputs": [
    {
     "data": {
      "text/plain": [
       "'An integer: 1 ; a float: 0.100000 ; another string: string '"
      ]
     },
     "execution_count": 360,
     "metadata": {},
     "output_type": "execute_result"
    }
   ],
   "source": [
    "'An integer: %i ; a float: %f ; another string: %s ' % (1, 0.1, 'string') \n",
    "# with␣more values use tuple after %"
   ]
  },
  {
   "cell_type": "code",
   "execution_count": 320,
   "id": "577e4479",
   "metadata": {},
   "outputs": [
    {
     "name": "stdout",
     "output_type": "stream",
     "text": [
      "Help on built-in function max in module builtins:\n",
      "\n",
      "max(...)\n",
      "    max(iterable, *[, default=obj, key=func]) -> value\n",
      "    max(arg1, arg2, *args, *[, key=func]) -> value\n",
      "    \n",
      "    With a single iterable argument, return its biggest item. The\n",
      "    default keyword-only argument specifies an object to return if\n",
      "    the provided iterable is empty.\n",
      "    With two or more arguments, return the largest argument.\n",
      "\n"
     ]
    }
   ],
   "source": []
  },
  {
   "cell_type": "markdown",
   "id": "1f017147",
   "metadata": {},
   "source": [
    "# Escaping-Behaviors"
   ]
  },
  {
   "cell_type": "code",
   "execution_count": 42,
   "id": "9b520856",
   "metadata": {},
   "outputs": [
    {
     "name": "stdout",
     "output_type": "stream",
     "text": [
      "Today's class is going \"great\".\n"
     ]
    }
   ],
   "source": [
    "#  \\ is used to excep the special char\n",
    "my_var_6 = \"Today\\'s class is going \\\"great\\\".\"\n",
    "print(my_var_6)"
   ]
  },
  {
   "cell_type": "code",
   "execution_count": 43,
   "id": "48c42c50",
   "metadata": {},
   "outputs": [
    {
     "name": "stdout",
     "output_type": "stream",
     "text": [
      "Today's class is going \"great\".\n"
     ]
    }
   ],
   "source": [
    "my_var_6 = 'Today\\'s class is going \\\"great\\\".'\n",
    "print(my_var_6)"
   ]
  },
  {
   "cell_type": "code",
   "execution_count": 46,
   "id": "8402df34",
   "metadata": {},
   "outputs": [
    {
     "data": {
      "text/plain": [
       "'Lorem ipsum dolor sit amet, consectetur adipiscing elitdo eiusmod tempor incididunt ut labore et dolore magna aliqua. Ut enim ad minim veniam, quis nostrud exercitation ullamco '"
      ]
     },
     "execution_count": 46,
     "metadata": {},
     "output_type": "execute_result"
    }
   ],
   "source": [
    "#Line continuation\n",
    "my_line = 'Lorem ipsum dolor sit amet, consectetur adipiscing elit' \\\n",
    "'do eiusmod tempor incididunt ut labore et dolore magna aliqua. ' \\\n",
    "'Ut enim ad minim veniam, quis nostrud exercitation ullamco '\n",
    "my_line"
   ]
  },
  {
   "cell_type": "code",
   "execution_count": 47,
   "id": "59d4af2c",
   "metadata": {},
   "outputs": [
    {
     "name": "stdout",
     "output_type": "stream",
     "text": [
      "Hello,\n",
      "World!\n"
     ]
    }
   ],
   "source": [
    "## Newline\n",
    "message = 'Hello,\\nWorld!'\n",
    "print(message)"
   ]
  },
  {
   "cell_type": "markdown",
   "id": "fcddb3c0",
   "metadata": {},
   "source": [
    "# Multiple Line Statement"
   ]
  },
  {
   "cell_type": "markdown",
   "id": "c5ad0590",
   "metadata": {},
   "source": [
    "- Another good use case of the `triple single quotes` is to represent multi line statements"
   ]
  },
  {
   "cell_type": "code",
   "execution_count": 48,
   "id": "29f3c0d8",
   "metadata": {},
   "outputs": [
    {
     "ename": "SyntaxError",
     "evalue": "unterminated string literal (detected at line 1) (2147241785.py, line 1)",
     "output_type": "error",
     "traceback": [
      "\u001b[1;36m  Cell \u001b[1;32mIn[48], line 1\u001b[1;36m\u001b[0m\n\u001b[1;33m    note = \"This is our Python class.\u001b[0m\n\u001b[1;37m           ^\u001b[0m\n\u001b[1;31mSyntaxError\u001b[0m\u001b[1;31m:\u001b[0m unterminated string literal (detected at line 1)\n"
     ]
    }
   ],
   "source": [
    "note = \"This is our Python class.\n",
    "It's going good.\n",
    "We are coding with the trainer.\"\n",
    "print(note)"
   ]
  },
  {
   "cell_type": "code",
   "execution_count": 49,
   "id": "ad788389",
   "metadata": {},
   "outputs": [
    {
     "name": "stdout",
     "output_type": "stream",
     "text": [
      "This is our Python class.\n",
      "It's going good.\n",
      "We are coding with the trainer.\n"
     ]
    }
   ],
   "source": [
    "note = '''This is our Python class.\n",
    "It's going good.\n",
    "We are coding with the trainer.'''\n",
    "print(note)"
   ]
  },
  {
   "cell_type": "raw",
   "id": "2efbd3cb",
   "metadata": {},
   "source": [
    "Escape charaters: Backslash( \\ ) is used to include special characters within strings (', \")\n",
    "Line continuation and newline : A backslash at the end of a line is used for line continuation & a backslash followed by the character 'n' (\\n) to represent a newline character\n",
    "Raw Strings: Prefixing a string with 'r' or 'R' denotes a raw string (will be used in Pandas I/O process)"
   ]
  },
  {
   "cell_type": "markdown",
   "id": "c6201b94",
   "metadata": {},
   "source": [
    "# USER input"
   ]
  },
  {
   "cell_type": "code",
   "execution_count": 24,
   "id": "c9f18caa",
   "metadata": {},
   "outputs": [
    {
     "name": "stdout",
     "output_type": "stream",
     "text": [
      "enter your name: reddy\n"
     ]
    }
   ],
   "source": [
    "name = input(\"enter your name: \")"
   ]
  },
  {
   "cell_type": "code",
   "execution_count": 329,
   "id": "81066d99",
   "metadata": {
    "scrolled": false
   },
   "outputs": [
    {
     "name": "stdout",
     "output_type": "stream",
     "text": [
      "enter your age: 20\n"
     ]
    },
    {
     "data": {
      "text/plain": [
       "str"
      ]
     },
     "execution_count": 329,
     "metadata": {},
     "output_type": "execute_result"
    }
   ],
   "source": [
    "age = input('enter your age: ')\n",
    "type(age)"
   ]
  },
  {
   "cell_type": "code",
   "execution_count": 330,
   "id": "11f7b056",
   "metadata": {},
   "outputs": [
    {
     "name": "stdout",
     "output_type": "stream",
     "text": [
      "enter your data:20\n",
      "30\n"
     ]
    },
    {
     "data": {
      "text/plain": [
       "int"
      ]
     },
     "execution_count": 330,
     "metadata": {},
     "output_type": "execute_result"
    }
   ],
   "source": [
    "x=int(input(\"enter your data:\"))\n",
    "print(x+10)\n",
    "type(x)"
   ]
  },
  {
   "cell_type": "code",
   "execution_count": 331,
   "id": "2c60ce5d",
   "metadata": {},
   "outputs": [
    {
     "data": {
      "text/plain": [
       "20"
      ]
     },
     "execution_count": 331,
     "metadata": {},
     "output_type": "execute_result"
    }
   ],
   "source": [
    "x"
   ]
  },
  {
   "cell_type": "code",
   "execution_count": 332,
   "id": "3e74de2f",
   "metadata": {},
   "outputs": [
    {
     "data": {
      "text/plain": [
       "'20'"
      ]
     },
     "execution_count": 332,
     "metadata": {},
     "output_type": "execute_result"
    }
   ],
   "source": [
    "age"
   ]
  },
  {
   "cell_type": "code",
   "execution_count": 333,
   "id": "81a73e00",
   "metadata": {},
   "outputs": [
    {
     "name": "stdout",
     "output_type": "stream",
     "text": [
      "20\n",
      "30\n",
      "2030\n"
     ]
    }
   ],
   "source": [
    "def fun():\n",
    "    a = input()\n",
    "    b = input() # they r string\n",
    "    x = a+b\n",
    "    print(x)\n",
    "fun()"
   ]
  },
  {
   "cell_type": "code",
   "execution_count": 335,
   "id": "85053bf3",
   "metadata": {},
   "outputs": [
    {
     "name": "stdout",
     "output_type": "stream",
     "text": [
      "20\n",
      "30\n",
      "50\n"
     ]
    }
   ],
   "source": [
    "def fun():\n",
    "    a = int(input())\n",
    "    b = int(input()) \n",
    "    x = a+b\n",
    "    print(x)\n",
    "fun()"
   ]
  },
  {
   "cell_type": "code",
   "execution_count": 336,
   "id": "cb85b84c",
   "metadata": {},
   "outputs": [
    {
     "name": "stdout",
     "output_type": "stream",
     "text": [
      "10\n",
      "20\n"
     ]
    },
    {
     "data": {
      "text/plain": [
       "30"
      ]
     },
     "execution_count": 336,
     "metadata": {},
     "output_type": "execute_result"
    }
   ],
   "source": [
    "def fun():\n",
    "    a = int(input())\n",
    "    b = int(input()) \n",
    "    return a+b\n",
    "fun()"
   ]
  },
  {
   "cell_type": "code",
   "execution_count": null,
   "id": "3b90bc7d",
   "metadata": {},
   "outputs": [],
   "source": []
  },
  {
   "cell_type": "markdown",
   "id": "1f661f27",
   "metadata": {},
   "source": [
    "# Conditional Statements"
   ]
  },
  {
   "cell_type": "raw",
   "id": "1b599108",
   "metadata": {},
   "source": [
    "-Conditional Statements are used to change the flow of execution when a \n",
    "particular condition evaluates to True or False\n",
    "\n",
    "-if :single comdition\n",
    "-if else:last part of the condition statement\n",
    "-if elif:The elif keyword used when we have multiple conditions and want to check them one by one"
   ]
  },
  {
   "cell_type": "raw",
   "id": "d1183f7e",
   "metadata": {},
   "source": [
    "syntax\n",
    "if condition:\n",
    "    statement\n",
    "elif condition:\n",
    "    statement\n",
    "else :\n",
    "    statement"
   ]
  },
  {
   "cell_type": "code",
   "execution_count": 141,
   "id": "caef0ed6",
   "metadata": {},
   "outputs": [
    {
     "name": "stdout",
     "output_type": "stream",
     "text": [
      "enter marks: 85\n",
      "Grade A\n"
     ]
    }
   ],
   "source": [
    "marks = int(input(\"enter marks: \"))\n",
    "if marks >=95:\n",
    "    print('Grade A+')\n",
    "elif marks >=80:\n",
    "    print('Grade A')\n",
    "else:\n",
    "    print(\"scored well\")"
   ]
  },
  {
   "cell_type": "code",
   "execution_count": 143,
   "id": "da437da1",
   "metadata": {},
   "outputs": [
    {
     "name": "stdout",
     "output_type": "stream",
     "text": [
      "fail\n"
     ]
    }
   ],
   "source": [
    "marks = 40\n",
    "if marks > 50:\n",
    "    print('pass')\n",
    "else :\n",
    "    print('fail')"
   ]
  },
  {
   "cell_type": "code",
   "execution_count": 287,
   "id": "78ce5e69",
   "metadata": {},
   "outputs": [
    {
     "name": "stdout",
     "output_type": "stream",
     "text": [
      "w is greater\n"
     ]
    }
   ],
   "source": [
    "v = 5\n",
    "w = 10\n",
    "if v>w:\n",
    "    print('v is greater than w')\n",
    "else:\n",
    "    print('w is greater')"
   ]
  },
  {
   "cell_type": "code",
   "execution_count": 289,
   "id": "5d61da4d",
   "metadata": {},
   "outputs": [
    {
     "name": "stdout",
     "output_type": "stream",
     "text": [
      "z is greater\n"
     ]
    }
   ],
   "source": [
    "x=16\n",
    "y=21\n",
    "z=125\n",
    "if x>y and x>z:\n",
    "    print(\" x is greater\")\n",
    "elif y>x and y>z:\n",
    "    print(\"y is greater\")\n",
    "else:\n",
    "    print(\"z is greater\")"
   ]
  },
  {
   "cell_type": "code",
   "execution_count": 293,
   "id": "719b0722",
   "metadata": {
    "scrolled": true
   },
   "outputs": [
    {
     "name": "stdout",
     "output_type": "stream",
     "text": [
      "odd\n"
     ]
    }
   ],
   "source": [
    "x = 11\n",
    "if x//2==0:\n",
    "    print('even')\n",
    "else:\n",
    "    print('odd')"
   ]
  },
  {
   "cell_type": "code",
   "execution_count": 520,
   "id": "797faa96",
   "metadata": {},
   "outputs": [
    {
     "name": "stdout",
     "output_type": "stream",
     "text": [
      "2 3 4 "
     ]
    }
   ],
   "source": [
    "def update(x):\n",
    "    for i in x:\n",
    "        if i < 0:\n",
    "            break\n",
    "        else:\n",
    "            print(i+1, end=\" \")\n",
    "a = [1,2,3,-4,5]\n",
    "update(a)"
   ]
  },
  {
   "cell_type": "code",
   "execution_count": 522,
   "id": "a0f26cef",
   "metadata": {},
   "outputs": [
    {
     "name": "stdout",
     "output_type": "stream",
     "text": [
      "100.0\n"
     ]
    }
   ],
   "source": [
    "import math as mh\n",
    "x =10\n",
    "print(mh.pow(x,2))"
   ]
  },
  {
   "cell_type": "code",
   "execution_count": 20,
   "id": "132cbe3c",
   "metadata": {},
   "outputs": [
    {
     "name": "stdout",
     "output_type": "stream",
     "text": [
      "You qualify for a loan.\n"
     ]
    }
   ],
   "source": [
    "##Nested if \n",
    "age = 25\n",
    "income = 50000\n",
    "if age >= 18:\n",
    "    if income >= 30000:\n",
    "        print(\"You qualify for a loan.\")\n",
    "    else:\n",
    "        print(\"Your income is too low for a loan.\")\n",
    "else:\n",
    "    print(\"You are too young to apply for a loan.\")"
   ]
  },
  {
   "cell_type": "code",
   "execution_count": 210,
   "id": "d2e4e9e1",
   "metadata": {},
   "outputs": [
    {
     "name": "stdout",
     "output_type": "stream",
     "text": [
      "enter ineger: 555\n",
      "value is gtreater than 100\n",
      "done\n"
     ]
    }
   ],
   "source": [
    "ip = float(input('enter ineger: '))\n",
    "\n",
    "if ip  > 100:\n",
    "    print('value is gtreater than 100')\n",
    "if ip < 100:\n",
    "    print('value is lesser than 100')\n",
    "print('done')    "
   ]
  },
  {
   "cell_type": "code",
   "execution_count": 216,
   "id": "98343989",
   "metadata": {},
   "outputs": [
    {
     "name": "stdout",
     "output_type": "stream",
     "text": [
      "enter ineger: 20\n",
      "value is gtreater than 100\n",
      "done\n"
     ]
    }
   ],
   "source": [
    "ip = float(input('enter ineger: '))\n",
    "\n",
    "if ip < 100:\n",
    "    print('value is gtreater than 100')\n",
    "    if ip > 50:\n",
    "        print('value is lesser than 100 and greter than 50')\n",
    "print('done') "
   ]
  },
  {
   "cell_type": "code",
   "execution_count": 218,
   "id": "a64cac17",
   "metadata": {},
   "outputs": [
    {
     "name": "stdout",
     "output_type": "stream",
     "text": [
      "enter number: 150\n",
      "greater than 100\n",
      "done\n"
     ]
    }
   ],
   "source": [
    "ip = float(input('enter number: '))\n",
    "if ip < 100:\n",
    "    print('less than 100')\n",
    "else:\n",
    "    print('greater than 100')\n",
    "print('done')"
   ]
  },
  {
   "cell_type": "code",
   "execution_count": 219,
   "id": "85eb109f",
   "metadata": {},
   "outputs": [
    {
     "name": "stdout",
     "output_type": "stream",
     "text": [
      "Enter integer:115\n",
      "Greater than or equal to 100\n",
      "Less than 200\n",
      "Done\n"
     ]
    }
   ],
   "source": [
    "user_input = float(input('Enter integer:')) #user input\n",
    "\n",
    "if user_input >= 100:\n",
    "    print('Greater than or equal to 100')\n",
    "    \n",
    "    if user_input <200:\n",
    "        print('Less than 200')\n",
    "    else:\n",
    "        print('Greater than or equal to 200')\n",
    "else:\n",
    "    print('Less than 100')\n",
    "          \n",
    "print('Done')"
   ]
  },
  {
   "cell_type": "code",
   "execution_count": 222,
   "id": "7fc7cc2a",
   "metadata": {},
   "outputs": [
    {
     "name": "stdout",
     "output_type": "stream",
     "text": [
      "enter month: 6\n",
      "summer\n"
     ]
    }
   ],
   "source": [
    "ip = int(input('enter month: '))\n",
    "if ip in (11,12,1):\n",
    "    print('winter')\n",
    "elif ip in (2,3):\n",
    "    print('spring')\n",
    "elif ip in (4, 5, 6):\n",
    "    print('summer')\n",
    "elif ip in (7,8):\n",
    "    print('rainy')\n",
    "elif ip in (7,10):\n",
    "    print('autumn')\n",
    "else:\n",
    "    print('inavlid ip')"
   ]
  },
  {
   "cell_type": "code",
   "execution_count": 225,
   "id": "93b02950",
   "metadata": {},
   "outputs": [
    {
     "name": "stdout",
     "output_type": "stream",
     "text": [
      "Enter month in Number :10\n"
     ]
    }
   ],
   "source": [
    "month = int (input(\"Enter month in Number :\"))\n",
    "if month ==11 or month == 12 or month==1 :\n",
    "    print (\"Its Winter Season\")\n",
    "elif month == 2 or month == 3 :\n",
    "    print (\"Its Spring Season\")\n",
    "elif month == 4 or month == 5 or month == 6:\n",
    "    print(\" Its Summer Season\")\n",
    "elif month == 7 or month == 8:\n",
    "    print (\"Its Autum Season\")\n",
    "else :\n",
    "    print(\" Entered Invalid month\")"
   ]
  },
  {
   "cell_type": "code",
   "execution_count": 226,
   "id": "66111e2c",
   "metadata": {},
   "outputs": [
    {
     "name": "stdout",
     "output_type": "stream",
     "text": [
      "Please enter the number corresponding to months(from 1 to 12.).\n",
      "=> 5\n",
      "Spring season\n"
     ]
    }
   ],
   "source": [
    "user = int(input('Please enter the number corresponding to months(from 1 to 12.).\\n=> '))\n",
    "if user == 2 or 3:\n",
    "    print(\"Spring season\")\n",
    "elif user == 4 or 5 or 6:\n",
    "    print(\"Summer season\")\n",
    "elif user == 7 or 8:\n",
    "    print(\"Rainy season\")\n",
    "elif user == 9 or 10:\n",
    "    print(\"Autumn season\")\n",
    "else:\n",
    "    print('invalid month')\n"
   ]
  },
  {
   "cell_type": "code",
   "execution_count": null,
   "id": "5fddee36",
   "metadata": {},
   "outputs": [],
   "source": [
    "month = int(input(\"Enter number in month\"))\n",
    "if month==1:\n",
    "    print(\"winter\")\n",
    "elif month>1 and month<=3:\n",
    "    print(\"Spring\")\n",
    "elif month>3 and month<=6:\n",
    "    print(\"Summer\")\n",
    "elif month>6 and month<=8:\n",
    "    print(\"Rainy\")\n",
    "elif month>8 and month<=9:\n",
    "    print(\"Autum\")\n",
    "elif month>9 and month<=10:\n",
    "    print(\"Winter\")\n",
    "else:\n",
    "    print(\"Invalid input please enter number within 1 to 12\")\n"
   ]
  },
  {
   "cell_type": "code",
   "execution_count": 228,
   "id": "73ca0791",
   "metadata": {},
   "outputs": [
    {
     "name": "stdout",
     "output_type": "stream",
     "text": [
      "Enter the month(1-12):13\n",
      "Invalid Month. Please try again\n",
      "Enter the month(1-12):2\n",
      "The season for the month 2 is Spring.\n"
     ]
    }
   ],
   "source": [
    "while True:\n",
    "    month = int(input(\"Enter the month(1-12):\"))\n",
    "    \n",
    "    if 1 <= month <=12:\n",
    "        break\n",
    "    else:\n",
    "        print('Invalid Month. Please try again')\n",
    "\n",
    "if month ==11 or month ==12 or month==1:\n",
    "    season = 'Winter'\n",
    "elif month ==2 or month ==3:\n",
    "    season = 'Spring'\n",
    "elif month ==4 or month==5 or month==6:\n",
    "    season='Summer'\n",
    "elif month==7 or month==8:\n",
    "    season='Rainy'\n",
    "elif month==9 or month==10:\n",
    "    season='Autumn'\n",
    "else:\n",
    "    season='Invalid Month'\n",
    "    \n",
    "print(f\"The season for the month {month} is {season}.\")"
   ]
  },
  {
   "cell_type": "code",
   "execution_count": null,
   "id": "01f3be51",
   "metadata": {},
   "outputs": [],
   "source": []
  },
  {
   "cell_type": "code",
   "execution_count": null,
   "id": "faf85801",
   "metadata": {},
   "outputs": [],
   "source": []
  },
  {
   "cell_type": "code",
   "execution_count": null,
   "id": "2e19bd4e",
   "metadata": {},
   "outputs": [],
   "source": []
  },
  {
   "cell_type": "code",
   "execution_count": null,
   "id": "27895858",
   "metadata": {},
   "outputs": [],
   "source": []
  },
  {
   "cell_type": "raw",
   "id": "ef529bc7",
   "metadata": {},
   "source": [
    "Datatype = data types are the category of a data / or classification of a data\n",
    "1.built in \n",
    "2. user define datatype\n",
    "\n",
    "type() that is used to check the datatype of a variable\n",
    "\n",
    "built in data type\n",
    "1.Integer\n",
    "2. Float\n",
    "3. String\n",
    "4. Boolean"
   ]
  },
  {
   "cell_type": "code",
   "execution_count": 43,
   "id": "e09c9357",
   "metadata": {},
   "outputs": [
    {
     "name": "stdout",
     "output_type": "stream",
     "text": [
      "<class 'int'>\n"
     ]
    },
    {
     "data": {
      "text/plain": [
       "int"
      ]
     },
     "execution_count": 43,
     "metadata": {},
     "output_type": "execute_result"
    }
   ],
   "source": [
    "m =10\n",
    "print(type(m))\n",
    "type(m)"
   ]
  },
  {
   "cell_type": "code",
   "execution_count": 45,
   "id": "b34b80e5",
   "metadata": {},
   "outputs": [
    {
     "name": "stdout",
     "output_type": "stream",
     "text": [
      "-30\n"
     ]
    },
    {
     "data": {
      "text/plain": [
       "int"
      ]
     },
     "execution_count": 45,
     "metadata": {},
     "output_type": "execute_result"
    }
   ],
   "source": [
    "n = -30\n",
    "print(n)\n",
    "type(n)"
   ]
  },
  {
   "cell_type": "code",
   "execution_count": 46,
   "id": "6a74c074",
   "metadata": {},
   "outputs": [
    {
     "data": {
      "text/plain": [
       "float"
      ]
     },
     "execution_count": 46,
     "metadata": {},
     "output_type": "execute_result"
    }
   ],
   "source": [
    "a = 5.5\n",
    "type(a)"
   ]
  },
  {
   "cell_type": "raw",
   "id": "c1435d28",
   "metadata": {},
   "source": [
    "3. String(str)= squence of character example it can be name , 12334\n",
    "Rule\n",
    "anything that we will write inside quotes \" \", ' ' that would consider as string\n",
    "any values that has alphabet in it it would consider as string\n",
    "any special charater can be also string"
   ]
  },
  {
   "cell_type": "code",
   "execution_count": 48,
   "id": "f52df94f",
   "metadata": {},
   "outputs": [
    {
     "name": "stdout",
     "output_type": "stream",
     "text": [
      "Name\n"
     ]
    }
   ],
   "source": [
    "v = \"Name\"\n",
    "print(v)"
   ]
  },
  {
   "cell_type": "code",
   "execution_count": 49,
   "id": "8149e77b",
   "metadata": {},
   "outputs": [
    {
     "data": {
      "text/plain": [
       "'Name'"
      ]
     },
     "execution_count": 49,
     "metadata": {},
     "output_type": "execute_result"
    }
   ],
   "source": [
    "v"
   ]
  },
  {
   "cell_type": "code",
   "execution_count": 51,
   "id": "c878e007",
   "metadata": {},
   "outputs": [
    {
     "data": {
      "text/plain": [
       "str"
      ]
     },
     "execution_count": 51,
     "metadata": {},
     "output_type": "execute_result"
    }
   ],
   "source": [
    "d = \"s\"\n",
    "type(d)"
   ]
  },
  {
   "cell_type": "code",
   "execution_count": 52,
   "id": "58fa9361",
   "metadata": {},
   "outputs": [
    {
     "data": {
      "text/plain": [
       "str"
      ]
     },
     "execution_count": 52,
     "metadata": {},
     "output_type": "execute_result"
    }
   ],
   "source": [
    "x = \"123\"\n",
    "type(x)"
   ]
  },
  {
   "cell_type": "code",
   "execution_count": 53,
   "id": "6fa26bc4",
   "metadata": {},
   "outputs": [
    {
     "data": {
      "text/plain": [
       "str"
      ]
     },
     "execution_count": 53,
     "metadata": {},
     "output_type": "execute_result"
    }
   ],
   "source": [
    "f  = \"@#$%$\"\n",
    "type(f)"
   ]
  },
  {
   "cell_type": "code",
   "execution_count": 54,
   "id": "5ffcb32b",
   "metadata": {},
   "outputs": [
    {
     "data": {
      "text/plain": [
       "str"
      ]
     },
     "execution_count": 54,
     "metadata": {},
     "output_type": "execute_result"
    }
   ],
   "source": [
    "n =\",\"\n",
    "type(n)"
   ]
  },
  {
   "cell_type": "raw",
   "id": "1f638805",
   "metadata": {},
   "source": [
    "Boolean(bool) = a data type that has True and False inside it\n",
    " True\n",
    " False\n",
    " \n",
    " fist letter has to be capital letter in boolean"
   ]
  },
  {
   "cell_type": "code",
   "execution_count": 56,
   "id": "9c15e07a",
   "metadata": {},
   "outputs": [
    {
     "data": {
      "text/plain": [
       "True"
      ]
     },
     "execution_count": 56,
     "metadata": {},
     "output_type": "execute_result"
    }
   ],
   "source": [
    "a = 5\n",
    "b = 5\n",
    "a == b"
   ]
  },
  {
   "cell_type": "code",
   "execution_count": 58,
   "id": "61d5f802",
   "metadata": {},
   "outputs": [
    {
     "data": {
      "text/plain": [
       "False"
      ]
     },
     "execution_count": 58,
     "metadata": {},
     "output_type": "execute_result"
    }
   ],
   "source": [
    "a = 5 \n",
    "b = 6\n",
    "a == b"
   ]
  },
  {
   "cell_type": "code",
   "execution_count": 59,
   "id": "c2ef2891",
   "metadata": {},
   "outputs": [
    {
     "data": {
      "text/plain": [
       "bool"
      ]
     },
     "execution_count": 59,
     "metadata": {},
     "output_type": "execute_result"
    }
   ],
   "source": [
    "v = True\n",
    "type(v)"
   ]
  },
  {
   "cell_type": "markdown",
   "id": "545ac201",
   "metadata": {},
   "source": [
    "# LIST - [ ]"
   ]
  },
  {
   "cell_type": "code",
   "execution_count": null,
   "id": "307bb09d",
   "metadata": {},
   "outputs": [],
   "source": [
    "-mutable\n",
    "-ordered\n",
    "-allow duplicate\n",
    "\n",
    "List = sequence of ordered data (more than one data)\n",
    "rule= everthing we will write we will write inside []\n",
    "feature = it can have multiple datatype inside \n",
    "index would be also present"
   ]
  },
  {
   "cell_type": "code",
   "execution_count": 152,
   "id": "f816ec8a",
   "metadata": {},
   "outputs": [
    {
     "data": {
      "text/plain": [
       "[]"
      ]
     },
     "execution_count": 152,
     "metadata": {},
     "output_type": "execute_result"
    }
   ],
   "source": [
    "#creating empty list\n",
    "name = list()\n",
    "name"
   ]
  },
  {
   "cell_type": "code",
   "execution_count": 155,
   "id": "9060fd38",
   "metadata": {
    "scrolled": false
   },
   "outputs": [
    {
     "name": "stdout",
     "output_type": "stream",
     "text": [
      "[]\n"
     ]
    }
   ],
   "source": [
    "age = [] # empty list\n",
    "print(age)\n"
   ]
  },
  {
   "cell_type": "code",
   "execution_count": 60,
   "id": "73b83a6f",
   "metadata": {
    "collapsed": true
   },
   "outputs": [
    {
     "data": {
      "text/plain": [
       "['__add__',\n",
       " '__class__',\n",
       " '__class_getitem__',\n",
       " '__contains__',\n",
       " '__delattr__',\n",
       " '__delitem__',\n",
       " '__dir__',\n",
       " '__doc__',\n",
       " '__eq__',\n",
       " '__format__',\n",
       " '__ge__',\n",
       " '__getattribute__',\n",
       " '__getitem__',\n",
       " '__getstate__',\n",
       " '__gt__',\n",
       " '__hash__',\n",
       " '__iadd__',\n",
       " '__imul__',\n",
       " '__init__',\n",
       " '__init_subclass__',\n",
       " '__iter__',\n",
       " '__le__',\n",
       " '__len__',\n",
       " '__lt__',\n",
       " '__mul__',\n",
       " '__ne__',\n",
       " '__new__',\n",
       " '__reduce__',\n",
       " '__reduce_ex__',\n",
       " '__repr__',\n",
       " '__reversed__',\n",
       " '__rmul__',\n",
       " '__setattr__',\n",
       " '__setitem__',\n",
       " '__sizeof__',\n",
       " '__str__',\n",
       " '__subclasshook__',\n",
       " 'append',\n",
       " 'clear',\n",
       " 'copy',\n",
       " 'count',\n",
       " 'extend',\n",
       " 'index',\n",
       " 'insert',\n",
       " 'pop',\n",
       " 'remove',\n",
       " 'reverse',\n",
       " 'sort']"
      ]
     },
     "execution_count": 60,
     "metadata": {},
     "output_type": "execute_result"
    }
   ],
   "source": [
    "#### To show all the classes and methods in the list data type\n",
    "dir(list)"
   ]
  },
  {
   "cell_type": "code",
   "execution_count": 1,
   "id": "82ea8ae3",
   "metadata": {},
   "outputs": [
    {
     "data": {
      "text/plain": [
       "[10, 15, 6, 45]"
      ]
     },
     "execution_count": 1,
     "metadata": {},
     "output_type": "execute_result"
    }
   ],
   "source": [
    "age = [10,15,6,45]\n",
    "age"
   ]
  },
  {
   "cell_type": "code",
   "execution_count": 2,
   "id": "b9b3b62f",
   "metadata": {},
   "outputs": [
    {
     "data": {
      "text/plain": [
       "list"
      ]
     },
     "execution_count": 2,
     "metadata": {},
     "output_type": "execute_result"
    }
   ],
   "source": [
    "type(age)"
   ]
  },
  {
   "cell_type": "code",
   "execution_count": 158,
   "id": "86f31d8b",
   "metadata": {},
   "outputs": [
    {
     "data": {
      "text/plain": [
       "[10, 15, 6, 45, 32]"
      ]
     },
     "execution_count": 158,
     "metadata": {},
     "output_type": "execute_result"
    }
   ],
   "source": [
    "age.append(32)\n",
    "age"
   ]
  },
  {
   "cell_type": "code",
   "execution_count": 159,
   "id": "f29f100d",
   "metadata": {},
   "outputs": [
    {
     "data": {
      "text/plain": [
       "[10, 15, 6, 45, 32, [10, 12, 32]]"
      ]
     },
     "execution_count": 159,
     "metadata": {},
     "output_type": "execute_result"
    }
   ],
   "source": [
    "age.append([10,12,32])\n",
    "age"
   ]
  },
  {
   "cell_type": "markdown",
   "id": "13a58efd",
   "metadata": {},
   "source": [
    "You can delete an element in a list by calling the pop method on it. Pop \n",
    "will delete the element at the end of the list\n",
    "and gives output as deleted item"
   ]
  },
  {
   "cell_type": "code",
   "execution_count": 160,
   "id": "25c10585",
   "metadata": {},
   "outputs": [
    {
     "data": {
      "text/plain": [
       "[10, 12, 32]"
      ]
     },
     "execution_count": 160,
     "metadata": {},
     "output_type": "execute_result"
    }
   ],
   "source": [
    "age.pop()"
   ]
  },
  {
   "cell_type": "code",
   "execution_count": 161,
   "id": "165997af",
   "metadata": {},
   "outputs": [
    {
     "data": {
      "text/plain": [
       "[10, 15, 6, 45, 32]"
      ]
     },
     "execution_count": 161,
     "metadata": {},
     "output_type": "execute_result"
    }
   ],
   "source": [
    "age"
   ]
  },
  {
   "cell_type": "markdown",
   "id": "f68d37a9",
   "metadata": {},
   "source": [
    "You can also delete an element at a particular index, by passing the index \n",
    "in as parameters in the function call"
   ]
  },
  {
   "cell_type": "code",
   "execution_count": 162,
   "id": "da3e1a73",
   "metadata": {},
   "outputs": [
    {
     "data": {
      "text/plain": [
       "15"
      ]
     },
     "execution_count": 162,
     "metadata": {},
     "output_type": "execute_result"
    }
   ],
   "source": [
    "age.pop(1)"
   ]
  },
  {
   "cell_type": "code",
   "execution_count": 163,
   "id": "8288ab96",
   "metadata": {},
   "outputs": [
    {
     "data": {
      "text/plain": [
       "[10, 6, 45, 32]"
      ]
     },
     "execution_count": 163,
     "metadata": {},
     "output_type": "execute_result"
    }
   ],
   "source": [
    "age"
   ]
  },
  {
   "cell_type": "code",
   "execution_count": 223,
   "id": "07e9f967",
   "metadata": {},
   "outputs": [
    {
     "data": {
      "text/plain": [
       "8"
      ]
     },
     "execution_count": 223,
     "metadata": {},
     "output_type": "execute_result"
    }
   ],
   "source": [
    "list1=[1,2,3,4,5,\"good\",True,6.8]\n",
    "len(list1)"
   ]
  },
  {
   "cell_type": "code",
   "execution_count": 225,
   "id": "99cb302f",
   "metadata": {},
   "outputs": [
    {
     "data": {
      "text/plain": [
       "'good'"
      ]
     },
     "execution_count": 225,
     "metadata": {},
     "output_type": "execute_result"
    }
   ],
   "source": [
    "list1[5]"
   ]
  },
  {
   "cell_type": "code",
   "execution_count": 227,
   "id": "0522ab37",
   "metadata": {
    "scrolled": true
   },
   "outputs": [
    {
     "data": {
      "text/plain": [
       "4"
      ]
     },
     "execution_count": 227,
     "metadata": {},
     "output_type": "execute_result"
    }
   ],
   "source": [
    "list1.index(5)  #syntax: listname.index()"
   ]
  },
  {
   "cell_type": "markdown",
   "id": "ac6e0807",
   "metadata": {},
   "source": [
    "append()= this is used to add a element at the last of the list"
   ]
  },
  {
   "cell_type": "code",
   "execution_count": 229,
   "id": "a7f89ce1",
   "metadata": {},
   "outputs": [
    {
     "data": {
      "text/plain": [
       "[1, 2, 3, 4, 5, 'good', True, 6.8, 10]"
      ]
     },
     "execution_count": 229,
     "metadata": {},
     "output_type": "execute_result"
    }
   ],
   "source": [
    "list1.append(10)\n",
    "list1"
   ]
  },
  {
   "cell_type": "code",
   "execution_count": 230,
   "id": "c62126a6",
   "metadata": {},
   "outputs": [
    {
     "data": {
      "text/plain": [
       "[1, 2, 3, 4, 5, 'redt', 'good', True, 6.8, 10]"
      ]
     },
     "execution_count": 230,
     "metadata": {},
     "output_type": "execute_result"
    }
   ],
   "source": [
    "list1.insert(5,\"redt\") #insert(index, element)\n",
    "list1"
   ]
  },
  {
   "cell_type": "code",
   "execution_count": 1,
   "id": "fa77aa9c",
   "metadata": {},
   "outputs": [
    {
     "name": "stdout",
     "output_type": "stream",
     "text": [
      "[[1, 2, 3], [7, 8, 9], ['lion', 'panda']]\n"
     ]
    }
   ],
   "source": [
    "#Nested list\n",
    "c=[[1,2,3],[7,8,9],['lion','panda']]\n",
    "print(c)"
   ]
  },
  {
   "cell_type": "code",
   "execution_count": 2,
   "id": "cffc0838",
   "metadata": {},
   "outputs": [
    {
     "data": {
      "text/plain": [
       "2"
      ]
     },
     "execution_count": 2,
     "metadata": {},
     "output_type": "execute_result"
    }
   ],
   "source": [
    "c[0][1]"
   ]
  },
  {
   "cell_type": "code",
   "execution_count": 3,
   "id": "0bb93f19",
   "metadata": {
    "scrolled": true
   },
   "outputs": [
    {
     "data": {
      "text/plain": [
       "7"
      ]
     },
     "execution_count": 3,
     "metadata": {},
     "output_type": "execute_result"
    }
   ],
   "source": [
    "c[1][0]"
   ]
  },
  {
   "cell_type": "code",
   "execution_count": 4,
   "id": "411e122d",
   "metadata": {},
   "outputs": [
    {
     "data": {
      "text/plain": [
       "3"
      ]
     },
     "execution_count": 4,
     "metadata": {},
     "output_type": "execute_result"
    }
   ],
   "source": [
    "len(c)"
   ]
  },
  {
   "cell_type": "raw",
   "id": "96eecb51",
   "metadata": {},
   "source": [
    "#Slicing- fetching more then one element at a time\n",
    "[start index, stop index, step]"
   ]
  },
  {
   "cell_type": "code",
   "execution_count": 8,
   "id": "ba8cbf25",
   "metadata": {},
   "outputs": [
    {
     "data": {
      "text/plain": [
       "22"
      ]
     },
     "execution_count": 8,
     "metadata": {},
     "output_type": "execute_result"
    }
   ],
   "source": [
    "a='pandacsacsascacascasca'\n",
    "len(a)"
   ]
  },
  {
   "cell_type": "code",
   "execution_count": 61,
   "id": "68fb792f",
   "metadata": {},
   "outputs": [],
   "source": [
    "s=[2,4,56,78,6,34]"
   ]
  },
  {
   "cell_type": "code",
   "execution_count": 10,
   "id": "cf9a5da1",
   "metadata": {},
   "outputs": [
    {
     "data": {
      "text/plain": [
       "[2, 4, 56, 78, 6, 34]"
      ]
     },
     "execution_count": 10,
     "metadata": {},
     "output_type": "execute_result"
    }
   ],
   "source": [
    "s[:]"
   ]
  },
  {
   "cell_type": "code",
   "execution_count": 63,
   "id": "f9f11f49",
   "metadata": {},
   "outputs": [
    {
     "data": {
      "text/plain": [
       "[2, 4, 56, 78, 6, 34]"
      ]
     },
     "execution_count": 63,
     "metadata": {},
     "output_type": "execute_result"
    }
   ],
   "source": [
    "s[::]"
   ]
  },
  {
   "cell_type": "code",
   "execution_count": 11,
   "id": "d942fbe8",
   "metadata": {},
   "outputs": [
    {
     "data": {
      "text/plain": [
       "[2, 4, 56, 78, 6]"
      ]
     },
     "execution_count": 11,
     "metadata": {},
     "output_type": "execute_result"
    }
   ],
   "source": [
    "s[0:5]"
   ]
  },
  {
   "cell_type": "code",
   "execution_count": 12,
   "id": "a473be19",
   "metadata": {},
   "outputs": [
    {
     "data": {
      "text/plain": [
       "[2, 4, 56, 78, 6, 34]"
      ]
     },
     "execution_count": 12,
     "metadata": {},
     "output_type": "execute_result"
    }
   ],
   "source": [
    "s[0:]"
   ]
  },
  {
   "cell_type": "code",
   "execution_count": 14,
   "id": "0036828f",
   "metadata": {},
   "outputs": [
    {
     "data": {
      "text/plain": [
       "[2, 4, 56, 78, 6, 34]"
      ]
     },
     "execution_count": 14,
     "metadata": {},
     "output_type": "execute_result"
    }
   ],
   "source": [
    "s[:76]"
   ]
  },
  {
   "cell_type": "code",
   "execution_count": 15,
   "id": "55279823",
   "metadata": {},
   "outputs": [
    {
     "data": {
      "text/plain": [
       "[2, 4, 56]"
      ]
     },
     "execution_count": 15,
     "metadata": {},
     "output_type": "execute_result"
    }
   ],
   "source": [
    "s[0:3]"
   ]
  },
  {
   "cell_type": "code",
   "execution_count": 16,
   "id": "ae00d5cd",
   "metadata": {},
   "outputs": [
    {
     "data": {
      "text/plain": [
       "78"
      ]
     },
     "execution_count": 16,
     "metadata": {},
     "output_type": "execute_result"
    }
   ],
   "source": [
    "s[3]"
   ]
  },
  {
   "cell_type": "code",
   "execution_count": 17,
   "id": "a624dc2a",
   "metadata": {},
   "outputs": [
    {
     "data": {
      "text/plain": [
       "[2, 56, 6]"
      ]
     },
     "execution_count": 17,
     "metadata": {},
     "output_type": "execute_result"
    }
   ],
   "source": [
    "s[0:6:2]"
   ]
  },
  {
   "cell_type": "code",
   "execution_count": 18,
   "id": "d58ac8f8",
   "metadata": {},
   "outputs": [
    {
     "data": {
      "text/plain": [
       "[2, 4, 56]"
      ]
     },
     "execution_count": 18,
     "metadata": {},
     "output_type": "execute_result"
    }
   ],
   "source": [
    "s[:3]"
   ]
  },
  {
   "cell_type": "code",
   "execution_count": 19,
   "id": "9f6452b2",
   "metadata": {},
   "outputs": [
    {
     "data": {
      "text/plain": [
       "[2, 78]"
      ]
     },
     "execution_count": 19,
     "metadata": {},
     "output_type": "execute_result"
    }
   ],
   "source": [
    "s[0:6:3]"
   ]
  },
  {
   "cell_type": "code",
   "execution_count": 32,
   "id": "7d6b318b",
   "metadata": {},
   "outputs": [
    {
     "name": "stdout",
     "output_type": "stream",
     "text": [
      "[10, 20, 30, 50, 40]\n"
     ]
    }
   ],
   "source": [
    "my_list = [10, 20, 30, 40, 50]\n",
    "my_list[-2], my_list[-1] = my_list[-1], my_list[-2] # Swap the last two elements\n",
    "print(my_list) # [10, 20, 30, 50, 40]"
   ]
  },
  {
   "cell_type": "code",
   "execution_count": 62,
   "id": "4ee21e21",
   "metadata": {},
   "outputs": [
    {
     "data": {
      "text/plain": [
       "[34, 6, 78, 56, 4, 2]"
      ]
     },
     "execution_count": 62,
     "metadata": {},
     "output_type": "execute_result"
    }
   ],
   "source": [
    "#reversing list\n",
    "s[ : :-1]  #negative step size means you are going backward"
   ]
  },
  {
   "cell_type": "code",
   "execution_count": 64,
   "id": "6ddb4d99",
   "metadata": {},
   "outputs": [
    {
     "name": "stdout",
     "output_type": "stream",
     "text": [
      "[100, 'APC', 7, (3+5j), 7, 3.14, 'BBC', -10, 1.3333]\n"
     ]
    }
   ],
   "source": [
    "my_list = [100, \"APC\", 7,3+5j, 7, 3.14, \"BBC\", -10, 1.3333]\n",
    "print(my_list)"
   ]
  },
  {
   "cell_type": "code",
   "execution_count": 65,
   "id": "e9fdefc7",
   "metadata": {},
   "outputs": [
    {
     "data": {
      "text/plain": [
       "['APC', 7, (3+5j), 7, 3.14, 'BBC', -10, 1.3333]"
      ]
     },
     "execution_count": 65,
     "metadata": {},
     "output_type": "execute_result"
    }
   ],
   "source": [
    "my_list[1:len(my_list)] #starts from the index 1 till the end of the list"
   ]
  },
  {
   "cell_type": "code",
   "execution_count": 66,
   "id": "9d0bfbec",
   "metadata": {},
   "outputs": [
    {
     "data": {
      "text/plain": [
       "6"
      ]
     },
     "execution_count": 66,
     "metadata": {},
     "output_type": "execute_result"
    }
   ],
   "source": [
    "my_list.index('BBC')"
   ]
  },
  {
   "cell_type": "code",
   "execution_count": 68,
   "id": "3662dd20",
   "metadata": {},
   "outputs": [
    {
     "data": {
      "text/plain": [
       "[100, 'APC', 7, (3+5j), 7, 3.14, 'AKB', -10, 1.3333]"
      ]
     },
     "execution_count": 68,
     "metadata": {},
     "output_type": "execute_result"
    }
   ],
   "source": [
    "my_list[6] = 'AKB' \n",
    "my_list"
   ]
  },
  {
   "cell_type": "code",
   "execution_count": 71,
   "id": "a0a99cad",
   "metadata": {},
   "outputs": [
    {
     "data": {
      "text/plain": [
       "[1, 2, 3, 4, 5, 6, 99, 99, 98, 97, 96, 95]"
      ]
     },
     "execution_count": 71,
     "metadata": {},
     "output_type": "execute_result"
    }
   ],
   "source": [
    "my_num_1 = [1,2,3,4,5,6,99]\n",
    "my_num_2 = [99,98,97,96,95]\n",
    "my_combined_list = my_num_1 + my_num_2 # '+' means concatenation (seq data type)\n",
    "my_combined_list"
   ]
  },
  {
   "cell_type": "code",
   "execution_count": 73,
   "id": "697454b5",
   "metadata": {},
   "outputs": [
    {
     "data": {
      "text/plain": [
       "30"
      ]
     },
     "execution_count": 73,
     "metadata": {},
     "output_type": "execute_result"
    }
   ],
   "source": [
    "x, y = 10, 20\n",
    "x+y"
   ]
  },
  {
   "cell_type": "code",
   "execution_count": 74,
   "id": "38da366c",
   "metadata": {},
   "outputs": [],
   "source": [
    "my_num_1.append(my_num_2) "
   ]
  },
  {
   "cell_type": "code",
   "execution_count": 75,
   "id": "9c030786",
   "metadata": {},
   "outputs": [
    {
     "data": {
      "text/plain": [
       "[1, 2, 3, 4, 5, 6, 99, [99, 98, 97, 96, 95]]"
      ]
     },
     "execution_count": 75,
     "metadata": {},
     "output_type": "execute_result"
    }
   ],
   "source": [
    "my_num_1 #nested list"
   ]
  },
  {
   "cell_type": "code",
   "execution_count": 76,
   "id": "31fd1921",
   "metadata": {},
   "outputs": [
    {
     "data": {
      "text/plain": [
       "2"
      ]
     },
     "execution_count": 76,
     "metadata": {},
     "output_type": "execute_result"
    }
   ],
   "source": [
    "my_num_1[1]"
   ]
  },
  {
   "cell_type": "code",
   "execution_count": 78,
   "id": "7594c41f",
   "metadata": {},
   "outputs": [
    {
     "data": {
      "text/plain": [
       "[99, 98, 97, 96, 95]"
      ]
     },
     "execution_count": 78,
     "metadata": {},
     "output_type": "execute_result"
    }
   ],
   "source": [
    "my_num_1[-1]"
   ]
  },
  {
   "cell_type": "raw",
   "id": "4e313b6c",
   "metadata": {},
   "source": [
    "append() method: to add a single element at the end of the list\n",
    "extend() method: to add multiple elements at the end of the list\n",
    "insert() method: to insert an element at the specified index position The insert() method takes two arguments, the first is the index at which the element is to be inserted, and the second is the value/ element to be inserted"
   ]
  },
  {
   "cell_type": "code",
   "execution_count": 80,
   "id": "7c7665fa",
   "metadata": {},
   "outputs": [
    {
     "name": "stdout",
     "output_type": "stream",
     "text": [
      "[1, 2, 3, 4, 5, 6, 99, [99, 98, 97, 96, 95], 100, 100]\n"
     ]
    }
   ],
   "source": [
    "my_num_1.append(100)\n",
    "print(my_num_1)"
   ]
  },
  {
   "cell_type": "code",
   "execution_count": 81,
   "id": "0773ff9b",
   "metadata": {},
   "outputs": [
    {
     "data": {
      "text/plain": [
       "100"
      ]
     },
     "execution_count": 81,
     "metadata": {},
     "output_type": "execute_result"
    }
   ],
   "source": [
    "my_num_1.pop()"
   ]
  },
  {
   "cell_type": "code",
   "execution_count": 82,
   "id": "6f2f4445",
   "metadata": {
    "scrolled": true
   },
   "outputs": [
    {
     "ename": "TypeError",
     "evalue": "list.append() takes exactly one argument (3 given)",
     "output_type": "error",
     "traceback": [
      "\u001b[1;31m---------------------------------------------------------------------------\u001b[0m",
      "\u001b[1;31mTypeError\u001b[0m                                 Traceback (most recent call last)",
      "Cell \u001b[1;32mIn[82], line 1\u001b[0m\n\u001b[1;32m----> 1\u001b[0m my_num_1\u001b[38;5;241m.\u001b[39mappend(\u001b[38;5;241m101\u001b[39m,\u001b[38;5;241m102\u001b[39m,\u001b[38;5;241m103\u001b[39m)\n",
      "\u001b[1;31mTypeError\u001b[0m: list.append() takes exactly one argument (3 given)"
     ]
    }
   ],
   "source": [
    "my_num_1.append(101,102,103)"
   ]
  },
  {
   "cell_type": "code",
   "execution_count": 89,
   "id": "9c8d94ba",
   "metadata": {},
   "outputs": [
    {
     "name": "stdout",
     "output_type": "stream",
     "text": [
      "[1, 3, 5, 7, 9] [0, 2, 4, 6, 8, 10]\n"
     ]
    }
   ],
   "source": [
    "o = [1,3,5,7,9]\n",
    "e = [0,2,4,6,8,10]\n",
    "print(o, e)"
   ]
  },
  {
   "cell_type": "code",
   "execution_count": 91,
   "id": "3b31a6e7",
   "metadata": {},
   "outputs": [
    {
     "data": {
      "text/plain": [
       "[1, 3, 5, 7, 9, 0, 2, 4, 6, 8, 10, 0, 2, 4, 6, 8, 10]"
      ]
     },
     "execution_count": 91,
     "metadata": {},
     "output_type": "execute_result"
    }
   ],
   "source": [
    "o.extend(e)\n",
    "o"
   ]
  },
  {
   "cell_type": "code",
   "execution_count": 96,
   "id": "46fe4760",
   "metadata": {},
   "outputs": [
    {
     "data": {
      "text/plain": [
       "[1, 3, 5, 100, 7, 9, 0, 2, 4, 6, 8, 10, 0, 2, 4, 6, 8, 10]"
      ]
     },
     "execution_count": 96,
     "metadata": {},
     "output_type": "execute_result"
    }
   ],
   "source": [
    "o.insert(3,100)\n",
    "o"
   ]
  },
  {
   "cell_type": "code",
   "execution_count": 100,
   "id": "91d1b093",
   "metadata": {},
   "outputs": [
    {
     "data": {
      "text/plain": [
       "100"
      ]
     },
     "execution_count": 100,
     "metadata": {},
     "output_type": "execute_result"
    }
   ],
   "source": [
    "o.pop(3)"
   ]
  },
  {
   "cell_type": "code",
   "execution_count": 99,
   "id": "66eb458f",
   "metadata": {},
   "outputs": [
    {
     "name": "stdout",
     "output_type": "stream",
     "text": [
      "[100, 'APC', 7, (3+5j), 7, 3.14, 'AKB', -10, 1.3333]\n"
     ]
    },
    {
     "data": {
      "text/plain": [
       "[1.3333, -10, 'AKB', 3.14, 7, (3+5j), 7]"
      ]
     },
     "execution_count": 99,
     "metadata": {},
     "output_type": "execute_result"
    }
   ],
   "source": [
    "print(my_list)\n",
    "my_list[-1:-8:-1]"
   ]
  },
  {
   "cell_type": "code",
   "execution_count": 103,
   "id": "1b1c80b4",
   "metadata": {},
   "outputs": [
    {
     "data": {
      "text/plain": [
       "[]"
      ]
     },
     "execution_count": 103,
     "metadata": {},
     "output_type": "execute_result"
    }
   ],
   "source": [
    "my_list[-1:-2]"
   ]
  },
  {
   "cell_type": "code",
   "execution_count": 104,
   "id": "e698c00a",
   "metadata": {},
   "outputs": [],
   "source": [
    "del e #del keyword can delete the whole list from the memory"
   ]
  },
  {
   "cell_type": "code",
   "execution_count": 105,
   "id": "8d8c8d6a",
   "metadata": {},
   "outputs": [
    {
     "ename": "NameError",
     "evalue": "name 'e' is not defined",
     "output_type": "error",
     "traceback": [
      "\u001b[1;31m---------------------------------------------------------------------------\u001b[0m",
      "\u001b[1;31mNameError\u001b[0m                                 Traceback (most recent call last)",
      "Cell \u001b[1;32mIn[105], line 1\u001b[0m\n\u001b[1;32m----> 1\u001b[0m e\n",
      "\u001b[1;31mNameError\u001b[0m: name 'e' is not defined"
     ]
    }
   ],
   "source": [
    "e"
   ]
  },
  {
   "cell_type": "raw",
   "id": "0baba494",
   "metadata": {},
   "source": [
    "#### using `del` method, a single element at a specific position can also be deleted"
   ]
  },
  {
   "cell_type": "code",
   "execution_count": 107,
   "id": "46f5f1a4",
   "metadata": {},
   "outputs": [
    {
     "data": {
      "text/plain": [
       "9"
      ]
     },
     "execution_count": 107,
     "metadata": {},
     "output_type": "execute_result"
    }
   ],
   "source": [
    "o[4]"
   ]
  },
  {
   "cell_type": "code",
   "execution_count": 108,
   "id": "0f206bc1",
   "metadata": {},
   "outputs": [],
   "source": [
    "del o[4]"
   ]
  },
  {
   "cell_type": "code",
   "execution_count": 109,
   "id": "3d9e4446",
   "metadata": {},
   "outputs": [
    {
     "data": {
      "text/plain": [
       "[1, 3, 5, 7, 0, 2, 4, 6, 8, 10, 0, 2, 4, 6, 8, 10]"
      ]
     },
     "execution_count": 109,
     "metadata": {},
     "output_type": "execute_result"
    }
   ],
   "source": [
    "o"
   ]
  },
  {
   "cell_type": "code",
   "execution_count": 110,
   "id": "992e7162",
   "metadata": {},
   "outputs": [],
   "source": [
    "o.remove(10) #removes the specific element 10 #one element at a time"
   ]
  },
  {
   "cell_type": "code",
   "execution_count": 111,
   "id": "3708e34a",
   "metadata": {},
   "outputs": [
    {
     "data": {
      "text/plain": [
       "[1, 3, 5, 7, 0, 2, 4, 6, 8, 0, 2, 4, 6, 8, 10]"
      ]
     },
     "execution_count": 111,
     "metadata": {},
     "output_type": "execute_result"
    }
   ],
   "source": [
    "o"
   ]
  },
  {
   "cell_type": "raw",
   "id": "90e11b10",
   "metadata": {},
   "source": [
    "pop() method takes the index as argument and deletes the element at that index & returns the deleted item\n",
    "If the index is not given, pop() deletes the last by default"
   ]
  },
  {
   "cell_type": "code",
   "execution_count": 113,
   "id": "0078bd25",
   "metadata": {},
   "outputs": [
    {
     "data": {
      "text/plain": [
       "10"
      ]
     },
     "execution_count": 113,
     "metadata": {},
     "output_type": "execute_result"
    }
   ],
   "source": [
    "o.pop()"
   ]
  },
  {
   "cell_type": "code",
   "execution_count": 114,
   "id": "b02f06bc",
   "metadata": {},
   "outputs": [
    {
     "data": {
      "text/plain": [
       "3"
      ]
     },
     "execution_count": 114,
     "metadata": {},
     "output_type": "execute_result"
    }
   ],
   "source": [
    "o.pop(1)"
   ]
  },
  {
   "cell_type": "code",
   "execution_count": 115,
   "id": "6ff74b0b",
   "metadata": {},
   "outputs": [],
   "source": [
    "o.clear() # it will flush out all the elements from the list but the list will still be there in the memory"
   ]
  },
  {
   "cell_type": "code",
   "execution_count": 116,
   "id": "d08485f1",
   "metadata": {},
   "outputs": [
    {
     "data": {
      "text/plain": [
       "0"
      ]
     },
     "execution_count": 116,
     "metadata": {},
     "output_type": "execute_result"
    }
   ],
   "source": [
    "0"
   ]
  },
  {
   "cell_type": "code",
   "execution_count": 124,
   "id": "d0db8c4c",
   "metadata": {},
   "outputs": [
    {
     "data": {
      "text/plain": [
       "[96, 2, 3, 10, 5, 6, 7]"
      ]
     },
     "execution_count": 124,
     "metadata": {},
     "output_type": "execute_result"
    }
   ],
   "source": [
    "aa = [96,2,3,10,5,6,7]\n",
    "aa"
   ]
  },
  {
   "cell_type": "code",
   "execution_count": 125,
   "id": "6c3fa84c",
   "metadata": {},
   "outputs": [
    {
     "data": {
      "text/plain": [
       "[7, 6, 5, 10, 3, 2, 96]"
      ]
     },
     "execution_count": 125,
     "metadata": {},
     "output_type": "execute_result"
    }
   ],
   "source": [
    "aa.reverse()\n",
    "aa"
   ]
  },
  {
   "cell_type": "code",
   "execution_count": 123,
   "id": "08e88371",
   "metadata": {
    "collapsed": true
   },
   "outputs": [
    {
     "data": {
      "text/plain": [
       "['__add__',\n",
       " '__class__',\n",
       " '__class_getitem__',\n",
       " '__contains__',\n",
       " '__delattr__',\n",
       " '__delitem__',\n",
       " '__dir__',\n",
       " '__doc__',\n",
       " '__eq__',\n",
       " '__format__',\n",
       " '__ge__',\n",
       " '__getattribute__',\n",
       " '__getitem__',\n",
       " '__getstate__',\n",
       " '__gt__',\n",
       " '__hash__',\n",
       " '__iadd__',\n",
       " '__imul__',\n",
       " '__init__',\n",
       " '__init_subclass__',\n",
       " '__iter__',\n",
       " '__le__',\n",
       " '__len__',\n",
       " '__lt__',\n",
       " '__mul__',\n",
       " '__ne__',\n",
       " '__new__',\n",
       " '__reduce__',\n",
       " '__reduce_ex__',\n",
       " '__repr__',\n",
       " '__reversed__',\n",
       " '__rmul__',\n",
       " '__setattr__',\n",
       " '__setitem__',\n",
       " '__sizeof__',\n",
       " '__str__',\n",
       " '__subclasshook__',\n",
       " 'append',\n",
       " 'clear',\n",
       " 'copy',\n",
       " 'count',\n",
       " 'extend',\n",
       " 'index',\n",
       " 'insert',\n",
       " 'pop',\n",
       " 'remove',\n",
       " 'reverse',\n",
       " 'sort']"
      ]
     },
     "execution_count": 123,
     "metadata": {},
     "output_type": "execute_result"
    }
   ],
   "source": [
    "dir(list)"
   ]
  },
  {
   "cell_type": "code",
   "execution_count": 126,
   "id": "6c21ef2c",
   "metadata": {},
   "outputs": [],
   "source": [
    "aa.sort()"
   ]
  },
  {
   "cell_type": "code",
   "execution_count": 127,
   "id": "19c26fd9",
   "metadata": {},
   "outputs": [
    {
     "data": {
      "text/plain": [
       "[2, 3, 5, 6, 7, 10, 96]"
      ]
     },
     "execution_count": 127,
     "metadata": {},
     "output_type": "execute_result"
    }
   ],
   "source": [
    "aa"
   ]
  },
  {
   "cell_type": "code",
   "execution_count": 128,
   "id": "e11d2e79",
   "metadata": {},
   "outputs": [
    {
     "data": {
      "text/plain": [
       "[96, 10, 7, 6, 5, 3, 2]"
      ]
     },
     "execution_count": 128,
     "metadata": {},
     "output_type": "execute_result"
    }
   ],
   "source": [
    "aa.sort(reverse=True)\n",
    "aa"
   ]
  },
  {
   "cell_type": "code",
   "execution_count": 129,
   "id": "4b82fe42",
   "metadata": {},
   "outputs": [
    {
     "data": {
      "text/plain": [
       "1"
      ]
     },
     "execution_count": 129,
     "metadata": {},
     "output_type": "execute_result"
    }
   ],
   "source": [
    "aa.count(10)"
   ]
  },
  {
   "cell_type": "markdown",
   "id": "00d6ac42",
   "metadata": {},
   "source": [
    "count: returns the number of occurrences of a specified element in the list"
   ]
  },
  {
   "cell_type": "code",
   "execution_count": 131,
   "id": "83a74f1c",
   "metadata": {},
   "outputs": [],
   "source": [
    "SKU_ID = \"SKU_12345\"\n",
    "SITE_ID = \"LOC_230\"\n",
    "CUST_ID = \"AKASH_007\""
   ]
  },
  {
   "cell_type": "code",
   "execution_count": 132,
   "id": "a569845c",
   "metadata": {},
   "outputs": [
    {
     "data": {
      "text/plain": [
       "'SKU_12345-LOC_230-AKASH_007'"
      ]
     },
     "execution_count": 132,
     "metadata": {},
     "output_type": "execute_result"
    }
   ],
   "source": [
    "# concatination\n",
    "SKU_ID + \"-\" + SITE_ID + \"-\" + CUST_ID"
   ]
  },
  {
   "cell_type": "code",
   "execution_count": 134,
   "id": "e7eee02c",
   "metadata": {},
   "outputs": [
    {
     "data": {
      "text/plain": [
       "'APC APC APC APC APC '"
      ]
     },
     "execution_count": 134,
     "metadata": {},
     "output_type": "execute_result"
    }
   ],
   "source": [
    "x=\"APC \"\n",
    "x*5 #repeats the string 5 times"
   ]
  },
  {
   "cell_type": "raw",
   "id": "e2939f5a",
   "metadata": {},
   "source": [
    "upper(): converts the string to uppercase\n",
    "\n",
    "lower(): converts the string to lowercase\n",
    "\n",
    "title(): converts the string to proper case"
   ]
  },
  {
   "cell_type": "code",
   "execution_count": 5,
   "id": "a490974c",
   "metadata": {},
   "outputs": [
    {
     "data": {
      "text/plain": [
       "'raGhunaTH reddY'"
      ]
     },
     "execution_count": 5,
     "metadata": {},
     "output_type": "execute_result"
    }
   ],
   "source": [
    "ww = \"raGhunaTH reddY\"\n",
    "ww"
   ]
  },
  {
   "cell_type": "code",
   "execution_count": 6,
   "id": "c7f7e1f9",
   "metadata": {},
   "outputs": [
    {
     "data": {
      "text/plain": [
       "'RAGHUNATH REDDY'"
      ]
     },
     "execution_count": 6,
     "metadata": {},
     "output_type": "execute_result"
    }
   ],
   "source": [
    "ww.upper()"
   ]
  },
  {
   "cell_type": "code",
   "execution_count": null,
   "id": "bc9267d0",
   "metadata": {},
   "outputs": [],
   "source": []
  },
  {
   "cell_type": "markdown",
   "id": "84ca7a6f",
   "metadata": {},
   "source": [
    "#### ww.lower()"
   ]
  },
  {
   "cell_type": "code",
   "execution_count": 139,
   "id": "dac29eb5",
   "metadata": {},
   "outputs": [
    {
     "data": {
      "text/plain": [
       "'Raghunath Reddy'"
      ]
     },
     "execution_count": 139,
     "metadata": {},
     "output_type": "execute_result"
    }
   ],
   "source": [
    "ww.title()  # proper"
   ]
  },
  {
   "cell_type": "code",
   "execution_count": 141,
   "id": "41e3dee2",
   "metadata": {},
   "outputs": [],
   "source": [
    "qq = 'raghu-nath-reddy'"
   ]
  },
  {
   "cell_type": "code",
   "execution_count": 142,
   "id": "e8704a1c",
   "metadata": {},
   "outputs": [
    {
     "data": {
      "text/plain": [
       "['raghu', 'nath', 'reddy']"
      ]
     },
     "execution_count": 142,
     "metadata": {},
     "output_type": "execute_result"
    }
   ],
   "source": [
    "qq.split('-')"
   ]
  },
  {
   "cell_type": "code",
   "execution_count": 143,
   "id": "e8e5fded",
   "metadata": {},
   "outputs": [],
   "source": [
    "qq = 'raghu nath reddy'"
   ]
  },
  {
   "cell_type": "code",
   "execution_count": 144,
   "id": "5138de67",
   "metadata": {},
   "outputs": [
    {
     "data": {
      "text/plain": [
       "['raghu', 'nath', 'reddy']"
      ]
     },
     "execution_count": 144,
     "metadata": {},
     "output_type": "execute_result"
    }
   ],
   "source": [
    "qq.split(' ')"
   ]
  },
  {
   "cell_type": "code",
   "execution_count": 145,
   "id": "358e56f6",
   "metadata": {},
   "outputs": [
    {
     "data": {
      "text/plain": [
       "['raghu', 'nath reddy']"
      ]
     },
     "execution_count": 145,
     "metadata": {},
     "output_type": "execute_result"
    }
   ],
   "source": [
    "qq.split(' ', maxsplit = 1)"
   ]
  },
  {
   "cell_type": "code",
   "execution_count": null,
   "id": "1f15157d",
   "metadata": {},
   "outputs": [],
   "source": []
  },
  {
   "cell_type": "code",
   "execution_count": 147,
   "id": "82627af5",
   "metadata": {},
   "outputs": [
    {
     "data": {
      "text/plain": [
       "'    raja   di    raja     '"
      ]
     },
     "execution_count": 147,
     "metadata": {},
     "output_type": "execute_result"
    }
   ],
   "source": [
    "ww = \"    raja   di    raja     \"\n",
    "ww   "
   ]
  },
  {
   "cell_type": "code",
   "execution_count": 148,
   "id": "10d39e82",
   "metadata": {},
   "outputs": [
    {
     "data": {
      "text/plain": [
       "'raja   di    raja'"
      ]
     },
     "execution_count": 148,
     "metadata": {},
     "output_type": "execute_result"
    }
   ],
   "source": [
    "ww.strip()"
   ]
  },
  {
   "cell_type": "code",
   "execution_count": 151,
   "id": "9305c747",
   "metadata": {},
   "outputs": [
    {
     "data": {
      "text/plain": [
       "11"
      ]
     },
     "execution_count": 151,
     "metadata": {},
     "output_type": "execute_result"
    }
   ],
   "source": [
    "ww.find('di')"
   ]
  },
  {
   "cell_type": "code",
   "execution_count": null,
   "id": "13a19f9c",
   "metadata": {},
   "outputs": [],
   "source": []
  },
  {
   "cell_type": "code",
   "execution_count": 152,
   "id": "cb3e2a1c",
   "metadata": {},
   "outputs": [
    {
     "data": {
      "text/plain": [
       "['Hello', 'World', 'how', 'are', 'you']"
      ]
     },
     "execution_count": 152,
     "metadata": {},
     "output_type": "execute_result"
    }
   ],
   "source": [
    "words = [\"Hello\", \"World\", \"how\", \"are\", \"you\"]\n",
    "words"
   ]
  },
  {
   "cell_type": "code",
   "execution_count": 154,
   "id": "01ff450c",
   "metadata": {},
   "outputs": [
    {
     "data": {
      "text/plain": [
       "'Hello World how are you'"
      ]
     },
     "execution_count": 154,
     "metadata": {},
     "output_type": "execute_result"
    }
   ],
   "source": [
    "qq = \" \".join(words)\n",
    "qq"
   ]
  },
  {
   "cell_type": "code",
   "execution_count": 155,
   "id": "036a733e",
   "metadata": {},
   "outputs": [
    {
     "data": {
      "text/plain": [
       "'Hello*World*how*are*you'"
      ]
     },
     "execution_count": 155,
     "metadata": {},
     "output_type": "execute_result"
    }
   ],
   "source": [
    "qq = \"*\".join(words)\n",
    "qq"
   ]
  },
  {
   "cell_type": "code",
   "execution_count": 159,
   "id": "d48a0065",
   "metadata": {},
   "outputs": [
    {
     "data": {
      "text/plain": [
       "'Hello, World!'"
      ]
     },
     "execution_count": 159,
     "metadata": {},
     "output_type": "execute_result"
    }
   ],
   "source": [
    "string = 'Hello, World!'\n",
    "string"
   ]
  },
  {
   "cell_type": "code",
   "execution_count": 158,
   "id": "98737b6d",
   "metadata": {},
   "outputs": [
    {
     "data": {
      "text/plain": [
       "'Hi, World!'"
      ]
     },
     "execution_count": 158,
     "metadata": {},
     "output_type": "execute_result"
    }
   ],
   "source": [
    "new_string = string.replace(\"Hello\", \"Hi\")\n",
    "new_string"
   ]
  },
  {
   "cell_type": "code",
   "execution_count": null,
   "id": "f9e48cbb",
   "metadata": {},
   "outputs": [],
   "source": []
  },
  {
   "cell_type": "code",
   "execution_count": null,
   "id": "25f789f7",
   "metadata": {},
   "outputs": [],
   "source": []
  },
  {
   "cell_type": "code",
   "execution_count": null,
   "id": "d9466d95",
   "metadata": {},
   "outputs": [],
   "source": []
  },
  {
   "cell_type": "code",
   "execution_count": 9,
   "id": "bb36a0df",
   "metadata": {},
   "outputs": [
    {
     "name": "stdout",
     "output_type": "stream",
     "text": [
      "apple\n",
      "orange\n",
      "banana\n",
      "kiwi\n"
     ]
    }
   ],
   "source": [
    "fruit_list = [\"apple\",\"orange\",\"banana\",\"kiwi\"]\n",
    "\n",
    "for fruit in fruit_list:\n",
    "    print(fruit)  # intendation is very important in python"
   ]
  },
  {
   "cell_type": "code",
   "execution_count": 10,
   "id": "e8a2207b",
   "metadata": {},
   "outputs": [
    {
     "data": {
      "text/plain": [
       "4"
      ]
     },
     "execution_count": 10,
     "metadata": {},
     "output_type": "execute_result"
    }
   ],
   "source": [
    "len(fruit_list)"
   ]
  },
  {
   "cell_type": "code",
   "execution_count": 11,
   "id": "aeea25d4",
   "metadata": {},
   "outputs": [
    {
     "name": "stdout",
     "output_type": "stream",
     "text": [
      "0\n",
      "1\n",
      "2\n",
      "3\n",
      "4\n",
      "5\n",
      "6\n",
      "7\n",
      "8\n",
      "9\n"
     ]
    }
   ],
   "source": [
    "for i in range(10):\n",
    "        print(i)"
   ]
  },
  {
   "cell_type": "code",
   "execution_count": 12,
   "id": "e52808ea",
   "metadata": {},
   "outputs": [
    {
     "name": "stdout",
     "output_type": "stream",
     "text": [
      "0\n",
      "1\n",
      "2\n",
      "3\n"
     ]
    }
   ],
   "source": [
    "for i in range(len(fruit_list)):\n",
    "    print(i)"
   ]
  },
  {
   "cell_type": "code",
   "execution_count": 13,
   "id": "0ca09884",
   "metadata": {},
   "outputs": [
    {
     "name": "stdout",
     "output_type": "stream",
     "text": [
      "0 apple\n",
      "1 orange\n",
      "2 banana\n",
      "3 kiwi\n"
     ]
    }
   ],
   "source": [
    "for i in range(len(fruit_list)):\n",
    "    print(i, fruit_list[i])"
   ]
  },
  {
   "cell_type": "code",
   "execution_count": 14,
   "id": "9ba2332e",
   "metadata": {},
   "outputs": [
    {
     "data": {
      "text/plain": [
       "'apple'"
      ]
     },
     "execution_count": 14,
     "metadata": {},
     "output_type": "execute_result"
    }
   ],
   "source": [
    "fruit_list[0]"
   ]
  },
  {
   "cell_type": "markdown",
   "id": "e9495ff4",
   "metadata": {},
   "source": [
    "Note: sort( ) function can be used to sort the elements inside a list. This function mutates the list"
   ]
  },
  {
   "cell_type": "code",
   "execution_count": 75,
   "id": "af9c081d",
   "metadata": {},
   "outputs": [
    {
     "name": "stdout",
     "output_type": "stream",
     "text": [
      "['apple', 'banana', 'kiwi', 'orange']\n"
     ]
    }
   ],
   "source": [
    "fruit_list.sort()\n",
    "print(fruit_list)"
   ]
  },
  {
   "cell_type": "code",
   "execution_count": 79,
   "id": "264d3033",
   "metadata": {},
   "outputs": [
    {
     "name": "stdout",
     "output_type": "stream",
     "text": [
      "['orange', 'kiwi', 'banana', 'apple']\n"
     ]
    }
   ],
   "source": [
    "fruit_list.sort(reverse = True)\n",
    "print(fruit_list)"
   ]
  },
  {
   "cell_type": "markdown",
   "id": "e04285dd",
   "metadata": {},
   "source": [
    "Note: reverse( ) function can be used to reverse the elements of a list. This function mutates the list"
   ]
  },
  {
   "cell_type": "code",
   "execution_count": 80,
   "id": "071a25fc",
   "metadata": {},
   "outputs": [
    {
     "data": {
      "text/plain": [
       "[10, 51, 3, 7, 1, 85, 35]"
      ]
     },
     "execution_count": 80,
     "metadata": {},
     "output_type": "execute_result"
    }
   ],
   "source": [
    "x = [10,51,3,7,1,85,35]\n",
    "x"
   ]
  },
  {
   "cell_type": "code",
   "execution_count": 81,
   "id": "bcb7a75e",
   "metadata": {},
   "outputs": [
    {
     "data": {
      "text/plain": [
       "list"
      ]
     },
     "execution_count": 81,
     "metadata": {},
     "output_type": "execute_result"
    }
   ],
   "source": [
    "type(x)"
   ]
  },
  {
   "cell_type": "code",
   "execution_count": 84,
   "id": "747959e7",
   "metadata": {},
   "outputs": [
    {
     "name": "stdout",
     "output_type": "stream",
     "text": [
      "[1, 3, 7, 10, 35, 51, 85]\n"
     ]
    }
   ],
   "source": [
    "x.sort()\n",
    "print(x)"
   ]
  },
  {
   "cell_type": "code",
   "execution_count": 85,
   "id": "2a0284f3",
   "metadata": {},
   "outputs": [
    {
     "data": {
      "text/plain": [
       "[1, 3, 7, 10, 35, 51, 85]"
      ]
     },
     "execution_count": 85,
     "metadata": {},
     "output_type": "execute_result"
    }
   ],
   "source": [
    "x"
   ]
  },
  {
   "cell_type": "code",
   "execution_count": 86,
   "id": "a8eff344",
   "metadata": {},
   "outputs": [
    {
     "name": "stdout",
     "output_type": "stream",
     "text": [
      "['kiwi', 'banana', 'orange', 'apple']\n"
     ]
    }
   ],
   "source": [
    "fruit_list = [\"apple\",\"orange\",\"banana\",\"kiwi\"]\n",
    "fruit_list.reverse() # just reverse the list\n",
    "print(fruit_list)"
   ]
  },
  {
   "cell_type": "markdown",
   "id": "af085fd3",
   "metadata": {},
   "source": [
    "Note: extend( ) function can be used to attach a new list to the end of the original list"
   ]
  },
  {
   "cell_type": "code",
   "execution_count": 87,
   "id": "ce11aa11",
   "metadata": {},
   "outputs": [
    {
     "name": "stdout",
     "output_type": "stream",
     "text": [
      "['apple', 'orange', 'banana', 'kiwi', 'strawberry', 'apple', 'pineapple', 'cherry']\n"
     ]
    }
   ],
   "source": [
    "fruit_list1 = [\"apple\",\"orange\",\"banana\",\"kiwi\"]\n",
    "fruit_list2 = [\"strawberry\",\"apple\",\"pineapple\",\"cherry\"]\n",
    "fruit_list1.extend(fruit_list2)\n",
    "print(fruit_list1)"
   ]
  },
  {
   "cell_type": "code",
   "execution_count": 88,
   "id": "efddb423",
   "metadata": {},
   "outputs": [
    {
     "data": {
      "text/plain": [
       "['strawberry', 'apple', 'pineapple', 'cherry']"
      ]
     },
     "execution_count": 88,
     "metadata": {},
     "output_type": "execute_result"
    }
   ],
   "source": [
    "fruit_list2"
   ]
  },
  {
   "cell_type": "markdown",
   "id": "850fa23b",
   "metadata": {},
   "source": [
    "Note: You need to distinguish between extend( ) and append( ) functions"
   ]
  },
  {
   "cell_type": "code",
   "execution_count": 89,
   "id": "ce2f6a44",
   "metadata": {},
   "outputs": [
    {
     "name": "stdout",
     "output_type": "stream",
     "text": [
      "[11, 22, 33, 44, [55, 66, 77, 88]]\n"
     ]
    }
   ],
   "source": [
    "a = [11,22,33,44]\n",
    "b = [55,66,77,88]\n",
    "a.append(b)\n",
    "print(a)\n"
   ]
  },
  {
   "cell_type": "code",
   "execution_count": 91,
   "id": "0d73795f",
   "metadata": {},
   "outputs": [
    {
     "name": "stdout",
     "output_type": "stream",
     "text": [
      "[11, 22, 33, 44, 55, 66, 77, 88]\n"
     ]
    }
   ],
   "source": [
    "a = [11,22,33,44]\n",
    "b = [55,66,77,88]\n",
    "a.extend(b)\n",
    "print(a)"
   ]
  },
  {
   "cell_type": "code",
   "execution_count": 93,
   "id": "f567d548",
   "metadata": {},
   "outputs": [
    {
     "name": "stdout",
     "output_type": "stream",
     "text": [
      "[44, 55, 66, 11, 22, 33]\n"
     ]
    }
   ],
   "source": [
    "number_list1 = [11,22,33]\n",
    "number_list2 = [44,55,66]\n",
    "number_list2.extend(number_list1)\n",
    "print(number_list2)"
   ]
  },
  {
   "cell_type": "code",
   "execution_count": 94,
   "id": "429906b1",
   "metadata": {},
   "outputs": [
    {
     "name": "stdout",
     "output_type": "stream",
     "text": [
      "[44, 55, 66, [11, 22, 33]]\n"
     ]
    }
   ],
   "source": [
    "number_list1 = [11,22,33]\n",
    "number_list2 = [44,55,66]\n",
    "number_list2.append(number_list1)\n",
    "print(number_list2)"
   ]
  },
  {
   "cell_type": "code",
   "execution_count": 95,
   "id": "93f0ef0c",
   "metadata": {},
   "outputs": [
    {
     "name": "stdout",
     "output_type": "stream",
     "text": [
      "[44, 55, 66, 11, 22, 33]\n"
     ]
    }
   ],
   "source": [
    "number_list1 = [11,22,33]\n",
    "number_list2 = [44,55,66]\n",
    "number_list2 += number_list1\n",
    "print(number_list2)"
   ]
  },
  {
   "cell_type": "markdown",
   "id": "11fa6fc1",
   "metadata": {},
   "source": [
    "Note: You can unpack lists by assigning lists to a sequence of variables. (Number of variables in sequence should be equal to number of items in the list)"
   ]
  },
  {
   "cell_type": "code",
   "execution_count": 101,
   "id": "acff112e",
   "metadata": {},
   "outputs": [
    {
     "name": "stdout",
     "output_type": "stream",
     "text": [
      "ball\n",
      "2.5\n",
      "True\n",
      "12\n",
      "science\n"
     ]
    }
   ],
   "source": [
    "x, y , z, a, b =['ball',2.5, True, 12, 'science']\n",
    "print(x)\n",
    "print(y)\n",
    "print(z)\n",
    "print(a)\n",
    "print(b)"
   ]
  },
  {
   "cell_type": "markdown",
   "id": "677d49ce",
   "metadata": {},
   "source": [
    "# TUPLES- ( )"
   ]
  },
  {
   "cell_type": "code",
   "execution_count": null,
   "id": "7fdc9bbd",
   "metadata": {},
   "outputs": [],
   "source": [
    "-Immutable\n",
    "-ordered\n",
    "-allow dumplicate\n",
    "-it can have multiple type of built in data "
   ]
  },
  {
   "cell_type": "code",
   "execution_count": 171,
   "id": "c8f69587",
   "metadata": {},
   "outputs": [
    {
     "data": {
      "text/plain": [
       "()"
      ]
     },
     "execution_count": 171,
     "metadata": {},
     "output_type": "execute_result"
    }
   ],
   "source": [
    "# creqting empty tuple\n",
    "age = ()\n",
    "age"
   ]
  },
  {
   "cell_type": "code",
   "execution_count": 165,
   "id": "e149150c",
   "metadata": {},
   "outputs": [
    {
     "data": {
      "text/plain": [
       "tuple"
      ]
     },
     "execution_count": 165,
     "metadata": {},
     "output_type": "execute_result"
    }
   ],
   "source": [
    "type(age)"
   ]
  },
  {
   "cell_type": "code",
   "execution_count": 167,
   "id": "202176c1",
   "metadata": {},
   "outputs": [
    {
     "name": "stdout",
     "output_type": "stream",
     "text": [
      "()\n",
      "<class 'tuple'>\n"
     ]
    }
   ],
   "source": [
    "name = tuple()\n",
    "print(name)\n",
    "print(type(name))"
   ]
  },
  {
   "cell_type": "code",
   "execution_count": 168,
   "id": "13747e73",
   "metadata": {},
   "outputs": [
    {
     "name": "stdout",
     "output_type": "stream",
     "text": [
      "(10, 13, 15, 1)\n"
     ]
    },
    {
     "data": {
      "text/plain": [
       "tuple"
      ]
     },
     "execution_count": 168,
     "metadata": {},
     "output_type": "execute_result"
    }
   ],
   "source": [
    "age = (10,13,15,1)\n",
    "print(age)\n",
    "type(age)"
   ]
  },
  {
   "cell_type": "code",
   "execution_count": 170,
   "id": "cce135c1",
   "metadata": {},
   "outputs": [
    {
     "name": "stdout",
     "output_type": "stream",
     "text": [
      "(10, 21, 34, 73, 2)\n"
     ]
    },
    {
     "data": {
      "text/plain": [
       "tuple"
      ]
     },
     "execution_count": 170,
     "metadata": {},
     "output_type": "execute_result"
    }
   ],
   "source": [
    "age1 = [10,21,34,73,2]\n",
    "aage2 = tuple(age1) \n",
    "print(aage2)\n",
    "type(aage2)"
   ]
  },
  {
   "cell_type": "code",
   "execution_count": 171,
   "id": "5f473c0f",
   "metadata": {},
   "outputs": [
    {
     "name": "stdout",
     "output_type": "stream",
     "text": [
      "(10, 20, 30, 40)\n"
     ]
    },
    {
     "data": {
      "text/plain": [
       "tuple"
      ]
     },
     "execution_count": 171,
     "metadata": {},
     "output_type": "execute_result"
    }
   ],
   "source": [
    "xx = 10,20,30,40\n",
    "print(xx)\n",
    "type(xx)"
   ]
  },
  {
   "cell_type": "code",
   "execution_count": 221,
   "id": "ab60f6b8",
   "metadata": {},
   "outputs": [
    {
     "name": "stdout",
     "output_type": "stream",
     "text": [
      "('hi', 1, 2, 3, 4, 7.6, 'hello', 2, True)\n"
     ]
    },
    {
     "data": {
      "text/plain": [
       "tuple"
      ]
     },
     "execution_count": 221,
     "metadata": {},
     "output_type": "execute_result"
    }
   ],
   "source": [
    "Tup=(\"hi\",1,2,3,4,7.6,\"hello\",2,True) \n",
    "print(Tup)\n",
    "type(Tup)"
   ]
  },
  {
   "cell_type": "markdown",
   "id": "82ec9530",
   "metadata": {},
   "source": [
    "len() = is used to priovide the number of the data that we are taking in side the user define"
   ]
  },
  {
   "cell_type": "code",
   "execution_count": 222,
   "id": "13da24f5",
   "metadata": {},
   "outputs": [
    {
     "data": {
      "text/plain": [
       "9"
      ]
     },
     "execution_count": 222,
     "metadata": {},
     "output_type": "execute_result"
    }
   ],
   "source": [
    "len(Tup)"
   ]
  },
  {
   "cell_type": "code",
   "execution_count": 231,
   "id": "ac6437f3",
   "metadata": {},
   "outputs": [
    {
     "ename": "AttributeError",
     "evalue": "'tuple' object has no attribute 'append'",
     "output_type": "error",
     "traceback": [
      "\u001b[1;31m---------------------------------------------------------------------------\u001b[0m",
      "\u001b[1;31mAttributeError\u001b[0m                            Traceback (most recent call last)",
      "Cell \u001b[1;32mIn[231], line 2\u001b[0m\n\u001b[0;32m      1\u001b[0m T1\u001b[38;5;241m=\u001b[39m(\u001b[38;5;241m1\u001b[39m,\u001b[38;5;241m2\u001b[39m,\u001b[38;5;241m3\u001b[39m,\u001b[38;5;241m4\u001b[39m)  \u001b[38;5;66;03m# TUPLES ARE IMMUTABLE\u001b[39;00m\n\u001b[1;32m----> 2\u001b[0m T1\u001b[38;5;241m.\u001b[39mappend(\u001b[38;5;241m5\u001b[39m)\n",
      "\u001b[1;31mAttributeError\u001b[0m: 'tuple' object has no attribute 'append'"
     ]
    }
   ],
   "source": [
    "T1=(1,2,3,4)  # TUPLES ARE IMMUTABLE\n",
    "T1.append(5)"
   ]
  },
  {
   "cell_type": "code",
   "execution_count": null,
   "id": "1b228d0a",
   "metadata": {},
   "outputs": [],
   "source": []
  },
  {
   "cell_type": "code",
   "execution_count": null,
   "id": "7cb4d0d0",
   "metadata": {},
   "outputs": [],
   "source": []
  },
  {
   "cell_type": "code",
   "execution_count": 174,
   "id": "0d2e007a",
   "metadata": {},
   "outputs": [
    {
     "data": {
      "text/plain": [
       "True"
      ]
     },
     "execution_count": 174,
     "metadata": {},
     "output_type": "execute_result"
    }
   ],
   "source": [
    "10 in xx  # membership operator (in, not in)"
   ]
  },
  {
   "cell_type": "code",
   "execution_count": 175,
   "id": "d478b3de",
   "metadata": {},
   "outputs": [
    {
     "data": {
      "text/plain": [
       "False"
      ]
     },
     "execution_count": 175,
     "metadata": {},
     "output_type": "execute_result"
    }
   ],
   "source": [
    "30 in age1"
   ]
  },
  {
   "cell_type": "code",
   "execution_count": 176,
   "id": "76c02ca7",
   "metadata": {},
   "outputs": [
    {
     "data": {
      "text/plain": [
       "True"
      ]
     },
     "execution_count": 176,
     "metadata": {},
     "output_type": "execute_result"
    }
   ],
   "source": [
    "30 not in age1"
   ]
  },
  {
   "cell_type": "code",
   "execution_count": 177,
   "id": "37b93c9c",
   "metadata": {},
   "outputs": [
    {
     "data": {
      "text/plain": [
       "1"
      ]
     },
     "execution_count": 177,
     "metadata": {},
     "output_type": "execute_result"
    }
   ],
   "source": [
    "xx.index(20)  # checking index\n"
   ]
  },
  {
   "cell_type": "code",
   "execution_count": 179,
   "id": "85d1dd75",
   "metadata": {},
   "outputs": [
    {
     "data": {
      "text/plain": [
       "2"
      ]
     },
     "execution_count": 179,
     "metadata": {},
     "output_type": "execute_result"
    }
   ],
   "source": [
    "age1.index(34)"
   ]
  },
  {
   "cell_type": "raw",
   "id": "af089559",
   "metadata": {},
   "source": [
    "index = the of position of element inside the memory \n",
    "index always starts from 0 and ends at length -1"
   ]
  },
  {
   "cell_type": "code",
   "execution_count": 181,
   "id": "280c77dd",
   "metadata": {},
   "outputs": [
    {
     "data": {
      "text/plain": [
       "34"
      ]
     },
     "execution_count": 181,
     "metadata": {},
     "output_type": "execute_result"
    }
   ],
   "source": [
    "age1[2]    #indexing/slicing\n"
   ]
  },
  {
   "cell_type": "code",
   "execution_count": 182,
   "id": "224048f0",
   "metadata": {},
   "outputs": [
    {
     "name": "stdout",
     "output_type": "stream",
     "text": [
      "(25, 18, 21, 40, 50, 45)\n"
     ]
    },
    {
     "data": {
      "text/plain": [
       "tuple"
      ]
     },
     "execution_count": 182,
     "metadata": {},
     "output_type": "execute_result"
    }
   ],
   "source": [
    "z = 25,18,21,40,50,45\n",
    "print(z)\n",
    "type(z)"
   ]
  },
  {
   "cell_type": "code",
   "execution_count": 183,
   "id": "cffd939c",
   "metadata": {},
   "outputs": [
    {
     "data": {
      "text/plain": [
       "(18, 21)"
      ]
     },
     "execution_count": 183,
     "metadata": {},
     "output_type": "execute_result"
    }
   ],
   "source": [
    "z[1:3]"
   ]
  },
  {
   "cell_type": "code",
   "execution_count": 184,
   "id": "5f75ba5e",
   "metadata": {},
   "outputs": [
    {
     "data": {
      "text/plain": [
       "45"
      ]
     },
     "execution_count": 184,
     "metadata": {},
     "output_type": "execute_result"
    }
   ],
   "source": [
    "z[-1]"
   ]
  },
  {
   "cell_type": "code",
   "execution_count": 186,
   "id": "79b34766",
   "metadata": {},
   "outputs": [
    {
     "data": {
      "text/plain": [
       "(21, 40)"
      ]
     },
     "execution_count": 186,
     "metadata": {},
     "output_type": "execute_result"
    }
   ],
   "source": [
    "z[-4:-2]"
   ]
  },
  {
   "cell_type": "markdown",
   "id": "5e61e786",
   "metadata": {},
   "source": [
    "# Dictionaries"
   ]
  },
  {
   "cell_type": "raw",
   "id": "14a221cf",
   "metadata": {},
   "source": [
    "-mutable\n",
    "-unordered\n",
    "-duplicate key not allowed\n",
    "-duplicate value allowed\n",
    "\n",
    "\n",
    "Dictionary = used to map a value\n",
    "rule = {key:value}\n",
    "key will always work like a index for that value\n",
    "in a dictionary key cannot be duplicate but a value can"
   ]
  },
  {
   "cell_type": "code",
   "execution_count": 187,
   "id": "ed1e2636",
   "metadata": {},
   "outputs": [
    {
     "data": {
      "text/plain": [
       "dict"
      ]
     },
     "execution_count": 187,
     "metadata": {},
     "output_type": "execute_result"
    }
   ],
   "source": [
    "#creating empty dict\n",
    "name = {}\n",
    "type(name)\n"
   ]
  },
  {
   "cell_type": "code",
   "execution_count": 188,
   "id": "7878c555",
   "metadata": {},
   "outputs": [
    {
     "data": {
      "text/plain": [
       "{}"
      ]
     },
     "execution_count": 188,
     "metadata": {},
     "output_type": "execute_result"
    }
   ],
   "source": [
    "age = dict()\n",
    "age"
   ]
  },
  {
   "cell_type": "code",
   "execution_count": 162,
   "id": "8c5e0d7c",
   "metadata": {},
   "outputs": [
    {
     "data": {
      "text/plain": [
       "dict"
      ]
     },
     "execution_count": 162,
     "metadata": {},
     "output_type": "execute_result"
    }
   ],
   "source": [
    "dict1 = [['a',1],['b',2],['c',3]]\n",
    "age =dict(dict1)\n",
    "type(age)"
   ]
  },
  {
   "cell_type": "code",
   "execution_count": 163,
   "id": "b8d34e87",
   "metadata": {},
   "outputs": [
    {
     "data": {
      "text/plain": [
       "{'a': 1, 'b': 2, 'c': 3}"
      ]
     },
     "execution_count": 163,
     "metadata": {},
     "output_type": "execute_result"
    }
   ],
   "source": [
    "age"
   ]
  },
  {
   "cell_type": "code",
   "execution_count": 164,
   "id": "4250196e",
   "metadata": {},
   "outputs": [
    {
     "data": {
      "text/plain": [
       "3"
      ]
     },
     "execution_count": 164,
     "metadata": {},
     "output_type": "execute_result"
    }
   ],
   "source": [
    "len(age)"
   ]
  },
  {
   "cell_type": "code",
   "execution_count": 165,
   "id": "d3e9a548",
   "metadata": {},
   "outputs": [
    {
     "data": {
      "text/plain": [
       "2"
      ]
     },
     "execution_count": 165,
     "metadata": {},
     "output_type": "execute_result"
    }
   ],
   "source": [
    "age['b']"
   ]
  },
  {
   "cell_type": "code",
   "execution_count": 166,
   "id": "b3601a1d",
   "metadata": {
    "scrolled": true
   },
   "outputs": [
    {
     "data": {
      "text/plain": [
       "['__class__',\n",
       " '__class_getitem__',\n",
       " '__contains__',\n",
       " '__delattr__',\n",
       " '__delitem__',\n",
       " '__dir__',\n",
       " '__doc__',\n",
       " '__eq__',\n",
       " '__format__',\n",
       " '__ge__',\n",
       " '__getattribute__',\n",
       " '__getitem__',\n",
       " '__getstate__',\n",
       " '__gt__',\n",
       " '__hash__',\n",
       " '__init__',\n",
       " '__init_subclass__',\n",
       " '__ior__',\n",
       " '__iter__',\n",
       " '__le__',\n",
       " '__len__',\n",
       " '__lt__',\n",
       " '__ne__',\n",
       " '__new__',\n",
       " '__or__',\n",
       " '__reduce__',\n",
       " '__reduce_ex__',\n",
       " '__repr__',\n",
       " '__reversed__',\n",
       " '__ror__',\n",
       " '__setattr__',\n",
       " '__setitem__',\n",
       " '__sizeof__',\n",
       " '__str__',\n",
       " '__subclasshook__',\n",
       " 'clear',\n",
       " 'copy',\n",
       " 'fromkeys',\n",
       " 'get',\n",
       " 'items',\n",
       " 'keys',\n",
       " 'pop',\n",
       " 'popitem',\n",
       " 'setdefault',\n",
       " 'update',\n",
       " 'values']"
      ]
     },
     "execution_count": 166,
     "metadata": {},
     "output_type": "execute_result"
    }
   ],
   "source": [
    "dir(dict)"
   ]
  },
  {
   "cell_type": "code",
   "execution_count": 167,
   "id": "e70bade5",
   "metadata": {},
   "outputs": [
    {
     "data": {
      "text/plain": [
       "{'a': 1, 'b': 2, 'c': 3, 'd': 4}"
      ]
     },
     "execution_count": 167,
     "metadata": {},
     "output_type": "execute_result"
    }
   ],
   "source": [
    "#adding value to dict\n",
    "age[\"d\"]=4\n",
    "age"
   ]
  },
  {
   "cell_type": "code",
   "execution_count": 168,
   "id": "823a0687",
   "metadata": {},
   "outputs": [
    {
     "data": {
      "text/plain": [
       "dict_keys(['a', 'b', 'c', 'd'])"
      ]
     },
     "execution_count": 168,
     "metadata": {},
     "output_type": "execute_result"
    }
   ],
   "source": [
    "age.keys()"
   ]
  },
  {
   "cell_type": "code",
   "execution_count": 169,
   "id": "87eea499",
   "metadata": {},
   "outputs": [
    {
     "data": {
      "text/plain": [
       "dict_values([1, 2, 3, 4])"
      ]
     },
     "execution_count": 169,
     "metadata": {},
     "output_type": "execute_result"
    }
   ],
   "source": [
    "age.values()"
   ]
  },
  {
   "cell_type": "code",
   "execution_count": 205,
   "id": "16bea92b",
   "metadata": {},
   "outputs": [
    {
     "data": {
      "text/plain": [
       "{'a': 1, 'b': 2, 'c': 3, 'd': 10}"
      ]
     },
     "execution_count": 205,
     "metadata": {},
     "output_type": "execute_result"
    }
   ],
   "source": [
    "#chneging value\n",
    "age[\"d\"]=10\n",
    "age"
   ]
  },
  {
   "cell_type": "code",
   "execution_count": 206,
   "id": "76c7a7e9",
   "metadata": {},
   "outputs": [],
   "source": [
    "del age[\"d\"] # deleing value using key\n"
   ]
  },
  {
   "cell_type": "code",
   "execution_count": 207,
   "id": "9fc534bf",
   "metadata": {},
   "outputs": [
    {
     "data": {
      "text/plain": [
       "{'a': 1, 'b': 2, 'c': 3}"
      ]
     },
     "execution_count": 207,
     "metadata": {},
     "output_type": "execute_result"
    }
   ],
   "source": [
    "age"
   ]
  },
  {
   "cell_type": "code",
   "execution_count": 208,
   "id": "6935790e",
   "metadata": {},
   "outputs": [
    {
     "data": {
      "text/plain": [
       "True"
      ]
     },
     "execution_count": 208,
     "metadata": {},
     "output_type": "execute_result"
    }
   ],
   "source": [
    "\"a\" in age"
   ]
  },
  {
   "cell_type": "code",
   "execution_count": 209,
   "id": "ed569cec",
   "metadata": {},
   "outputs": [
    {
     "data": {
      "text/plain": [
       "False"
      ]
     },
     "execution_count": 209,
     "metadata": {},
     "output_type": "execute_result"
    }
   ],
   "source": [
    "\"d\" in age\n"
   ]
  },
  {
   "cell_type": "code",
   "execution_count": 243,
   "id": "94200185",
   "metadata": {},
   "outputs": [
    {
     "data": {
      "text/plain": [
       "{'key1': 23, 'key2': 24, 'key3': 'joye', 'key4': 4.5}"
      ]
     },
     "execution_count": 243,
     "metadata": {},
     "output_type": "execute_result"
    }
   ],
   "source": [
    "Dict1= {\"key1\":23,\"key2\":24,\"key3\":\"joye\", \"key4\":4.5}\n",
    "Dict1"
   ]
  },
  {
   "cell_type": "code",
   "execution_count": 245,
   "id": "d6d41b76",
   "metadata": {},
   "outputs": [
    {
     "data": {
      "text/plain": [
       "23"
      ]
     },
     "execution_count": 245,
     "metadata": {},
     "output_type": "execute_result"
    }
   ],
   "source": [
    "Dict1[\"key1\"]"
   ]
  },
  {
   "cell_type": "code",
   "execution_count": 248,
   "id": "1b2c48a5",
   "metadata": {},
   "outputs": [
    {
     "data": {
      "text/plain": [
       "dict_keys(['key1', 'key2', 'key3', 'key4'])"
      ]
     },
     "execution_count": 248,
     "metadata": {},
     "output_type": "execute_result"
    }
   ],
   "source": [
    "Dict1.keys()"
   ]
  },
  {
   "cell_type": "code",
   "execution_count": 250,
   "id": "b471d255",
   "metadata": {},
   "outputs": [
    {
     "data": {
      "text/plain": [
       "dict_values([23, 24, 'joye', 4.5])"
      ]
     },
     "execution_count": 250,
     "metadata": {},
     "output_type": "execute_result"
    }
   ],
   "source": [
    "Dict1.values()"
   ]
  },
  {
   "cell_type": "code",
   "execution_count": 251,
   "id": "fc78113a",
   "metadata": {},
   "outputs": [
    {
     "data": {
      "text/plain": [
       "{'key1': 23, 'key2': 24, 'key3': 'joye', 'key4': 4.5, 'key5': 28}"
      ]
     },
     "execution_count": 251,
     "metadata": {},
     "output_type": "execute_result"
    }
   ],
   "source": [
    "Dict1[\"key5\"] = 28\n",
    "Dict1"
   ]
  },
  {
   "cell_type": "code",
   "execution_count": 253,
   "id": "c22aca07",
   "metadata": {
    "scrolled": true
   },
   "outputs": [
    {
     "data": {
      "text/plain": [
       "dict_items([('key1', 23), ('key2', 24), ('key3', 'joye'), ('key4', 4.5), ('key5', 28)])"
      ]
     },
     "execution_count": 253,
     "metadata": {},
     "output_type": "execute_result"
    }
   ],
   "source": [
    "Dict1.items()"
   ]
  },
  {
   "cell_type": "code",
   "execution_count": null,
   "id": "2f212dd1",
   "metadata": {},
   "outputs": [],
   "source": []
  },
  {
   "cell_type": "code",
   "execution_count": null,
   "id": "346f9f14",
   "metadata": {},
   "outputs": [],
   "source": []
  },
  {
   "cell_type": "markdown",
   "id": "e2f946c3",
   "metadata": {},
   "source": [
    "# SET - { }"
   ]
  },
  {
   "cell_type": "code",
   "execution_count": null,
   "id": "3903e76c",
   "metadata": {},
   "outputs": [],
   "source": [
    "-unordered\n",
    "-immutable\n",
    "-not allow duplicate"
   ]
  },
  {
   "cell_type": "code",
   "execution_count": 232,
   "id": "cb544ada",
   "metadata": {},
   "outputs": [
    {
     "data": {
      "text/plain": [
       "{1, 2, 3, 4, 5}"
      ]
     },
     "execution_count": 232,
     "metadata": {},
     "output_type": "execute_result"
    }
   ],
   "source": [
    "set1 ={1,2,3,4,5}\n",
    "set1"
   ]
  },
  {
   "cell_type": "code",
   "execution_count": 233,
   "id": "57a60f73",
   "metadata": {},
   "outputs": [
    {
     "data": {
      "text/plain": [
       "set"
      ]
     },
     "execution_count": 233,
     "metadata": {},
     "output_type": "execute_result"
    }
   ],
   "source": [
    "type(set1)"
   ]
  },
  {
   "cell_type": "code",
   "execution_count": 235,
   "id": "0229904c",
   "metadata": {},
   "outputs": [
    {
     "data": {
      "text/plain": [
       "set"
      ]
     },
     "execution_count": 235,
     "metadata": {},
     "output_type": "execute_result"
    }
   ],
   "source": [
    "#create empty set\n",
    "qq = set()\n",
    "type(qq)"
   ]
  },
  {
   "cell_type": "code",
   "execution_count": 174,
   "id": "7f425ff4",
   "metadata": {},
   "outputs": [
    {
     "data": {
      "text/plain": [
       "dict"
      ]
     },
     "execution_count": 174,
     "metadata": {},
     "output_type": "execute_result"
    }
   ],
   "source": [
    "a = {} # just curly bracket give dict not set\n",
    "type(a)"
   ]
  },
  {
   "cell_type": "code",
   "execution_count": null,
   "id": "bedcb964",
   "metadata": {},
   "outputs": [],
   "source": []
  },
  {
   "cell_type": "code",
   "execution_count": 236,
   "id": "4cd613b7",
   "metadata": {},
   "outputs": [
    {
     "data": {
      "text/plain": [
       "{1, 2, 3, 4, 5}"
      ]
     },
     "execution_count": 236,
     "metadata": {},
     "output_type": "execute_result"
    }
   ],
   "source": [
    "set2={1,2,3,3,4,5,5} # no duplicate allowed\n",
    "set2"
   ]
  },
  {
   "cell_type": "code",
   "execution_count": 237,
   "id": "2a73c5f4",
   "metadata": {},
   "outputs": [
    {
     "data": {
      "text/plain": [
       "5"
      ]
     },
     "execution_count": 237,
     "metadata": {},
     "output_type": "execute_result"
    }
   ],
   "source": [
    "len(set2)"
   ]
  },
  {
   "cell_type": "code",
   "execution_count": 238,
   "id": "7a2ba9dc",
   "metadata": {},
   "outputs": [
    {
     "ename": "AttributeError",
     "evalue": "'set' object has no attribute 'append'",
     "output_type": "error",
     "traceback": [
      "\u001b[1;31m---------------------------------------------------------------------------\u001b[0m",
      "\u001b[1;31mAttributeError\u001b[0m                            Traceback (most recent call last)",
      "Cell \u001b[1;32mIn[238], line 1\u001b[0m\n\u001b[1;32m----> 1\u001b[0m set2\u001b[38;5;241m.\u001b[39mappend(\u001b[38;5;241m6\u001b[39m)\n",
      "\u001b[1;31mAttributeError\u001b[0m: 'set' object has no attribute 'append'"
     ]
    }
   ],
   "source": [
    "set2.append(6)  # immutable\n"
   ]
  },
  {
   "cell_type": "code",
   "execution_count": 175,
   "id": "f3cf388d",
   "metadata": {},
   "outputs": [
    {
     "data": {
      "text/plain": [
       "10"
      ]
     },
     "execution_count": 175,
     "metadata": {},
     "output_type": "execute_result"
    }
   ],
   "source": [
    "num = {54,84,5,84,9,4,1,97,4,51,7,16,4}\n",
    "len(num)"
   ]
  },
  {
   "cell_type": "code",
   "execution_count": 177,
   "id": "0a70a524",
   "metadata": {},
   "outputs": [],
   "source": [
    "num.add(22)"
   ]
  },
  {
   "cell_type": "code",
   "execution_count": 179,
   "id": "1d644e96",
   "metadata": {},
   "outputs": [
    {
     "data": {
      "text/plain": [
       "{1, 4, 5, 7, 9, 16, 22, 51, 54, 84, 97}"
      ]
     },
     "execution_count": 179,
     "metadata": {},
     "output_type": "execute_result"
    }
   ],
   "source": [
    "num"
   ]
  },
  {
   "cell_type": "code",
   "execution_count": 180,
   "id": "58d42f17",
   "metadata": {},
   "outputs": [
    {
     "data": {
      "text/plain": [
       "{1, 3, 4, 5, 7, 9, 11, 16, 22, 51, 54, 84, 97}"
      ]
     },
     "execution_count": 180,
     "metadata": {},
     "output_type": "execute_result"
    }
   ],
   "source": [
    "num.update([11,22,3,3])\n",
    "num"
   ]
  },
  {
   "cell_type": "markdown",
   "id": "4a5edb92",
   "metadata": {},
   "source": [
    "discard(): it removes a specified element from a set. If the element is not present in the set, discard does nothing and doesn't raise an error"
   ]
  },
  {
   "cell_type": "code",
   "execution_count": 181,
   "id": "629f935a",
   "metadata": {},
   "outputs": [],
   "source": [
    "num.discard(22)"
   ]
  },
  {
   "cell_type": "code",
   "execution_count": 182,
   "id": "f9dcf5a8",
   "metadata": {},
   "outputs": [
    {
     "data": {
      "text/plain": [
       "{1, 3, 4, 5, 7, 9, 11, 16, 51, 54, 84, 97}"
      ]
     },
     "execution_count": 182,
     "metadata": {},
     "output_type": "execute_result"
    }
   ],
   "source": [
    "num"
   ]
  },
  {
   "cell_type": "markdown",
   "id": "cae03b60",
   "metadata": {},
   "source": [
    "remove: it removes a specified element from a set but raises an error if the number is not present"
   ]
  },
  {
   "cell_type": "code",
   "execution_count": 183,
   "id": "cd820c32",
   "metadata": {},
   "outputs": [
    {
     "ename": "KeyError",
     "evalue": "22",
     "output_type": "error",
     "traceback": [
      "\u001b[1;31m---------------------------------------------------------------------------\u001b[0m",
      "\u001b[1;31mKeyError\u001b[0m                                  Traceback (most recent call last)",
      "Cell \u001b[1;32mIn[183], line 1\u001b[0m\n\u001b[1;32m----> 1\u001b[0m num\u001b[38;5;241m.\u001b[39mremove(\u001b[38;5;241m22\u001b[39m)\n",
      "\u001b[1;31mKeyError\u001b[0m: 22"
     ]
    }
   ],
   "source": [
    "num.remove(22)"
   ]
  },
  {
   "cell_type": "code",
   "execution_count": 186,
   "id": "69724658",
   "metadata": {},
   "outputs": [
    {
     "data": {
      "text/plain": [
       "{1, 4, 5, 7, 9, 16, 51, 54, 84, 97}"
      ]
     },
     "execution_count": 186,
     "metadata": {},
     "output_type": "execute_result"
    }
   ],
   "source": [
    "num.remove(11)\n",
    "num"
   ]
  },
  {
   "cell_type": "markdown",
   "id": "a838d7dd",
   "metadata": {},
   "source": [
    "pop(): removes and returns an arbitrary element from the set. Since sets are unordered, the specified element that gets removed cant be determined\n",
    "\n",
    "if the set is empty, pop raise a 'KeyError'"
   ]
  },
  {
   "cell_type": "code",
   "execution_count": 187,
   "id": "4cd465f9",
   "metadata": {},
   "outputs": [
    {
     "data": {
      "text/plain": [
       "{1, 4, 5, 7, 9, 16, 51, 54, 84, 97}"
      ]
     },
     "execution_count": 187,
     "metadata": {},
     "output_type": "execute_result"
    }
   ],
   "source": [
    "num"
   ]
  },
  {
   "cell_type": "code",
   "execution_count": 188,
   "id": "d06007e0",
   "metadata": {},
   "outputs": [
    {
     "data": {
      "text/plain": [
       "1"
      ]
     },
     "execution_count": 188,
     "metadata": {},
     "output_type": "execute_result"
    }
   ],
   "source": [
    "num.pop()"
   ]
  },
  {
   "cell_type": "code",
   "execution_count": 189,
   "id": "0131a9ca",
   "metadata": {},
   "outputs": [
    {
     "data": {
      "text/plain": [
       "97"
      ]
     },
     "execution_count": 189,
     "metadata": {},
     "output_type": "execute_result"
    }
   ],
   "source": [
    "num.pop()"
   ]
  },
  {
   "cell_type": "code",
   "execution_count": 190,
   "id": "54248997",
   "metadata": {},
   "outputs": [
    {
     "ename": "KeyError",
     "evalue": "'pop from an empty set'",
     "output_type": "error",
     "traceback": [
      "\u001b[1;31m---------------------------------------------------------------------------\u001b[0m",
      "\u001b[1;31mKeyError\u001b[0m                                  Traceback (most recent call last)",
      "Cell \u001b[1;32mIn[190], line 2\u001b[0m\n\u001b[0;32m      1\u001b[0m xx \u001b[38;5;241m=\u001b[39m \u001b[38;5;28mset\u001b[39m()\n\u001b[1;32m----> 2\u001b[0m xx\u001b[38;5;241m.\u001b[39mpop()\n",
      "\u001b[1;31mKeyError\u001b[0m: 'pop from an empty set'"
     ]
    }
   ],
   "source": [
    "xx = set()\n",
    "xx.pop()"
   ]
  },
  {
   "cell_type": "code",
   "execution_count": 196,
   "id": "c0457c95",
   "metadata": {},
   "outputs": [
    {
     "data": {
      "text/plain": [
       "{1, 2, 3}"
      ]
     },
     "execution_count": 196,
     "metadata": {},
     "output_type": "execute_result"
    }
   ],
   "source": [
    "xx.add(3)\n",
    "xx"
   ]
  },
  {
   "cell_type": "code",
   "execution_count": 195,
   "id": "18734b65",
   "metadata": {},
   "outputs": [
    {
     "data": {
      "text/plain": [
       "{4, 5, 7, 9, 16, 51, 54, 84}"
      ]
     },
     "execution_count": 195,
     "metadata": {},
     "output_type": "execute_result"
    }
   ],
   "source": [
    "num-xx    # base set and subtract the set minus"
   ]
  },
  {
   "cell_type": "code",
   "execution_count": 200,
   "id": "ddc716b8",
   "metadata": {},
   "outputs": [],
   "source": [
    "a = {1,2,3,4,5,6,7}\n",
    "b = {1,4,99,10,5}"
   ]
  },
  {
   "cell_type": "markdown",
   "id": "1eda1bf7",
   "metadata": {},
   "source": [
    "# UNION"
   ]
  },
  {
   "cell_type": "code",
   "execution_count": 201,
   "id": "28da07f4",
   "metadata": {},
   "outputs": [
    {
     "data": {
      "text/plain": [
       "{1, 2, 3, 4, 5, 6, 7, 10, 99}"
      ]
     },
     "execution_count": 201,
     "metadata": {},
     "output_type": "execute_result"
    }
   ],
   "source": [
    "a.union(b)"
   ]
  },
  {
   "cell_type": "code",
   "execution_count": 202,
   "id": "5ec3780b",
   "metadata": {},
   "outputs": [
    {
     "data": {
      "text/plain": [
       "{1, 2, 3, 4, 5, 6, 7, 10, 99}"
      ]
     },
     "execution_count": 202,
     "metadata": {},
     "output_type": "execute_result"
    }
   ],
   "source": [
    "b.union(a)"
   ]
  },
  {
   "cell_type": "markdown",
   "id": "6a1946c3",
   "metadata": {},
   "source": [
    "# INTERSECTION"
   ]
  },
  {
   "cell_type": "code",
   "execution_count": 203,
   "id": "20797ff3",
   "metadata": {},
   "outputs": [
    {
     "data": {
      "text/plain": [
       "{1, 4, 5}"
      ]
     },
     "execution_count": 203,
     "metadata": {},
     "output_type": "execute_result"
    }
   ],
   "source": [
    "a.intersection(b)"
   ]
  },
  {
   "cell_type": "code",
   "execution_count": 204,
   "id": "7c4c1454",
   "metadata": {},
   "outputs": [
    {
     "data": {
      "text/plain": [
       "{1, 4, 5}"
      ]
     },
     "execution_count": 204,
     "metadata": {},
     "output_type": "execute_result"
    }
   ],
   "source": [
    "b.intersection(a)"
   ]
  },
  {
   "cell_type": "markdown",
   "id": "cb586daf",
   "metadata": {},
   "source": [
    "# DIFFERENCE"
   ]
  },
  {
   "cell_type": "code",
   "execution_count": 206,
   "id": "b23a2926",
   "metadata": {},
   "outputs": [
    {
     "data": {
      "text/plain": [
       "{2, 3, 6, 7}"
      ]
     },
     "execution_count": 206,
     "metadata": {},
     "output_type": "execute_result"
    }
   ],
   "source": [
    "a.difference(b)  #elements in Set a and not in Set b"
   ]
  },
  {
   "cell_type": "code",
   "execution_count": 207,
   "id": "860cee8d",
   "metadata": {},
   "outputs": [
    {
     "data": {
      "text/plain": [
       "{10, 99}"
      ]
     },
     "execution_count": 207,
     "metadata": {},
     "output_type": "execute_result"
    }
   ],
   "source": [
    "b.difference(a)  #elements in Set b and not in Set a"
   ]
  },
  {
   "cell_type": "code",
   "execution_count": 208,
   "id": "fb1af3ea",
   "metadata": {},
   "outputs": [
    {
     "name": "stdout",
     "output_type": "stream",
     "text": [
      "Set a and b are equal or not: False\n"
     ]
    }
   ],
   "source": [
    "print('Set a and b are equal or not:', a==b)"
   ]
  },
  {
   "cell_type": "markdown",
   "id": "7d423fce",
   "metadata": {},
   "source": [
    "# split"
   ]
  },
  {
   "cell_type": "code",
   "execution_count": 361,
   "id": "7969593f",
   "metadata": {},
   "outputs": [
    {
     "data": {
      "text/plain": [
       "['hello', 'world,', 'how', 'are', 'you']"
      ]
     },
     "execution_count": 361,
     "metadata": {},
     "output_type": "execute_result"
    }
   ],
   "source": [
    "message= 'hello world, how are you'\n",
    "message.split()"
   ]
  },
  {
   "cell_type": "code",
   "execution_count": 363,
   "id": "52ad6302",
   "metadata": {},
   "outputs": [
    {
     "name": "stdout",
     "output_type": "stream",
     "text": [
      "hello\n",
      "world,\n",
      "how\n",
      "are\n",
      "you\n"
     ]
    }
   ],
   "source": [
    "for i in message.split():\n",
    "    print(i)"
   ]
  },
  {
   "cell_type": "code",
   "execution_count": null,
   "id": "d1f31158",
   "metadata": {},
   "outputs": [],
   "source": []
  },
  {
   "cell_type": "code",
   "execution_count": null,
   "id": "95b65cea",
   "metadata": {},
   "outputs": [],
   "source": []
  },
  {
   "cell_type": "code",
   "execution_count": null,
   "id": "1b50f914",
   "metadata": {},
   "outputs": [],
   "source": []
  },
  {
   "cell_type": "markdown",
   "id": "0ff0b7e8",
   "metadata": {},
   "source": [
    "# zip"
   ]
  },
  {
   "cell_type": "code",
   "execution_count": 210,
   "id": "5c484565",
   "metadata": {},
   "outputs": [
    {
     "name": "stdout",
     "output_type": "stream",
     "text": [
      "1 , 4\n",
      "2 , 5\n",
      "3 , 6\n"
     ]
    }
   ],
   "source": [
    "X1 = [1,2,3,4,5]\n",
    "X2 = [5,6,7,8,9]\n",
    "for m, n in zip(x1, x2):\n",
    "    print(m, \",\",n)"
   ]
  },
  {
   "cell_type": "code",
   "execution_count": null,
   "id": "d25a091e",
   "metadata": {},
   "outputs": [],
   "source": []
  },
  {
   "cell_type": "code",
   "execution_count": 138,
   "id": "faff8df6",
   "metadata": {},
   "outputs": [
    {
     "name": "stdout",
     "output_type": "stream",
     "text": [
      "1\n",
      "4\n",
      "2\n",
      "5\n",
      "3\n",
      "6\n"
     ]
    }
   ],
   "source": [
    "for m, n in zip(x1, x2):\n",
    "    print(m)\n",
    "    print(n)\n"
   ]
  },
  {
   "cell_type": "code",
   "execution_count": 106,
   "id": "2e8bcdd5",
   "metadata": {},
   "outputs": [
    {
     "name": "stdout",
     "output_type": "stream",
     "text": [
      "11 ,  44\n",
      "22 ,  55\n",
      "33 ,  66\n"
     ]
    }
   ],
   "source": [
    "number_list1 = [11,22,33]\n",
    "number_list2 = [44,55,66]\n",
    "for var1, var2 in zip(number_list1, number_list2):\n",
    "    print(var1, \", \", var2)"
   ]
  },
  {
   "cell_type": "code",
   "execution_count": 111,
   "id": "498d0a7b",
   "metadata": {},
   "outputs": [
    {
     "data": {
      "text/plain": [
       "[10, 2, 4, 3]"
      ]
     },
     "execution_count": 111,
     "metadata": {},
     "output_type": "execute_result"
    }
   ],
   "source": [
    "x = [1, 2, 4, 3]\n",
    "y = x\n",
    "y[0]=10\n",
    "x"
   ]
  },
  {
   "cell_type": "code",
   "execution_count": 112,
   "id": "6302d5fb",
   "metadata": {},
   "outputs": [
    {
     "data": {
      "text/plain": [
       "[10, 5, 4, 3]"
      ]
     },
     "execution_count": 112,
     "metadata": {},
     "output_type": "execute_result"
    }
   ],
   "source": [
    "x[1]=5\n",
    "y"
   ]
  },
  {
   "cell_type": "markdown",
   "id": "088fcb65",
   "metadata": {},
   "source": [
    "# List Comprehensions"
   ]
  },
  {
   "cell_type": "markdown",
   "id": "999d4567",
   "metadata": {},
   "source": [
    "List comprehensions provide a concise way to create lists. Common applications are to make new lists where each element is the result of some operations applied to each member of another sequence or iterable, or to create a subsequence of those elements that satisfy a certain condition. For example, assume we want to create a list of squares, like:"
   ]
  },
  {
   "cell_type": "code",
   "execution_count": 115,
   "id": "b15d2782",
   "metadata": {},
   "outputs": [
    {
     "name": "stdout",
     "output_type": "stream",
     "text": [
      "[0, 1, 2, 3, 4, 5, 6, 7, 8, 9]\n"
     ]
    }
   ],
   "source": [
    "s = []\n",
    "for x in range(10):\n",
    "    s.append(x)\n",
    "print(s)"
   ]
  },
  {
   "cell_type": "code",
   "execution_count": 116,
   "id": "305c2de9",
   "metadata": {},
   "outputs": [
    {
     "name": "stdout",
     "output_type": "stream",
     "text": [
      "[0, 1, 4, 9, 16, 25, 36, 49, 64, 81]\n"
     ]
    }
   ],
   "source": [
    "square = []\n",
    "for i in range(10):\n",
    "    square.append(i*i)\n",
    "print(square)    # here print working outsid for loop "
   ]
  },
  {
   "cell_type": "code",
   "execution_count": 117,
   "id": "38bdab6e",
   "metadata": {},
   "outputs": [
    {
     "name": "stdout",
     "output_type": "stream",
     "text": [
      "[0]\n",
      "[0, 1]\n",
      "[0, 1, 4]\n",
      "[0, 1, 4, 9]\n",
      "[0, 1, 4, 9, 16]\n",
      "[0, 1, 4, 9, 16, 25]\n",
      "[0, 1, 4, 9, 16, 25, 36]\n",
      "[0, 1, 4, 9, 16, 25, 36, 49]\n",
      "[0, 1, 4, 9, 16, 25, 36, 49, 64]\n",
      "[0, 1, 4, 9, 16, 25, 36, 49, 64, 81]\n"
     ]
    }
   ],
   "source": [
    "square = []\n",
    "for i in range(10):\n",
    "    square.append(i*i)\n",
    "    print(square)  # here print working inside for loop "
   ]
  },
  {
   "cell_type": "code",
   "execution_count": 128,
   "id": "d0cba2f0",
   "metadata": {},
   "outputs": [
    {
     "data": {
      "text/plain": [
       "[0, 1, 4, 9, 16, 25, 36, 49, 64, 81]"
      ]
     },
     "execution_count": 128,
     "metadata": {},
     "output_type": "execute_result"
    }
   ],
   "source": [
    "# using list comprehensions\n",
    "\n",
    "square = list(map(lambda x : x**2, range(10)))\n",
    "square"
   ]
  },
  {
   "cell_type": "code",
   "execution_count": 127,
   "id": "72bfba58",
   "metadata": {},
   "outputs": [
    {
     "data": {
      "text/plain": [
       "[0, 1, 4, 9, 16, 25, 36, 49, 64, 81]"
      ]
     },
     "execution_count": 127,
     "metadata": {},
     "output_type": "execute_result"
    }
   ],
   "source": [
    "square = [x**2 for x in range(10)]  # list comprehensions\n",
    "square"
   ]
  },
  {
   "cell_type": "code",
   "execution_count": 129,
   "id": "c63431e7",
   "metadata": {},
   "outputs": [
    {
     "data": {
      "text/plain": [
       "[0, 1, 4, 9, 16, 25, 36, 49, 64, 81]"
      ]
     },
     "execution_count": 129,
     "metadata": {},
     "output_type": "execute_result"
    }
   ],
   "source": [
    "square = list(x**2 for x in range(10))  # list comprehensions\n",
    "square"
   ]
  },
  {
   "cell_type": "markdown",
   "id": "0d680ae9",
   "metadata": {},
   "source": [
    "A list comprehension consists of brackets containing an expression followed by a for clause, then zero or more for or if clauses. The result will be a new list resulting from evaluating the expression in the context of the for and if clauses which follow it. For example, this listcomp combines the elements of two lists if they are not equal:"
   ]
  },
  {
   "cell_type": "code",
   "execution_count": 131,
   "id": "19d4f0f4",
   "metadata": {},
   "outputs": [
    {
     "data": {
      "text/plain": [
       "[(1, 4), (1, 6), (2, 4), (2, 1), (2, 6), (3, 4), (3, 1), (3, 6)]"
      ]
     },
     "execution_count": 131,
     "metadata": {},
     "output_type": "execute_result"
    }
   ],
   "source": [
    "[(x , y) for x in [1,2,3] for y in [4,1,6] if x!=y]"
   ]
  },
  {
   "cell_type": "code",
   "execution_count": 133,
   "id": "bcd8dce3",
   "metadata": {},
   "outputs": [
    {
     "data": {
      "text/plain": [
       "['3.1', '3.14', '3.142', '3.1416', '3.14159']"
      ]
     },
     "execution_count": 133,
     "metadata": {},
     "output_type": "execute_result"
    }
   ],
   "source": [
    " from math import pi\n",
    "[str(round(pi, i)) for i in range(1, 6)]"
   ]
  },
  {
   "cell_type": "code",
   "execution_count": 498,
   "id": "ca437ad8",
   "metadata": {},
   "outputs": [
    {
     "name": "stdout",
     "output_type": "stream",
     "text": [
      "[0, 1, 2, 3, 4, 5, 6, 7, 8, 9, 10]\n"
     ]
    }
   ],
   "source": [
    "num = [x for x in range(0,11)]\n",
    "print(num)"
   ]
  },
  {
   "cell_type": "code",
   "execution_count": null,
   "id": "277a125b",
   "metadata": {},
   "outputs": [],
   "source": []
  },
  {
   "cell_type": "code",
   "execution_count": null,
   "id": "c816c4a2",
   "metadata": {},
   "outputs": [],
   "source": []
  },
  {
   "cell_type": "code",
   "execution_count": null,
   "id": "0f2efc69",
   "metadata": {},
   "outputs": [],
   "source": []
  },
  {
   "cell_type": "code",
   "execution_count": null,
   "id": "11a51d58",
   "metadata": {},
   "outputs": [],
   "source": []
  },
  {
   "cell_type": "markdown",
   "id": "4e2af202",
   "metadata": {},
   "source": [
    "# Looping Statements\n"
   ]
  },
  {
   "cell_type": "markdown",
   "id": "a3e2400f",
   "metadata": {},
   "source": [
    "Looping is the process in which we have a some code that gets executed \n",
    "repeatedly until a particular condition is satisfied"
   ]
  },
  {
   "cell_type": "raw",
   "id": "9a60bfc6",
   "metadata": {},
   "source": [
    "-For : its not required any condition\n",
    "-While"
   ]
  },
  {
   "cell_type": "markdown",
   "id": "a272aa01",
   "metadata": {},
   "source": [
    "==The for loop is used when you know how many iterations there will be or when you want to loop through a sequence of elements (such as a list, tuple, or string).It performs a code block execution for each iteration while iterating over a sequence, adding each element to a variable"
   ]
  },
  {
   "cell_type": "markdown",
   "id": "2b002829",
   "metadata": {},
   "source": [
    "==The while loop is used when the number of iterations is unknown in advance, and the\n",
    "loop continues as long as a defined condition remains True.\n",
    "It executes the code block periodically as long as the condition is true.\n"
   ]
  },
  {
   "cell_type": "code",
   "execution_count": 145,
   "id": "66a11e50",
   "metadata": {},
   "outputs": [
    {
     "name": "stdout",
     "output_type": "stream",
     "text": [
      "0\n",
      "1\n",
      "2\n",
      "3\n",
      "4\n",
      "5\n",
      "6\n",
      "7\n",
      "8\n",
      "9\n"
     ]
    }
   ],
   "source": [
    "for i in range(10): #default initial value start from 0 \n",
    "    print(i)"
   ]
  },
  {
   "cell_type": "code",
   "execution_count": 146,
   "id": "636f414b",
   "metadata": {
    "scrolled": true
   },
   "outputs": [
    {
     "name": "stdout",
     "output_type": "stream",
     "text": [
      "2\n",
      "3\n",
      "4\n",
      "5\n",
      "6\n",
      "7\n",
      "8\n",
      "9\n"
     ]
    }
   ],
   "source": [
    "for i in range(2,10):\n",
    "    print(i)"
   ]
  },
  {
   "cell_type": "code",
   "execution_count": 229,
   "id": "ed1dbc61",
   "metadata": {},
   "outputs": [
    {
     "name": "stdout",
     "output_type": "stream",
     "text": [
      "85 26 41 62 761 9 51 1 "
     ]
    }
   ],
   "source": [
    "a = [85,26,41,62,761,9,51,1]\n",
    "for i in a:\n",
    "    print(i, end = \" \")"
   ]
  },
  {
   "cell_type": "code",
   "execution_count": 232,
   "id": "a85d1152",
   "metadata": {
    "scrolled": true
   },
   "outputs": [
    {
     "name": "stdout",
     "output_type": "stream",
     "text": [
      "8\n",
      "8\n",
      "8\n",
      "8\n",
      "8\n",
      "8\n",
      "8\n",
      "8\n",
      "8\n",
      "8\n"
     ]
    }
   ],
   "source": [
    "for i in range(10):\n",
    "    print(2*4)"
   ]
  },
  {
   "cell_type": "code",
   "execution_count": 234,
   "id": "7e38cef2",
   "metadata": {},
   "outputs": [
    {
     "name": "stdout",
     "output_type": "stream",
     "text": [
      "[0, 1, 2, 3, 4, 5, 6, 7, 8, 9]\n"
     ]
    }
   ],
   "source": [
    "print(list(range(10)))"
   ]
  },
  {
   "cell_type": "code",
   "execution_count": 235,
   "id": "039520cf",
   "metadata": {},
   "outputs": [
    {
     "name": "stdout",
     "output_type": "stream",
     "text": [
      "range(0, 10)\n"
     ]
    }
   ],
   "source": [
    "print(range(10))"
   ]
  },
  {
   "cell_type": "code",
   "execution_count": 150,
   "id": "5b7640e7",
   "metadata": {},
   "outputs": [
    {
     "name": "stdout",
     "output_type": "stream",
     "text": [
      "0\n",
      "1\n",
      "2\n",
      "3\n",
      "4\n",
      "5\n",
      "6\n",
      "7\n",
      "8\n",
      "9\n"
     ]
    }
   ],
   "source": [
    "count = 0\n",
    "while count < 10:\n",
    "    print(count)\n",
    "    count += 1\n",
    "    #print(count)"
   ]
  },
  {
   "cell_type": "code",
   "execution_count": 151,
   "id": "fc24930d",
   "metadata": {},
   "outputs": [
    {
     "name": "stdout",
     "output_type": "stream",
     "text": [
      "10\n",
      "9\n",
      "8\n",
      "7\n",
      "6\n",
      "5\n",
      "4\n",
      "3\n",
      "2\n",
      "1\n"
     ]
    }
   ],
   "source": [
    "count = 10\n",
    "while count > 0:\n",
    "    print(count)\n",
    "    count -= 1"
   ]
  },
  {
   "cell_type": "code",
   "execution_count": 296,
   "id": "097d2594",
   "metadata": {},
   "outputs": [
    {
     "name": "stdout",
     "output_type": "stream",
     "text": [
      "hello\n",
      "hello\n",
      "hello\n",
      "hello\n",
      "hello\n"
     ]
    }
   ],
   "source": [
    "i=0\n",
    "while i<5:\n",
    "    print('hello')\n",
    "    i +=1"
   ]
  },
  {
   "cell_type": "code",
   "execution_count": 299,
   "id": "fde79fd9",
   "metadata": {},
   "outputs": [
    {
     "name": "stdout",
     "output_type": "stream",
     "text": [
      "hello\n",
      "hello\n",
      "hello\n",
      "hello\n",
      "hello\n"
     ]
    }
   ],
   "source": [
    "i=0\n",
    "while i<5:\n",
    "    i +=1\n",
    "    print('hello')\n"
   ]
  },
  {
   "cell_type": "code",
   "execution_count": 300,
   "id": "c4361674",
   "metadata": {},
   "outputs": [
    {
     "name": "stdout",
     "output_type": "stream",
     "text": [
      "cherry\n",
      "cherry\n",
      "cherry\n"
     ]
    }
   ],
   "source": [
    "i=1\n",
    "while i< 4:\n",
    "    i=i+1\n",
    "    print('cherry')"
   ]
  },
  {
   "cell_type": "raw",
   "id": "937aa458",
   "metadata": {},
   "source": [
    "range(start, stop, step)"
   ]
  },
  {
   "cell_type": "code",
   "execution_count": 303,
   "id": "8f7ace91",
   "metadata": {},
   "outputs": [
    {
     "name": "stdout",
     "output_type": "stream",
     "text": [
      "1\n",
      "2\n",
      "3\n",
      "4\n",
      "5\n",
      "6\n",
      "7\n",
      "8\n",
      "9\n",
      "10\n"
     ]
    }
   ],
   "source": [
    "for i in range(1, 11):  # step = 1 default\n",
    "    print(i)"
   ]
  },
  {
   "cell_type": "code",
   "execution_count": 302,
   "id": "380bb845",
   "metadata": {},
   "outputs": [
    {
     "name": "stdout",
     "output_type": "stream",
     "text": [
      "1\n",
      "3\n",
      "5\n",
      "7\n",
      "9\n"
     ]
    }
   ],
   "source": [
    "for i in range(1, 11, 2):\n",
    "    print(i)"
   ]
  },
  {
   "cell_type": "code",
   "execution_count": 322,
   "id": "1172e2a1",
   "metadata": {
    "scrolled": true
   },
   "outputs": [
    {
     "name": "stdout",
     "output_type": "stream",
     "text": [
      "2\n",
      "4\n",
      "6\n",
      "8\n",
      "10\n",
      "12\n",
      "14\n",
      "16\n",
      "18\n"
     ]
    }
   ],
   "source": [
    "# for loop print all the even number between 1 to 20\n",
    "for i in range(1,20):\n",
    "    if i%2==0:\n",
    "        print(i)    "
   ]
  },
  {
   "cell_type": "code",
   "execution_count": 503,
   "id": "28f8c5a6",
   "metadata": {},
   "outputs": [
    {
     "name": "stdout",
     "output_type": "stream",
     "text": [
      "[0, 1, 2, 3, 4, 5, 6, 7, 8, 9, 10]\n",
      "-----------------------\n",
      "0\n",
      "1\n",
      "2\n",
      "3\n"
     ]
    }
   ],
   "source": [
    "numb=[x for x in range(0,11)]\n",
    "print(numb)\n",
    "print(\"-----------------------\")\n",
    "for x in numb:\n",
    "    if x == 4:\n",
    "        break\n",
    "    print(x)"
   ]
  },
  {
   "cell_type": "code",
   "execution_count": 504,
   "id": "963f7bb2",
   "metadata": {},
   "outputs": [
    {
     "name": "stdout",
     "output_type": "stream",
     "text": [
      "[0, 1, 2, 3, 4, 5, 6, 7, 8, 9, 10]\n",
      "-----------------------\n",
      "0\n",
      "1\n",
      "2\n",
      "3\n",
      "5\n",
      "6\n",
      "7\n",
      "8\n",
      "9\n",
      "10\n"
     ]
    }
   ],
   "source": [
    "numb=[x for x in range(0,11)]\n",
    "print(numb)\n",
    "print(\"-----------------------\")\n",
    "for x in numb:\n",
    "    if x == 4:\n",
    "        continue\n",
    "    print(x)"
   ]
  },
  {
   "cell_type": "code",
   "execution_count": 505,
   "id": "828db695",
   "metadata": {},
   "outputs": [
    {
     "name": "stdout",
     "output_type": "stream",
     "text": [
      "10\n",
      "9\n",
      "8\n",
      "7\n",
      "6\n",
      "5\n",
      "4\n",
      "3\n",
      "2\n",
      "1\n"
     ]
    }
   ],
   "source": [
    "a = 10\n",
    "while a!=0:\n",
    "    print(a)\n",
    "    a -=1"
   ]
  },
  {
   "cell_type": "markdown",
   "id": "5376fd6a",
   "metadata": {},
   "source": [
    "using while in place of for loop"
   ]
  },
  {
   "cell_type": "code",
   "execution_count": 507,
   "id": "e1ff4233",
   "metadata": {
    "scrolled": true
   },
   "outputs": [
    {
     "name": "stdout",
     "output_type": "stream",
     "text": [
      "0\n",
      "1\n",
      "2\n",
      "3\n",
      "4\n",
      "5\n",
      "6\n",
      "7\n",
      "8\n",
      "9\n"
     ]
    }
   ],
   "source": [
    "num = [x for x in range(10)]\n",
    "index = 0\n",
    "while index < len(num):\n",
    "    print(num[index])\n",
    "    index += 1"
   ]
  },
  {
   "cell_type": "code",
   "execution_count": 364,
   "id": "534ca595",
   "metadata": {},
   "outputs": [
    {
     "name": "stdout",
     "output_type": "stream",
     "text": [
      "(0, 'cool')\n",
      "(1, 'powerful')\n",
      "(2, 'readable')\n"
     ]
    }
   ],
   "source": [
    "words = ('cool', 'powerful', 'readable')\n",
    "for i in range(0, len(words)):\n",
    "    print((i, words[i]))\n"
   ]
  },
  {
   "cell_type": "code",
   "execution_count": 365,
   "id": "b48b54f9",
   "metadata": {},
   "outputs": [
    {
     "name": "stdout",
     "output_type": "stream",
     "text": [
      "(0, 'cool')\n",
      "(1, 'powerful')\n",
      "(2, 'readable')\n"
     ]
    }
   ],
   "source": [
    "for index, item in enumerate(words):\n",
    "    \n",
    "    print((index, item))\n"
   ]
  },
  {
   "cell_type": "code",
   "execution_count": null,
   "id": "6a903659",
   "metadata": {},
   "outputs": [],
   "source": []
  },
  {
   "cell_type": "code",
   "execution_count": null,
   "id": "6ebfa2dd",
   "metadata": {},
   "outputs": [],
   "source": []
  },
  {
   "cell_type": "code",
   "execution_count": null,
   "id": "50e37da9",
   "metadata": {},
   "outputs": [],
   "source": []
  },
  {
   "cell_type": "code",
   "execution_count": 518,
   "id": "660d1fed",
   "metadata": {},
   "outputs": [
    {
     "name": "stdout",
     "output_type": "stream",
     "text": [
      "1,2,3,"
     ]
    }
   ],
   "source": [
    "x=list(range(2,10,2))\n",
    "y=[2,4,6]\n",
    "for i in x:\n",
    "    if i in y:\n",
    "        print(i//2,end=\",\")\n",
    "    else:\n",
    "        break"
   ]
  },
  {
   "cell_type": "code",
   "execution_count": 238,
   "id": "1d54dd45",
   "metadata": {},
   "outputs": [
    {
     "name": "stdout",
     "output_type": "stream",
     "text": [
      "[4, 10, 18]\n"
     ]
    }
   ],
   "source": [
    "a = [1,2,3]\n",
    "b = [4,5,6]\n",
    "re = []\n",
    "for i in range(len(a)):\n",
    "    re.append(a[i]*b[i])\n",
    "print(re)"
   ]
  },
  {
   "cell_type": "code",
   "execution_count": 239,
   "id": "be076c91",
   "metadata": {},
   "outputs": [
    {
     "data": {
      "text/plain": [
       "12"
      ]
     },
     "execution_count": 239,
     "metadata": {},
     "output_type": "execute_result"
    }
   ],
   "source": [
    "a[1]*b[2]"
   ]
  },
  {
   "cell_type": "code",
   "execution_count": 240,
   "id": "7fab8784",
   "metadata": {},
   "outputs": [
    {
     "data": {
      "text/plain": [
       "[1, 2, 3, 1, 2, 3]"
      ]
     },
     "execution_count": 240,
     "metadata": {},
     "output_type": "execute_result"
    }
   ],
   "source": [
    "a*2"
   ]
  },
  {
   "cell_type": "code",
   "execution_count": 241,
   "id": "cdb1ab8d",
   "metadata": {},
   "outputs": [
    {
     "ename": "TypeError",
     "evalue": "can't multiply sequence by non-int of type 'list'",
     "output_type": "error",
     "traceback": [
      "\u001b[1;31m---------------------------------------------------------------------------\u001b[0m",
      "\u001b[1;31mTypeError\u001b[0m                                 Traceback (most recent call last)",
      "Cell \u001b[1;32mIn[241], line 1\u001b[0m\n\u001b[1;32m----> 1\u001b[0m a\u001b[38;5;241m*\u001b[39mb\n",
      "\u001b[1;31mTypeError\u001b[0m: can't multiply sequence by non-int of type 'list'"
     ]
    }
   ],
   "source": [
    "a*b"
   ]
  },
  {
   "cell_type": "raw",
   "id": "bdde2f5d",
   "metadata": {},
   "source": [
    "List doesn't allow vectorized operation but array does.\n",
    "using numpy we convert list to array"
   ]
  },
  {
   "cell_type": "code",
   "execution_count": 243,
   "id": "23846461",
   "metadata": {},
   "outputs": [
    {
     "name": "stdout",
     "output_type": "stream",
     "text": [
      "214\n",
      "7\n",
      "30.571428571428573\n"
     ]
    }
   ],
   "source": [
    "# finding average\n",
    "aa = [23,9,5,63,79,15,20]\n",
    "zz = 0\n",
    "for i in aa:\n",
    "    zz += i\n",
    "print(zz)\n",
    "print(len(aa))\n",
    "avg = zz/len(aa)\n",
    "print(avg)"
   ]
  },
  {
   "cell_type": "code",
   "execution_count": 246,
   "id": "3d0d85a6",
   "metadata": {},
   "outputs": [
    {
     "name": "stdout",
     "output_type": "stream",
     "text": [
      "1 2 3 4 5 6 7 8 9 10  \n",
      "2 4 6 8 10 12 14 16 18 20  \n",
      "3 6 9 12 15 18 21 24 27 30  \n",
      "4 8 12 16 20 24 28 32 36 40  \n",
      "5 10 15 20 25 30 35 40 45 50  \n",
      "6 12 18 24 30 36 42 48 54 60  \n",
      "7 14 21 28 35 42 49 56 63 70  \n",
      "8 16 24 32 40 48 56 64 72 80  \n",
      "9 18 27 36 45 54 63 72 81 90  \n",
      "10 20 30 40 50 60 70 80 90 100  \n"
     ]
    }
   ],
   "source": [
    "for i in range(1,11):\n",
    "    for j in range(1,11):\n",
    "        print(i*j, end= \" \")\n",
    "    print(' ')"
   ]
  },
  {
   "cell_type": "code",
   "execution_count": 249,
   "id": "f9f067a3",
   "metadata": {},
   "outputs": [
    {
     "name": "stdout",
     "output_type": "stream",
     "text": [
      "1 2 3 4 5 6 7 8 9 10 11 12 13 14 15 16 17 18 19 20 21 22 23 24 25 26 27 28 29 30 31 32 33 34 35 36 37 38 39 40 41 42 43 44 45 46 47 48 49 "
     ]
    }
   ],
   "source": [
    "i = 1 \n",
    "n = 50\n",
    "while i< n:\n",
    "    print(i, end = \" \")\n",
    "    i = i+1"
   ]
  },
  {
   "cell_type": "code",
   "execution_count": null,
   "id": "68ad4fca",
   "metadata": {},
   "outputs": [],
   "source": [
    "list_a = [1,2,3]\n",
    "list_b = [2,4,6,8]\n",
    "list_c = [3,6,9,12,15]"
   ]
  },
  {
   "cell_type": "code",
   "execution_count": 250,
   "id": "0022c144",
   "metadata": {},
   "outputs": [
    {
     "name": "stdout",
     "output_type": "stream",
     "text": [
      "1 + 4 + 15 = 20\n",
      "2 + 6 + 12 = 20\n",
      "3 + 2 + 15 = 20\n",
      "3 + 8 + 9 = 20\n"
     ]
    }
   ],
   "source": [
    "list_a = [1,2,3] \n",
    "list_b = [2,4,6,8]\n",
    "list_c = [3,6,9,12,15]\n",
    "for a in list_a:\n",
    "    for b in list_b:\n",
    "        for c in list_c:\n",
    "            Sum = a+b+c\n",
    "            if Sum==20:\n",
    "                print(a,'+',b,'+',c,'=',Sum)"
   ]
  },
  {
   "cell_type": "code",
   "execution_count": 251,
   "id": "b8680f18",
   "metadata": {},
   "outputs": [
    {
     "name": "stdout",
     "output_type": "stream",
     "text": [
      "Enter the sum total value for 'n':15\n",
      "1 + 2 + 12 = 15\n",
      "1 + 8 + 6 = 15\n",
      "2 + 4 + 9 = 15\n",
      "3 + 6 + 6 = 15\n"
     ]
    }
   ],
   "source": [
    "list_a = [1,2,3] #Munish\n",
    "list15_b = [2,4,6,8]\n",
    "list_c = [3,6,9,12,15]\n",
    "\n",
    "n = int(input(\"Enter the sum total value for 'n':\"))\n",
    "\n",
    "for a in list_a:\n",
    "    for b in list_b:\n",
    "        for c in list_c:\n",
    "            Sum = a+b+c\n",
    "            if Sum==n:\n",
    "                print(a,'+',b,'+',c,'=',Sum)"
   ]
  },
  {
   "cell_type": "code",
   "execution_count": 256,
   "id": "2f2e6715",
   "metadata": {},
   "outputs": [
    {
     "name": "stdout",
     "output_type": "stream",
     "text": [
      "10\n",
      "20\n",
      "30\n",
      "40\n",
      "60\n"
     ]
    }
   ],
   "source": [
    "nums = [10,20,30,40,60,150,45,65,33,105,90,99]\n",
    "for i in nums:\n",
    "    if i >100:\n",
    "        break\n",
    "    print(i)\n",
    "        "
   ]
  },
  {
   "cell_type": "code",
   "execution_count": 257,
   "id": "9d368b24",
   "metadata": {},
   "outputs": [
    {
     "name": "stdout",
     "output_type": "stream",
     "text": [
      "10\n",
      "20\n",
      "30\n",
      "40\n",
      "60\n",
      "45\n",
      "65\n",
      "33\n",
      "90\n",
      "99\n"
     ]
    }
   ],
   "source": [
    "nums = [10,20,30,40,60,150,45,65,33,105,90,99]\n",
    "for i in nums:\n",
    "    if i >100:\n",
    "        continue\n",
    "    print(i)"
   ]
  },
  {
   "cell_type": "code",
   "execution_count": 259,
   "id": "ae984a0e",
   "metadata": {},
   "outputs": [
    {
     "name": "stdout",
     "output_type": "stream",
     "text": [
      "10  20  30  40  60  150  45  65  33  105  90  99  "
     ]
    }
   ],
   "source": [
    "nums = [10,20,30,40,60,150,45,65,33,105,90,99]\n",
    "for i in nums:\n",
    "    if i >100:\n",
    "        pass\n",
    "    print(i, end = \"  \")"
   ]
  },
  {
   "cell_type": "code",
   "execution_count": null,
   "id": "6e85c42c",
   "metadata": {},
   "outputs": [],
   "source": []
  },
  {
   "cell_type": "code",
   "execution_count": null,
   "id": "5d132ded",
   "metadata": {},
   "outputs": [],
   "source": []
  },
  {
   "cell_type": "code",
   "execution_count": null,
   "id": "a0b48f88",
   "metadata": {},
   "outputs": [],
   "source": []
  },
  {
   "cell_type": "markdown",
   "id": "1725f520",
   "metadata": {},
   "source": [
    "# LAMBDA FUNCTION"
   ]
  },
  {
   "cell_type": "raw",
   "id": "0fb0b2a5",
   "metadata": {},
   "source": [
    "its anonumous function (lambda fuction will not have a name )\n",
    " it can take any number of arguments but it will have only one expression\n",
    "\n",
    "syntax: lambda argument: expression"
   ]
  },
  {
   "cell_type": "code",
   "execution_count": 310,
   "id": "12310dc8",
   "metadata": {},
   "outputs": [
    {
     "name": "stdout",
     "output_type": "stream",
     "text": [
      "25\n"
     ]
    }
   ],
   "source": [
    "X = lambda x: x*5\n",
    "print(X(5))"
   ]
  },
  {
   "cell_type": "code",
   "execution_count": 311,
   "id": "ee59cc90",
   "metadata": {},
   "outputs": [
    {
     "name": "stdout",
     "output_type": "stream",
     "text": [
      "25\n"
     ]
    }
   ],
   "source": [
    "X = lambda a, b : a*b\n",
    "print(X(5,5))"
   ]
  },
  {
   "cell_type": "code",
   "execution_count": 314,
   "id": "a823f81a",
   "metadata": {},
   "outputs": [
    {
     "data": {
      "text/plain": [
       "6"
      ]
     },
     "execution_count": 314,
     "metadata": {},
     "output_type": "execute_result"
    }
   ],
   "source": [
    "X= lambda a, b, c : a+b+c\n",
    "X(1,2,3)"
   ]
  },
  {
   "cell_type": "code",
   "execution_count": 508,
   "id": "59aed436",
   "metadata": {
    "scrolled": true
   },
   "outputs": [
    {
     "name": "stdout",
     "output_type": "stream",
     "text": [
      "200\n"
     ]
    }
   ],
   "source": [
    "multi = lambda x, y : x*y\n",
    "print(multi(10,20))"
   ]
  },
  {
   "cell_type": "code",
   "execution_count": 519,
   "id": "14ec0ed2",
   "metadata": {},
   "outputs": [
    {
     "name": "stdout",
     "output_type": "stream",
     "text": [
      "0\n"
     ]
    }
   ],
   "source": [
    "X=lambda x: x%2\n",
    "print(X(10))"
   ]
  },
  {
   "cell_type": "code",
   "execution_count": 220,
   "id": "4b6c4bd2",
   "metadata": {
    "scrolled": true
   },
   "outputs": [
    {
     "data": {
      "text/plain": [
       "20"
      ]
     },
     "execution_count": 220,
     "metadata": {},
     "output_type": "execute_result"
    }
   ],
   "source": [
    "a = -20 # absolute\n",
    "abs(a)"
   ]
  },
  {
   "cell_type": "code",
   "execution_count": 260,
   "id": "deafee64",
   "metadata": {},
   "outputs": [],
   "source": [
    "compute_payment = lambda hours, rate: rate*40 + (1.5*(hours-40)*40) if hours > 40 else 40*hours"
   ]
  },
  {
   "cell_type": "code",
   "execution_count": 261,
   "id": "ae3fc3ca",
   "metadata": {
    "scrolled": true
   },
   "outputs": [
    {
     "data": {
      "text/plain": [
       "2800.0"
      ]
     },
     "execution_count": 261,
     "metadata": {},
     "output_type": "execute_result"
    }
   ],
   "source": [
    "compute_payment(60,40)"
   ]
  },
  {
   "cell_type": "code",
   "execution_count": 266,
   "id": "186fd947",
   "metadata": {},
   "outputs": [
    {
     "data": {
      "text/plain": [
       "[0, 0, 0, 0, 0, 1, 1, 1, 1]"
      ]
     },
     "execution_count": 266,
     "metadata": {},
     "output_type": "execute_result"
    }
   ],
   "source": [
    "my_list = [0, 1, 1, 0 ,0 ,0 ,1 ,0 ,1]\n",
    "aa = sorted(my_list)\n",
    "aa"
   ]
  },
  {
   "cell_type": "code",
   "execution_count": 268,
   "id": "436000ca",
   "metadata": {},
   "outputs": [
    {
     "data": {
      "text/plain": [
       "[0, 0, 0, 0, 0]"
      ]
     },
     "execution_count": 268,
     "metadata": {},
     "output_type": "execute_result"
    }
   ],
   "source": [
    "aa0 = [x for x in my_list if x == 0 ]\n",
    "aa0"
   ]
  },
  {
   "cell_type": "code",
   "execution_count": 270,
   "id": "cb395144",
   "metadata": {},
   "outputs": [
    {
     "data": {
      "text/plain": [
       "[1, 1, 1, 1]"
      ]
     },
     "execution_count": 270,
     "metadata": {},
     "output_type": "execute_result"
    }
   ],
   "source": [
    "aa1 =[x for x in my_list if x == 1]\n",
    "aa1"
   ]
  },
  {
   "cell_type": "code",
   "execution_count": null,
   "id": "4a4f635e",
   "metadata": {},
   "outputs": [],
   "source": []
  },
  {
   "cell_type": "code",
   "execution_count": null,
   "id": "68c17d00",
   "metadata": {},
   "outputs": [],
   "source": []
  },
  {
   "cell_type": "code",
   "execution_count": null,
   "id": "fcf96ee9",
   "metadata": {},
   "outputs": [],
   "source": []
  },
  {
   "cell_type": "code",
   "execution_count": null,
   "id": "589baa70",
   "metadata": {},
   "outputs": [],
   "source": []
  },
  {
   "cell_type": "code",
   "execution_count": null,
   "id": "9772c25c",
   "metadata": {},
   "outputs": [],
   "source": []
  },
  {
   "cell_type": "markdown",
   "id": "db9c0b01",
   "metadata": {},
   "source": [
    "# Type casting"
   ]
  },
  {
   "cell_type": "raw",
   "id": "82d1ab15",
   "metadata": {},
   "source": [
    "Converting one data type into another\n",
    "Integer =int()\n",
    "String=str()\n",
    "Float=float()\n",
    "Boolean= bool()\n",
    "Tuple=tuple()\n",
    "List=list()\n",
    "Set= set()\n",
    "Dictionary = dict() {key:value} (exception)"
   ]
  },
  {
   "cell_type": "code",
   "execution_count": 254,
   "id": "76799e1c",
   "metadata": {},
   "outputs": [
    {
     "data": {
      "text/plain": [
       "str"
      ]
     },
     "execution_count": 254,
     "metadata": {},
     "output_type": "execute_result"
    }
   ],
   "source": [
    "x = \"123\"\n",
    "type(x)"
   ]
  },
  {
   "cell_type": "code",
   "execution_count": 255,
   "id": "8950e788",
   "metadata": {},
   "outputs": [
    {
     "data": {
      "text/plain": [
       "int"
      ]
     },
     "execution_count": 255,
     "metadata": {},
     "output_type": "execute_result"
    }
   ],
   "source": [
    "x1 =int(x)\n",
    "type(x1)"
   ]
  },
  {
   "cell_type": "code",
   "execution_count": 256,
   "id": "616393c4",
   "metadata": {},
   "outputs": [
    {
     "data": {
      "text/plain": [
       "123"
      ]
     },
     "execution_count": 256,
     "metadata": {},
     "output_type": "execute_result"
    }
   ],
   "source": [
    "x1"
   ]
  },
  {
   "cell_type": "code",
   "execution_count": 259,
   "id": "8fab943f",
   "metadata": {},
   "outputs": [
    {
     "name": "stdout",
     "output_type": "stream",
     "text": [
      "123.0\n"
     ]
    },
    {
     "data": {
      "text/plain": [
       "float"
      ]
     },
     "execution_count": 259,
     "metadata": {},
     "output_type": "execute_result"
    }
   ],
   "source": [
    "x2 = float(x1)\n",
    "print(x2)\n",
    "type(x2)"
   ]
  },
  {
   "cell_type": "code",
   "execution_count": 262,
   "id": "c8cc83d2",
   "metadata": {},
   "outputs": [
    {
     "name": "stdout",
     "output_type": "stream",
     "text": [
      "<class 'tuple'>\n",
      "[1, 2, 3, 4]\n"
     ]
    },
    {
     "data": {
      "text/plain": [
       "list"
      ]
     },
     "execution_count": 262,
     "metadata": {},
     "output_type": "execute_result"
    }
   ],
   "source": [
    "tup = (1,2,3,4)\n",
    "print(type(tup))\n",
    "lis = list(tup)\n",
    "print(lis)\n",
    "type(lis)"
   ]
  },
  {
   "cell_type": "code",
   "execution_count": 263,
   "id": "728efc82",
   "metadata": {},
   "outputs": [
    {
     "data": {
      "text/plain": [
       "set"
      ]
     },
     "execution_count": 263,
     "metadata": {},
     "output_type": "execute_result"
    }
   ],
   "source": [
    "st = {1,2,3,4,5,5,6,6,}\n",
    "type(st)"
   ]
  },
  {
   "cell_type": "code",
   "execution_count": 265,
   "id": "178919e2",
   "metadata": {},
   "outputs": [
    {
     "name": "stdout",
     "output_type": "stream",
     "text": [
      "(1, 2, 3, 4, 5, 6)\n"
     ]
    },
    {
     "data": {
      "text/plain": [
       "tuple"
      ]
     },
     "execution_count": 265,
     "metadata": {},
     "output_type": "execute_result"
    }
   ],
   "source": [
    "tupl = tuple(st)\n",
    "print(tupl)\n",
    "type(tupl)"
   ]
  },
  {
   "cell_type": "raw",
   "id": "5403779a",
   "metadata": {},
   "source": [
    "1. Arithmetic operators  = it is used to do mathematical operation\n",
    "+   = addition\n",
    "- = sub\n",
    "*  = multi\n",
    "/ =  division\n",
    "//  = floor division  #it will give the answer in int type data \n",
    "%  = Modulus               # modulus for the remainder\n",
    "**  = power"
   ]
  },
  {
   "cell_type": "code",
   "execution_count": 50,
   "id": "ff983146",
   "metadata": {},
   "outputs": [
    {
     "name": "stdout",
     "output_type": "stream",
     "text": [
      "Sum: 13\n",
      "Difference: 9\n",
      "Product: 22\n",
      "Division: 5.5\n",
      "Power of a to b is : 121\n",
      "Floor division: 5\n",
      "Modulo: 1\n"
     ]
    }
   ],
   "source": [
    "a=11 \n",
    "b=2\n",
    "\n",
    "#addition\n",
    "print('Sum:', a+b)\n",
    "\n",
    "#subtraction\n",
    "print('Difference:', a-b)\n",
    "\n",
    "#multiplication\n",
    "print('Product:', a*b)\n",
    "\n",
    "#Division\n",
    "print('Division:',a/b)\n",
    "\n",
    "#Exponentiation (Power)\n",
    "print('Power of a to b is :',a**b)\n",
    "\n",
    "#Floor Division\n",
    "print('Floor division:',a//b)\n",
    "\n",
    "#Modulo (remainder)\n",
    "print('Modulo:',a%b)"
   ]
  },
  {
   "cell_type": "code",
   "execution_count": null,
   "id": "2eaa4d1d",
   "metadata": {},
   "outputs": [],
   "source": []
  },
  {
   "cell_type": "raw",
   "id": "d3ba5d22",
   "metadata": {},
   "source": [
    "comparison operators = are used to comapare between more than one\n",
    ">  greater\n",
    "<  less than\n",
    "==  equals to\n",
    "!= not equals to\n",
    ">= Greater than or equals to\n",
    "<= less than or equals to\n",
    "feature = it will always the give the output in Boolean ( True and False)"
   ]
  },
  {
   "cell_type": "code",
   "execution_count": 51,
   "id": "4931d984",
   "metadata": {},
   "outputs": [
    {
     "name": "stdout",
     "output_type": "stream",
     "text": [
      "Is it equal: False\n",
      "Is it not equal: True\n",
      "a is greater than: True\n",
      "a is greater than or equal to: True\n",
      "a is less than: False\n",
      "a is less than or equal to: False\n"
     ]
    }
   ],
   "source": [
    "a=11\n",
    "b=2\n",
    "\n",
    "#Equal Operator\n",
    "print('Is it equal:', a==b)\n",
    "\n",
    "#Not Equal Operator\n",
    "print('Is it not equal:', a!=b)\n",
    "\n",
    "#Greater than\n",
    "print('a is greater than:', a>b)\n",
    "\n",
    "#Greater than or equal to\n",
    "print('a is greater than or equal to:', a>=b)\n",
    "\n",
    "#Less than\n",
    "print('a is less than:', a<b)\n",
    "\n",
    "#Less than or equal to\n",
    "print('a is less than or equal to:', a<=b)"
   ]
  },
  {
   "cell_type": "code",
   "execution_count": 266,
   "id": "404fb275",
   "metadata": {},
   "outputs": [],
   "source": [
    "x, y = 5, 8"
   ]
  },
  {
   "cell_type": "code",
   "execution_count": 267,
   "id": "f951d083",
   "metadata": {},
   "outputs": [
    {
     "data": {
      "text/plain": [
       "False"
      ]
     },
     "execution_count": 267,
     "metadata": {},
     "output_type": "execute_result"
    }
   ],
   "source": [
    "x>y"
   ]
  },
  {
   "cell_type": "code",
   "execution_count": 268,
   "id": "8100b431",
   "metadata": {},
   "outputs": [
    {
     "data": {
      "text/plain": [
       "True"
      ]
     },
     "execution_count": 268,
     "metadata": {},
     "output_type": "execute_result"
    }
   ],
   "source": [
    "x<y"
   ]
  },
  {
   "cell_type": "code",
   "execution_count": 269,
   "id": "150cb972",
   "metadata": {},
   "outputs": [
    {
     "data": {
      "text/plain": [
       "True"
      ]
     },
     "execution_count": 269,
     "metadata": {},
     "output_type": "execute_result"
    }
   ],
   "source": [
    "x!=y"
   ]
  },
  {
   "cell_type": "code",
   "execution_count": 270,
   "id": "f6fc9a23",
   "metadata": {},
   "outputs": [
    {
     "data": {
      "text/plain": [
       "False"
      ]
     },
     "execution_count": 270,
     "metadata": {},
     "output_type": "execute_result"
    }
   ],
   "source": [
    "x==y"
   ]
  },
  {
   "cell_type": "markdown",
   "id": "b09043f2",
   "metadata": {},
   "source": [
    "# Logical Operator"
   ]
  },
  {
   "cell_type": "raw",
   "id": "078f0283",
   "metadata": {},
   "source": [
    "Logical Operator = are used to perform  logical opretaion or also we can say for the gate(logocal)\n",
    "and\n",
    "or\n",
    "not"
   ]
  },
  {
   "cell_type": "code",
   "execution_count": 271,
   "id": "76f626db",
   "metadata": {},
   "outputs": [
    {
     "data": {
      "text/plain": [
       "False"
      ]
     },
     "execution_count": 271,
     "metadata": {},
     "output_type": "execute_result"
    }
   ],
   "source": [
    "#not it will take oposite of the output \n",
    "c=5\n",
    "d=5\n",
    "not c==d"
   ]
  },
  {
   "cell_type": "code",
   "execution_count": 272,
   "id": "115e417a",
   "metadata": {},
   "outputs": [
    {
     "data": {
      "text/plain": [
       "False"
      ]
     },
     "execution_count": 272,
     "metadata": {},
     "output_type": "execute_result"
    }
   ],
   "source": [
    "c!=d"
   ]
  },
  {
   "cell_type": "code",
   "execution_count": 273,
   "id": "b94d790c",
   "metadata": {},
   "outputs": [
    {
     "data": {
      "text/plain": [
       "True"
      ]
     },
     "execution_count": 273,
     "metadata": {},
     "output_type": "execute_result"
    }
   ],
   "source": [
    "b=7\n",
    "c=6\n",
    "not b<c"
   ]
  },
  {
   "cell_type": "code",
   "execution_count": 274,
   "id": "434e3d6c",
   "metadata": {},
   "outputs": [
    {
     "data": {
      "text/plain": [
       "True"
      ]
     },
     "execution_count": 274,
     "metadata": {},
     "output_type": "execute_result"
    }
   ],
   "source": [
    "x, y, z = 20, 21, 30\n",
    "x<y and z>y"
   ]
  },
  {
   "cell_type": "code",
   "execution_count": 275,
   "id": "7d49184e",
   "metadata": {},
   "outputs": [
    {
     "data": {
      "text/plain": [
       "False"
      ]
     },
     "execution_count": 275,
     "metadata": {},
     "output_type": "execute_result"
    }
   ],
   "source": [
    "x<y and z<y"
   ]
  },
  {
   "cell_type": "code",
   "execution_count": 52,
   "id": "362934df",
   "metadata": {},
   "outputs": [
    {
     "data": {
      "text/plain": [
       "True"
      ]
     },
     "execution_count": 52,
     "metadata": {},
     "output_type": "execute_result"
    }
   ],
   "source": [
    "a =100\n",
    "b=100\n",
    "a > 8 #comparison operator"
   ]
  },
  {
   "cell_type": "code",
   "execution_count": 53,
   "id": "c4e8a69e",
   "metadata": {},
   "outputs": [
    {
     "data": {
      "text/plain": [
       "True"
      ]
     },
     "execution_count": 53,
     "metadata": {},
     "output_type": "execute_result"
    }
   ],
   "source": [
    "b>10"
   ]
  },
  {
   "cell_type": "code",
   "execution_count": 54,
   "id": "222ddd6b",
   "metadata": {},
   "outputs": [
    {
     "data": {
      "text/plain": [
       "True"
      ]
     },
     "execution_count": 54,
     "metadata": {},
     "output_type": "execute_result"
    }
   ],
   "source": [
    "a>8 and b>10"
   ]
  },
  {
   "cell_type": "code",
   "execution_count": 55,
   "id": "76faccb5",
   "metadata": {},
   "outputs": [
    {
     "data": {
      "text/plain": [
       "False"
      ]
     },
     "execution_count": 55,
     "metadata": {},
     "output_type": "execute_result"
    }
   ],
   "source": [
    "a>8 and b<10"
   ]
  },
  {
   "cell_type": "code",
   "execution_count": 56,
   "id": "3c9f7d4f",
   "metadata": {},
   "outputs": [
    {
     "data": {
      "text/plain": [
       "True"
      ]
     },
     "execution_count": 56,
     "metadata": {},
     "output_type": "execute_result"
    }
   ],
   "source": [
    "a > 8 or b<10 #combined two separate statements"
   ]
  },
  {
   "cell_type": "code",
   "execution_count": 57,
   "id": "1e56733a",
   "metadata": {},
   "outputs": [
    {
     "data": {
      "text/plain": [
       "True"
      ]
     },
     "execution_count": 57,
     "metadata": {},
     "output_type": "execute_result"
    }
   ],
   "source": [
    "a < 8 or b>10 #combined two separate statements"
   ]
  },
  {
   "cell_type": "code",
   "execution_count": 58,
   "id": "a6de1730",
   "metadata": {},
   "outputs": [
    {
     "data": {
      "text/plain": [
       "False"
      ]
     },
     "execution_count": 58,
     "metadata": {},
     "output_type": "execute_result"
    }
   ],
   "source": [
    "not(a > 8 or b<10) #combined two separate statements"
   ]
  },
  {
   "cell_type": "code",
   "execution_count": 59,
   "id": "3cf9ab28",
   "metadata": {},
   "outputs": [
    {
     "data": {
      "text/plain": [
       "True"
      ]
     },
     "execution_count": 59,
     "metadata": {},
     "output_type": "execute_result"
    }
   ],
   "source": [
    "not(a < 8 and  b>10 )#combined two separate statements"
   ]
  },
  {
   "cell_type": "code",
   "execution_count": null,
   "id": "a8c1429b",
   "metadata": {},
   "outputs": [],
   "source": []
  },
  {
   "cell_type": "code",
   "execution_count": null,
   "id": "939c671c",
   "metadata": {},
   "outputs": [],
   "source": []
  },
  {
   "cell_type": "code",
   "execution_count": null,
   "id": "4e041083",
   "metadata": {},
   "outputs": [],
   "source": []
  },
  {
   "cell_type": "code",
   "execution_count": null,
   "id": "740c3657",
   "metadata": {},
   "outputs": [],
   "source": []
  },
  {
   "cell_type": "code",
   "execution_count": null,
   "id": "738f8f5c",
   "metadata": {},
   "outputs": [],
   "source": []
  },
  {
   "cell_type": "code",
   "execution_count": null,
   "id": "dc704e06",
   "metadata": {},
   "outputs": [],
   "source": []
  },
  {
   "cell_type": "code",
   "execution_count": null,
   "id": "819e29a7",
   "metadata": {},
   "outputs": [],
   "source": []
  },
  {
   "cell_type": "markdown",
   "id": "0d7b8bb7",
   "metadata": {},
   "source": [
    "# identity operator"
   ]
  },
  {
   "cell_type": "raw",
   "id": "45a8d152",
   "metadata": {},
   "source": [
    "identity operator\n",
    "used to check a value is present at the same memory or not \n",
    "-is \n",
    "-is not "
   ]
  },
  {
   "cell_type": "code",
   "execution_count": 277,
   "id": "4905fb10",
   "metadata": {},
   "outputs": [
    {
     "data": {
      "text/plain": [
       "True"
      ]
     },
     "execution_count": 277,
     "metadata": {},
     "output_type": "execute_result"
    }
   ],
   "source": [
    "a =5\n",
    "b= 5\n",
    "a is b"
   ]
  },
  {
   "cell_type": "code",
   "execution_count": 278,
   "id": "dce48a98",
   "metadata": {},
   "outputs": [
    {
     "data": {
      "text/plain": [
       "False"
      ]
     },
     "execution_count": 278,
     "metadata": {},
     "output_type": "execute_result"
    }
   ],
   "source": [
    "a =10\n",
    "b =11\n",
    "a is b"
   ]
  },
  {
   "cell_type": "code",
   "execution_count": 279,
   "id": "78906f2a",
   "metadata": {
    "scrolled": true
   },
   "outputs": [
    {
     "data": {
      "text/plain": [
       "True"
      ]
     },
     "execution_count": 279,
     "metadata": {},
     "output_type": "execute_result"
    }
   ],
   "source": [
    "a is not b"
   ]
  },
  {
   "cell_type": "code",
   "execution_count": 281,
   "id": "2eb8cfa2",
   "metadata": {},
   "outputs": [
    {
     "data": {
      "text/plain": [
       "False"
      ]
     },
     "execution_count": 281,
     "metadata": {},
     "output_type": "execute_result"
    }
   ],
   "source": [
    "l =[1,2,3,4]\n",
    "x=2\n",
    "x is l"
   ]
  },
  {
   "cell_type": "markdown",
   "id": "de517707",
   "metadata": {},
   "source": [
    "# membership operator "
   ]
  },
  {
   "cell_type": "raw",
   "id": "8df13d12",
   "metadata": {},
   "source": [
    "membership operator = it is used in sequence datatype\n",
    "-in\n",
    "-not in"
   ]
  },
  {
   "cell_type": "code",
   "execution_count": null,
   "id": "a3a8dbc5",
   "metadata": {},
   "outputs": [],
   "source": []
  },
  {
   "cell_type": "code",
   "execution_count": 280,
   "id": "8bf92788",
   "metadata": {},
   "outputs": [
    {
     "data": {
      "text/plain": [
       "True"
      ]
     },
     "execution_count": 280,
     "metadata": {},
     "output_type": "execute_result"
    }
   ],
   "source": [
    "l=[1,2,3,4]\n",
    "y=2\n",
    "y in l"
   ]
  },
  {
   "cell_type": "code",
   "execution_count": 282,
   "id": "861e89b9",
   "metadata": {},
   "outputs": [
    {
     "data": {
      "text/plain": [
       "False"
      ]
     },
     "execution_count": 282,
     "metadata": {},
     "output_type": "execute_result"
    }
   ],
   "source": [
    "tup= (3,4,4,5,6,7)\n",
    "v=2\n",
    "v in tup"
   ]
  },
  {
   "cell_type": "code",
   "execution_count": 283,
   "id": "a98d7b73",
   "metadata": {},
   "outputs": [
    {
     "data": {
      "text/plain": [
       "True"
      ]
     },
     "execution_count": 283,
     "metadata": {},
     "output_type": "execute_result"
    }
   ],
   "source": [
    "v not in tup"
   ]
  },
  {
   "cell_type": "code",
   "execution_count": 284,
   "id": "5eb085b0",
   "metadata": {},
   "outputs": [
    {
     "data": {
      "text/plain": [
       "True"
      ]
     },
     "execution_count": 284,
     "metadata": {},
     "output_type": "execute_result"
    }
   ],
   "source": [
    "l1=[1,3,4,5]\n",
    "b=2\n",
    "b not in l1"
   ]
  },
  {
   "cell_type": "markdown",
   "id": "7db14fc2",
   "metadata": {},
   "source": [
    "# Assignment operator"
   ]
  },
  {
   "cell_type": "raw",
   "id": "9aa233fc",
   "metadata": {},
   "source": [
    "Assignment operator = to assing a value to a variable\n",
    "=\n",
    "+=\n",
    "-=\n",
    "*=\n",
    "/=\n",
    "**="
   ]
  },
  {
   "cell_type": "code",
   "execution_count": 285,
   "id": "cf3b1d5b",
   "metadata": {},
   "outputs": [
    {
     "data": {
      "text/plain": [
       "10"
      ]
     },
     "execution_count": 285,
     "metadata": {},
     "output_type": "execute_result"
    }
   ],
   "source": [
    "a = 10\n",
    "a"
   ]
  },
  {
   "cell_type": "code",
   "execution_count": 286,
   "id": "0e77f933",
   "metadata": {},
   "outputs": [
    {
     "data": {
      "text/plain": [
       "False"
      ]
     },
     "execution_count": 286,
     "metadata": {},
     "output_type": "execute_result"
    }
   ],
   "source": [
    "A == 10 # it compare value\n"
   ]
  },
  {
   "cell_type": "code",
   "execution_count": null,
   "id": "74df7c77",
   "metadata": {},
   "outputs": [],
   "source": []
  },
  {
   "cell_type": "markdown",
   "id": "882b7ee3",
   "metadata": {},
   "source": [
    "# FUNCTIONS"
   ]
  },
  {
   "cell_type": "code",
   "execution_count": null,
   "id": "da328142",
   "metadata": {},
   "outputs": [],
   "source": []
  },
  {
   "cell_type": "code",
   "execution_count": null,
   "id": "c00db9dd",
   "metadata": {},
   "outputs": [],
   "source": [
    "Function= block of code that is use to do some function\n",
    "#2 type function\n",
    "-user defined function\n",
    "-built-in function"
   ]
  },
  {
   "cell_type": "code",
   "execution_count": null,
   "id": "4eeac7fa",
   "metadata": {},
   "outputs": [],
   "source": [
    "def add(x,y):  #x, y are the parameters or Function Arguments are the variables or data\n",
    "    return x+y\n",
    "add(12,11)"
   ]
  },
  {
   "cell_type": "code",
   "execution_count": null,
   "id": "341979ce",
   "metadata": {},
   "outputs": [],
   "source": [
    "def find_max(nums):\n",
    "    result = nums[0]\n",
    "    for x in nums:\n",
    "        if x> result:\n",
    "            result = x\n",
    "    return result\n",
    "find_max([1,2,8,4,5])"
   ]
  },
  {
   "cell_type": "raw",
   "id": "ea298f6f",
   "metadata": {},
   "source": [
    "> built in = a function that is already made with python\n",
    "   append(), print(), len(),type(), insert()"
   ]
  },
  {
   "cell_type": "raw",
   "id": "becaa35e",
   "metadata": {},
   "source": [
    "user define function\n",
    "a function that a user can make to do some certain functionality.\n",
    "syntax 1:\n",
    "         def functionname(arguments):\n",
    "              statement \n",
    "    \n",
    "calling a function \n",
    "syntax: \n",
    "        functioname(parameter)\n",
    "        \n",
    "        \n",
    "def is a keyword for user define \n",
    "X age fun _fun1  1f \n",
    "aruguments =any varaible or data that we will use inside the function "
   ]
  },
  {
   "cell_type": "code",
   "execution_count": 315,
   "id": "055689e7",
   "metadata": {},
   "outputs": [
    {
     "data": {
      "text/plain": [
       "-10"
      ]
     },
     "execution_count": 315,
     "metadata": {},
     "output_type": "execute_result"
    }
   ],
   "source": [
    "def sub(x,y):\n",
    "    return x-y\n",
    "sub(10,20)"
   ]
  },
  {
   "cell_type": "code",
   "execution_count": 316,
   "id": "e17f6fe1",
   "metadata": {},
   "outputs": [
    {
     "data": {
      "text/plain": [
       "40"
      ]
     },
     "execution_count": 316,
     "metadata": {},
     "output_type": "execute_result"
    }
   ],
   "source": [
    "sub(60,20)"
   ]
  },
  {
   "cell_type": "raw",
   "id": "edbb64dc",
   "metadata": {},
   "source": [
    "advantage of function\n",
    "it makes the code reusable \n",
    "it makes the code small"
   ]
  },
  {
   "cell_type": "code",
   "execution_count": 317,
   "id": "687406e3",
   "metadata": {},
   "outputs": [
    {
     "name": "stdout",
     "output_type": "stream",
     "text": [
      "RAghunathreddy\n"
     ]
    }
   ],
   "source": [
    "def name():\n",
    "    print(\"RAghunathreddy\")\n",
    "name()"
   ]
  },
  {
   "cell_type": "raw",
   "id": "11ecce52",
   "metadata": {},
   "source": [
    "inside the user define function arguments are used to take the varaible\n",
    "for each arguments there would be a parameter\n",
    "Paremeter=  the data that we need to take to use inside my function\n"
   ]
  },
  {
   "cell_type": "code",
   "execution_count": 320,
   "id": "56d34899",
   "metadata": {},
   "outputs": [
    {
     "name": "stdout",
     "output_type": "stream",
     "text": [
      "odd\n"
     ]
    }
   ],
   "source": [
    "def check_val(x):\n",
    "    if x%2==0:\n",
    "        print('even')\n",
    "    else:\n",
    "        print('odd')\n",
    "check_val(11)"
   ]
  },
  {
   "cell_type": "code",
   "execution_count": 321,
   "id": "192f746e",
   "metadata": {},
   "outputs": [
    {
     "name": "stdout",
     "output_type": "stream",
     "text": [
      "even\n"
     ]
    }
   ],
   "source": [
    "check_val(100)"
   ]
  },
  {
   "cell_type": "code",
   "execution_count": 323,
   "id": "b7c1c50e",
   "metadata": {},
   "outputs": [
    {
     "ename": "TypeError",
     "evalue": "check_val() takes 1 positional argument but 2 were given",
     "output_type": "error",
     "traceback": [
      "\u001b[1;31m---------------------------------------------------------------------------\u001b[0m",
      "\u001b[1;31mTypeError\u001b[0m                                 Traceback (most recent call last)",
      "Cell \u001b[1;32mIn[323], line 1\u001b[0m\n\u001b[1;32m----> 1\u001b[0m check_val(\u001b[38;5;241m1\u001b[39m,\u001b[38;5;241m1\u001b[39m)\n",
      "\u001b[1;31mTypeError\u001b[0m: check_val() takes 1 positional argument but 2 were given"
     ]
    }
   ],
   "source": [
    "check_val(1,1)"
   ]
  },
  {
   "cell_type": "code",
   "execution_count": 324,
   "id": "afe7d5ae",
   "metadata": {},
   "outputs": [
    {
     "ename": "TypeError",
     "evalue": "check_val() missing 1 required positional argument: 'x'",
     "output_type": "error",
     "traceback": [
      "\u001b[1;31m---------------------------------------------------------------------------\u001b[0m",
      "\u001b[1;31mTypeError\u001b[0m                                 Traceback (most recent call last)",
      "Cell \u001b[1;32mIn[324], line 1\u001b[0m\n\u001b[1;32m----> 1\u001b[0m check_val()\n",
      "\u001b[1;31mTypeError\u001b[0m: check_val() missing 1 required positional argument: 'x'"
     ]
    }
   ],
   "source": [
    "check_val()"
   ]
  },
  {
   "cell_type": "raw",
   "id": "ad07edf7",
   "metadata": {},
   "source": [
    "return = similar to the function print but it work only inside the function"
   ]
  },
  {
   "cell_type": "code",
   "execution_count": 325,
   "id": "9d9859c1",
   "metadata": {
    "scrolled": true
   },
   "outputs": [
    {
     "ename": "SyntaxError",
     "evalue": "'return' outside function (2874715716.py, line 1)",
     "output_type": "error",
     "traceback": [
      "\u001b[1;36m  Cell \u001b[1;32mIn[325], line 1\u001b[1;36m\u001b[0m\n\u001b[1;33m    return 10\u001b[0m\n\u001b[1;37m    ^\u001b[0m\n\u001b[1;31mSyntaxError\u001b[0m\u001b[1;31m:\u001b[0m 'return' outside function\n"
     ]
    }
   ],
   "source": [
    "return 10"
   ]
  },
  {
   "cell_type": "code",
   "execution_count": null,
   "id": "044b5c4b",
   "metadata": {},
   "outputs": [],
   "source": []
  },
  {
   "cell_type": "code",
   "execution_count": null,
   "id": "0047511e",
   "metadata": {},
   "outputs": [],
   "source": []
  },
  {
   "cell_type": "code",
   "execution_count": null,
   "id": "40549698",
   "metadata": {},
   "outputs": [],
   "source": []
  },
  {
   "cell_type": "code",
   "execution_count": null,
   "id": "54e5b850",
   "metadata": {},
   "outputs": [],
   "source": []
  },
  {
   "cell_type": "code",
   "execution_count": null,
   "id": "d60c942b",
   "metadata": {},
   "outputs": [],
   "source": []
  },
  {
   "cell_type": "code",
   "execution_count": 326,
   "id": "baf1255b",
   "metadata": {},
   "outputs": [
    {
     "name": "stdout",
     "output_type": "stream",
     "text": [
      "10\n"
     ]
    }
   ],
   "source": [
    "print(10)"
   ]
  },
  {
   "cell_type": "markdown",
   "id": "be538577",
   "metadata": {},
   "source": [
    "# EXceptional Handling"
   ]
  },
  {
   "cell_type": "raw",
   "id": "dc8d25d4",
   "metadata": {},
   "source": [
    "synatx:\n",
    "    try:\n",
    "        write your program \n",
    "    except Nameof th error:\n",
    "        code to handle the error\n",
    "    except:\n",
    "        code to handle unknown error\n",
    "    finally:\n",
    "         optional - code shiuld be executed regardles of error or not"
   ]
  },
  {
   "cell_type": "code",
   "execution_count": 551,
   "id": "00ee102c",
   "metadata": {},
   "outputs": [
    {
     "data": {
      "text/plain": [
       "0.5"
      ]
     },
     "execution_count": 551,
     "metadata": {},
     "output_type": "execute_result"
    }
   ],
   "source": [
    "def div(a, b):\n",
    "    return a/b\n",
    "div(2,4)"
   ]
  },
  {
   "cell_type": "code",
   "execution_count": 553,
   "id": "9031759f",
   "metadata": {},
   "outputs": [
    {
     "ename": "ZeroDivisionError",
     "evalue": "division by zero",
     "output_type": "error",
     "traceback": [
      "\u001b[1;31m---------------------------------------------------------------------------\u001b[0m",
      "\u001b[1;31mZeroDivisionError\u001b[0m                         Traceback (most recent call last)",
      "Cell \u001b[1;32mIn[553], line 1\u001b[0m\n\u001b[1;32m----> 1\u001b[0m div(\u001b[38;5;241m2\u001b[39m,\u001b[38;5;241m0\u001b[39m)\n",
      "Cell \u001b[1;32mIn[551], line 2\u001b[0m, in \u001b[0;36mdiv\u001b[1;34m(a, b)\u001b[0m\n\u001b[0;32m      1\u001b[0m \u001b[38;5;28;01mdef\u001b[39;00m \u001b[38;5;21mdiv\u001b[39m(a, b):\n\u001b[1;32m----> 2\u001b[0m     \u001b[38;5;28;01mreturn\u001b[39;00m a\u001b[38;5;241m/\u001b[39mb\n",
      "\u001b[1;31mZeroDivisionError\u001b[0m: division by zero"
     ]
    }
   ],
   "source": [
    "div(2,0)"
   ]
  },
  {
   "cell_type": "markdown",
   "id": "2b21cb2e",
   "metadata": {},
   "source": [
    "# ZeroDivisionError "
   ]
  },
  {
   "cell_type": "code",
   "execution_count": 554,
   "id": "e30746b5",
   "metadata": {},
   "outputs": [
    {
     "name": "stdout",
     "output_type": "stream",
     "text": [
      "cant divide by zero\n"
     ]
    }
   ],
   "source": [
    "def div(a,b):\n",
    "    try:\n",
    "        return a/b\n",
    "    except ZeroDivisionError:\n",
    "        print('cant divide by zero')\n",
    "div(2,0)"
   ]
  },
  {
   "cell_type": "code",
   "execution_count": 557,
   "id": "1d595490",
   "metadata": {},
   "outputs": [
    {
     "name": "stdout",
     "output_type": "stream",
     "text": [
      "cant divide by zero\n"
     ]
    }
   ],
   "source": [
    "def div(a,b):\n",
    "    try:\n",
    "        return a/b\n",
    "    except:\n",
    "        print('cant divide by zero')\n",
    "div(2,0)"
   ]
  },
  {
   "cell_type": "code",
   "execution_count": 558,
   "id": "ced6e195",
   "metadata": {},
   "outputs": [
    {
     "data": {
      "text/plain": [
       "2.5"
      ]
     },
     "execution_count": 558,
     "metadata": {},
     "output_type": "execute_result"
    }
   ],
   "source": [
    "div(5,2)"
   ]
  },
  {
   "cell_type": "markdown",
   "id": "ff315725",
   "metadata": {},
   "source": [
    "# Type Error"
   ]
  },
  {
   "cell_type": "code",
   "execution_count": 565,
   "id": "b655f8c9",
   "metadata": {},
   "outputs": [
    {
     "name": "stdout",
     "output_type": "stream",
     "text": [
      "wrong data type\n"
     ]
    }
   ],
   "source": [
    "def dive(a,b):\n",
    "    try:\n",
    "        return a/b\n",
    "    except TypeError:\n",
    "        print('wrong data type')\n",
    "dive(2,\"3\")"
   ]
  },
  {
   "cell_type": "markdown",
   "id": "02adc884",
   "metadata": {},
   "source": [
    "if we metion type of error but we got different error then exceptional handling wont work "
   ]
  },
  {
   "cell_type": "code",
   "execution_count": 566,
   "id": "623b5bf8",
   "metadata": {},
   "outputs": [
    {
     "ename": "ZeroDivisionError",
     "evalue": "division by zero",
     "output_type": "error",
     "traceback": [
      "\u001b[1;31m---------------------------------------------------------------------------\u001b[0m",
      "\u001b[1;31mZeroDivisionError\u001b[0m                         Traceback (most recent call last)",
      "Cell \u001b[1;32mIn[566], line 6\u001b[0m\n\u001b[0;32m      4\u001b[0m     \u001b[38;5;28;01mexcept\u001b[39;00m \u001b[38;5;167;01mTypeError\u001b[39;00m:\n\u001b[0;32m      5\u001b[0m         \u001b[38;5;28mprint\u001b[39m(\u001b[38;5;124m'\u001b[39m\u001b[38;5;124mwrong data type\u001b[39m\u001b[38;5;124m'\u001b[39m)\n\u001b[1;32m----> 6\u001b[0m dive(\u001b[38;5;241m2\u001b[39m,\u001b[38;5;241m0\u001b[39m)\n",
      "Cell \u001b[1;32mIn[566], line 3\u001b[0m, in \u001b[0;36mdive\u001b[1;34m(a, b)\u001b[0m\n\u001b[0;32m      1\u001b[0m \u001b[38;5;28;01mdef\u001b[39;00m \u001b[38;5;21mdive\u001b[39m(a,b):\n\u001b[0;32m      2\u001b[0m     \u001b[38;5;28;01mtry\u001b[39;00m:\n\u001b[1;32m----> 3\u001b[0m         \u001b[38;5;28;01mreturn\u001b[39;00m a\u001b[38;5;241m/\u001b[39mb\n\u001b[0;32m      4\u001b[0m     \u001b[38;5;28;01mexcept\u001b[39;00m \u001b[38;5;167;01mTypeError\u001b[39;00m:\n\u001b[0;32m      5\u001b[0m         \u001b[38;5;28mprint\u001b[39m(\u001b[38;5;124m'\u001b[39m\u001b[38;5;124mwrong data type\u001b[39m\u001b[38;5;124m'\u001b[39m)\n",
      "\u001b[1;31mZeroDivisionError\u001b[0m: division by zero"
     ]
    }
   ],
   "source": [
    "def dive(a,b):\n",
    "    try:\n",
    "        return a/b\n",
    "    except TypeError:\n",
    "        print('wrong data type')\n",
    "dive(2,0)"
   ]
  },
  {
   "cell_type": "code",
   "execution_count": 571,
   "id": "7166386c",
   "metadata": {},
   "outputs": [
    {
     "name": "stdout",
     "output_type": "stream",
     "text": [
      "Error: You cannot divide a number by 0\n"
     ]
    }
   ],
   "source": [
    "def my_divider(a,b):\n",
    "    try:\n",
    "        return a/b\n",
    "    except ZeroDivisionError:\n",
    "        return \"Error: You cannot divide a number by 0\"\n",
    "    except TypeError:\n",
    "        a = float(a)\n",
    "        b = float(b)\n",
    "        return a/b\n",
    "    \n",
    "var1 = 10\n",
    "var2 = 0\n",
    "print(my_divider(var1, var2))"
   ]
  },
  {
   "cell_type": "code",
   "execution_count": 572,
   "id": "bb3432d4",
   "metadata": {},
   "outputs": [
    {
     "ename": "ZeroDivisionError",
     "evalue": "float division by zero",
     "output_type": "error",
     "traceback": [
      "\u001b[1;31m---------------------------------------------------------------------------\u001b[0m",
      "\u001b[1;31mTypeError\u001b[0m                                 Traceback (most recent call last)",
      "Cell \u001b[1;32mIn[571], line 3\u001b[0m, in \u001b[0;36mmy_divider\u001b[1;34m(a, b)\u001b[0m\n\u001b[0;32m      2\u001b[0m \u001b[38;5;28;01mtry\u001b[39;00m:\n\u001b[1;32m----> 3\u001b[0m     \u001b[38;5;28;01mreturn\u001b[39;00m a\u001b[38;5;241m/\u001b[39mb\n\u001b[0;32m      4\u001b[0m \u001b[38;5;28;01mexcept\u001b[39;00m \u001b[38;5;167;01mZeroDivisionError\u001b[39;00m:\n",
      "\u001b[1;31mTypeError\u001b[0m: unsupported operand type(s) for /: 'int' and 'str'",
      "\nDuring handling of the above exception, another exception occurred:\n",
      "\u001b[1;31mZeroDivisionError\u001b[0m                         Traceback (most recent call last)",
      "Cell \u001b[1;32mIn[572], line 3\u001b[0m\n\u001b[0;32m      1\u001b[0m var1 \u001b[38;5;241m=\u001b[39m \u001b[38;5;241m10\u001b[39m\n\u001b[0;32m      2\u001b[0m var2 \u001b[38;5;241m=\u001b[39m \u001b[38;5;124m'\u001b[39m\u001b[38;5;124m0\u001b[39m\u001b[38;5;124m'\u001b[39m\n\u001b[1;32m----> 3\u001b[0m \u001b[38;5;28mprint\u001b[39m(my_divider(var1, var2))\n",
      "Cell \u001b[1;32mIn[571], line 9\u001b[0m, in \u001b[0;36mmy_divider\u001b[1;34m(a, b)\u001b[0m\n\u001b[0;32m      7\u001b[0m a \u001b[38;5;241m=\u001b[39m \u001b[38;5;28mfloat\u001b[39m(a)\n\u001b[0;32m      8\u001b[0m b \u001b[38;5;241m=\u001b[39m \u001b[38;5;28mfloat\u001b[39m(b)\n\u001b[1;32m----> 9\u001b[0m \u001b[38;5;28;01mreturn\u001b[39;00m a\u001b[38;5;241m/\u001b[39mb\n",
      "\u001b[1;31mZeroDivisionError\u001b[0m: float division by zero"
     ]
    }
   ],
   "source": [
    "var1 = 10\n",
    "var2 = '0'\n",
    "print(my_divider(var1, var2))"
   ]
  },
  {
   "cell_type": "code",
   "execution_count": 573,
   "id": "611b34b3",
   "metadata": {},
   "outputs": [
    {
     "name": "stdout",
     "output_type": "stream",
     "text": [
      "input error\n"
     ]
    }
   ],
   "source": [
    "def my_divider(a,b):\n",
    "    try:\n",
    "        return a/b\n",
    "    except ZeroDivisionError:\n",
    "        return \"Error: You cannot divide a number by 0\"\n",
    "    except TypeError:\n",
    "       \n",
    "        return 'input error'\n",
    "    \n",
    "var1 = 10\n",
    "var2 = 'dog'\n",
    "print(my_divider(var1, var2))"
   ]
  },
  {
   "cell_type": "markdown",
   "id": "9211e0ca",
   "metadata": {},
   "source": [
    "# ValueError"
   ]
  },
  {
   "cell_type": "code",
   "execution_count": 574,
   "id": "cb0c57a1",
   "metadata": {},
   "outputs": [
    {
     "ename": "TypeError",
     "evalue": "unsupported operand type(s) for /: 'int' and 'str'",
     "output_type": "error",
     "traceback": [
      "\u001b[1;31m---------------------------------------------------------------------------\u001b[0m",
      "\u001b[1;31mTypeError\u001b[0m                                 Traceback (most recent call last)",
      "Cell \u001b[1;32mIn[574], line 11\u001b[0m\n\u001b[0;32m      9\u001b[0m var1 \u001b[38;5;241m=\u001b[39m \u001b[38;5;241m10\u001b[39m\n\u001b[0;32m     10\u001b[0m var2 \u001b[38;5;241m=\u001b[39m \u001b[38;5;124m'\u001b[39m\u001b[38;5;124mdog\u001b[39m\u001b[38;5;124m'\u001b[39m\n\u001b[1;32m---> 11\u001b[0m \u001b[38;5;28mprint\u001b[39m(my_divider(var1, var2))\n",
      "Cell \u001b[1;32mIn[574], line 3\u001b[0m, in \u001b[0;36mmy_divider\u001b[1;34m(a, b)\u001b[0m\n\u001b[0;32m      1\u001b[0m \u001b[38;5;28;01mdef\u001b[39;00m \u001b[38;5;21mmy_divider\u001b[39m(a,b):\n\u001b[0;32m      2\u001b[0m     \u001b[38;5;28;01mtry\u001b[39;00m:\n\u001b[1;32m----> 3\u001b[0m         \u001b[38;5;28;01mreturn\u001b[39;00m a\u001b[38;5;241m/\u001b[39mb\n\u001b[0;32m      4\u001b[0m     \u001b[38;5;28;01mexcept\u001b[39;00m \u001b[38;5;167;01mZeroDivisionError\u001b[39;00m:\n\u001b[0;32m      5\u001b[0m         \u001b[38;5;28;01mreturn\u001b[39;00m \u001b[38;5;124m\"\u001b[39m\u001b[38;5;124mError: You cannot divide a number by 0\u001b[39m\u001b[38;5;124m\"\u001b[39m\n",
      "\u001b[1;31mTypeError\u001b[0m: unsupported operand type(s) for /: 'int' and 'str'"
     ]
    }
   ],
   "source": [
    "def my_divider(a,b):\n",
    "    try:\n",
    "        return a/b\n",
    "    except ZeroDivisionError:\n",
    "        return \"Error: You cannot divide a number by 0\"\n",
    "    except NameError:\n",
    "        return 'input error'\n",
    "    \n",
    "var1 = 10\n",
    "var2 = 'dog'\n",
    "print(my_divider(var1, var2))"
   ]
  },
  {
   "cell_type": "markdown",
   "id": "636d3295",
   "metadata": {},
   "source": [
    "# Unkown error"
   ]
  },
  {
   "cell_type": "code",
   "execution_count": 575,
   "id": "9ef4d664",
   "metadata": {},
   "outputs": [],
   "source": [
    "def my_divider(a,b):\n",
    "    try:\n",
    "        return a/b\n",
    "    except ZeroDivisionError:\n",
    "         return \"Error: You cannot divide a number by 0\"\n",
    "    except TypeError:\n",
    "         return \"Error: The type of variable is invalid\"\n",
    "    except:\n",
    "         return \"Error: Unknown error\""
   ]
  },
  {
   "cell_type": "code",
   "execution_count": 576,
   "id": "a996dda9",
   "metadata": {},
   "outputs": [
    {
     "data": {
      "text/plain": [
       "2.5"
      ]
     },
     "execution_count": 576,
     "metadata": {},
     "output_type": "execute_result"
    }
   ],
   "source": [
    "my_divider(5,2)"
   ]
  },
  {
   "cell_type": "code",
   "execution_count": 577,
   "id": "bf65a4fb",
   "metadata": {},
   "outputs": [
    {
     "data": {
      "text/plain": [
       "'Error: You cannot divide a number by 0'"
      ]
     },
     "execution_count": 577,
     "metadata": {},
     "output_type": "execute_result"
    }
   ],
   "source": [
    "my_divider(5,0)"
   ]
  },
  {
   "cell_type": "code",
   "execution_count": 578,
   "id": "7e11c138",
   "metadata": {},
   "outputs": [
    {
     "data": {
      "text/plain": [
       "'Error: The type of variable is invalid'"
      ]
     },
     "execution_count": 578,
     "metadata": {},
     "output_type": "execute_result"
    }
   ],
   "source": [
    "my_divider(5,'0')"
   ]
  },
  {
   "cell_type": "code",
   "execution_count": 582,
   "id": "d2309f16",
   "metadata": {},
   "outputs": [
    {
     "data": {
      "text/plain": [
       "'Error: The type of variable is invalid'"
      ]
     },
     "execution_count": 582,
     "metadata": {},
     "output_type": "execute_result"
    }
   ],
   "source": [
    "my_divider(5,\"dog\")"
   ]
  },
  {
   "cell_type": "code",
   "execution_count": 583,
   "id": "c804064f",
   "metadata": {
    "scrolled": true
   },
   "outputs": [
    {
     "data": {
      "text/plain": [
       "'Error: The type of variable is invalid'"
      ]
     },
     "execution_count": 583,
     "metadata": {},
     "output_type": "execute_result"
    }
   ],
   "source": [
    "my_divider(5,d)"
   ]
  },
  {
   "cell_type": "code",
   "execution_count": 584,
   "id": "f0d88b3a",
   "metadata": {},
   "outputs": [],
   "source": [
    "def my_divider(a,b):\n",
    "    try:\n",
    "         result = a/b\n",
    "    except ZeroDivisionError:\n",
    "         result = \"Error: You cannot divide a number by 0\"\n",
    "    except TypeError:\n",
    "         result = \"Error: The type of variable is invalid\"\n",
    "    except:\n",
    "         result = \"Error: Unknown error\"\n",
    "    finally:\n",
    "         return \"Result = {}\".format(result)"
   ]
  },
  {
   "cell_type": "code",
   "execution_count": 585,
   "id": "b1648dfe",
   "metadata": {},
   "outputs": [
    {
     "data": {
      "text/plain": [
       "'Result = 0.4'"
      ]
     },
     "execution_count": 585,
     "metadata": {},
     "output_type": "execute_result"
    }
   ],
   "source": [
    "my_divider(2,5)"
   ]
  },
  {
   "cell_type": "code",
   "execution_count": 586,
   "id": "71f6ea8c",
   "metadata": {},
   "outputs": [
    {
     "data": {
      "text/plain": [
       "'Result = Error: The type of variable is invalid'"
      ]
     },
     "execution_count": 586,
     "metadata": {},
     "output_type": "execute_result"
    }
   ],
   "source": [
    "my_divider(2,'dog')"
   ]
  },
  {
   "cell_type": "code",
   "execution_count": 587,
   "id": "e219fbb5",
   "metadata": {},
   "outputs": [
    {
     "name": "stdout",
     "output_type": "stream",
     "text": [
      "Result = 1.25\n"
     ]
    }
   ],
   "source": [
    "var1 = 10\n",
    "var2 = 8\n",
    "print(my_divider(var1, var2))"
   ]
  },
  {
   "cell_type": "code",
   "execution_count": 588,
   "id": "bca62505",
   "metadata": {},
   "outputs": [
    {
     "ename": "ZeroDivisionError",
     "evalue": "division by zero",
     "output_type": "error",
     "traceback": [
      "\u001b[1;31m---------------------------------------------------------------------------\u001b[0m",
      "\u001b[1;31mZeroDivisionError\u001b[0m                         Traceback (most recent call last)",
      "Cell \u001b[1;32mIn[588], line 1\u001b[0m\n\u001b[1;32m----> 1\u001b[0m \u001b[38;5;241m10\u001b[39m \u001b[38;5;241m*\u001b[39m (\u001b[38;5;241m1\u001b[39m\u001b[38;5;241m/\u001b[39m\u001b[38;5;241m0\u001b[39m)\n",
      "\u001b[1;31mZeroDivisionError\u001b[0m: division by zero"
     ]
    }
   ],
   "source": [
    " 10 * (1/0)\n"
   ]
  },
  {
   "cell_type": "code",
   "execution_count": 589,
   "id": "3b36b858",
   "metadata": {},
   "outputs": [
    {
     "ename": "NameError",
     "evalue": "name 'spam' is not defined",
     "output_type": "error",
     "traceback": [
      "\u001b[1;31m---------------------------------------------------------------------------\u001b[0m",
      "\u001b[1;31mNameError\u001b[0m                                 Traceback (most recent call last)",
      "Cell \u001b[1;32mIn[589], line 1\u001b[0m\n\u001b[1;32m----> 1\u001b[0m \u001b[38;5;241m4\u001b[39m \u001b[38;5;241m+\u001b[39m spam\u001b[38;5;241m*\u001b[39m\u001b[38;5;241m3\u001b[39m\n",
      "\u001b[1;31mNameError\u001b[0m: name 'spam' is not defined"
     ]
    }
   ],
   "source": [
    " 4 + spam*3"
   ]
  },
  {
   "cell_type": "code",
   "execution_count": 590,
   "id": "bb272dfe",
   "metadata": {},
   "outputs": [
    {
     "ename": "TypeError",
     "evalue": "can only concatenate str (not \"int\") to str",
     "output_type": "error",
     "traceback": [
      "\u001b[1;31m---------------------------------------------------------------------------\u001b[0m",
      "\u001b[1;31mTypeError\u001b[0m                                 Traceback (most recent call last)",
      "Cell \u001b[1;32mIn[590], line 1\u001b[0m\n\u001b[1;32m----> 1\u001b[0m \u001b[38;5;124m'\u001b[39m\u001b[38;5;124m2\u001b[39m\u001b[38;5;124m'\u001b[39m \u001b[38;5;241m+\u001b[39m \u001b[38;5;241m2\u001b[39m\n",
      "\u001b[1;31mTypeError\u001b[0m: can only concatenate str (not \"int\") to str"
     ]
    }
   ],
   "source": [
    "'2' + 2"
   ]
  },
  {
   "cell_type": "code",
   "execution_count": 591,
   "id": "4db16cee",
   "metadata": {},
   "outputs": [
    {
     "ename": "SyntaxError",
     "evalue": "invalid syntax (2884618176.py, line 1)",
     "output_type": "error",
     "traceback": [
      "\u001b[1;36m  Cell \u001b[1;32mIn[591], line 1\u001b[1;36m\u001b[0m\n\u001b[1;33m    while True print('Hello world')\u001b[0m\n\u001b[1;37m               ^\u001b[0m\n\u001b[1;31mSyntaxError\u001b[0m\u001b[1;31m:\u001b[0m invalid syntax\n"
     ]
    }
   ],
   "source": [
    "while True print('Hello world')"
   ]
  },
  {
   "cell_type": "code",
   "execution_count": 593,
   "id": "b65c5df7",
   "metadata": {},
   "outputs": [
    {
     "name": "stdout",
     "output_type": "stream",
     "text": [
      "Please enter a number: jg\n",
      "Oops! That was no valid number. Try again...\n",
      "Please enter a number: tt\n",
      "Oops! That was no valid number. Try again...\n",
      "Please enter a number: 0\n"
     ]
    }
   ],
   "source": [
    "while True:\n",
    "    try:\n",
    "        x = int(input(\"Please enter a number: \"))\n",
    "        break\n",
    "    except ValueError:\n",
    "        print(\"Oops! That was no valid number. Try again...\")"
   ]
  },
  {
   "cell_type": "code",
   "execution_count": 594,
   "id": "9a4f411d",
   "metadata": {},
   "outputs": [
    {
     "name": "stdout",
     "output_type": "stream",
     "text": [
      "Goodbye, world!\n"
     ]
    },
    {
     "ename": "KeyboardInterrupt",
     "evalue": "",
     "output_type": "error",
     "traceback": [
      "\u001b[1;31m---------------------------------------------------------------------------\u001b[0m",
      "\u001b[1;31mKeyboardInterrupt\u001b[0m                         Traceback (most recent call last)",
      "Cell \u001b[1;32mIn[594], line 2\u001b[0m\n\u001b[0;32m      1\u001b[0m \u001b[38;5;28;01mtry\u001b[39;00m:\n\u001b[1;32m----> 2\u001b[0m     \u001b[38;5;28;01mraise\u001b[39;00m \u001b[38;5;167;01mKeyboardInterrupt\u001b[39;00m\n\u001b[0;32m      3\u001b[0m \u001b[38;5;28;01mfinally\u001b[39;00m:\n\u001b[0;32m      4\u001b[0m     \u001b[38;5;28mprint\u001b[39m(\u001b[38;5;124m'\u001b[39m\u001b[38;5;124mGoodbye, world!\u001b[39m\u001b[38;5;124m'\u001b[39m)\n",
      "\u001b[1;31mKeyboardInterrupt\u001b[0m: "
     ]
    }
   ],
   "source": [
    "try:\n",
    "    raise KeyboardInterrupt\n",
    "finally:\n",
    "    print('Goodbye, world!')"
   ]
  },
  {
   "cell_type": "code",
   "execution_count": 595,
   "id": "e5c8ad1a",
   "metadata": {},
   "outputs": [],
   "source": [
    "def divide(x, y):\n",
    "    try:\n",
    "        result = x / y\n",
    "    except ZeroDivisionError:\n",
    "        print(\"division by zero!\")\n",
    "    else:\n",
    "        print(\"result is\", result)\n",
    "    finally:\n",
    "        print(\"executing finally clause\")\n"
   ]
  },
  {
   "cell_type": "code",
   "execution_count": 596,
   "id": "fccc3460",
   "metadata": {},
   "outputs": [
    {
     "name": "stdout",
     "output_type": "stream",
     "text": [
      "result is 0.5\n",
      "executing finally clause\n"
     ]
    }
   ],
   "source": [
    "divide(2,4)"
   ]
  },
  {
   "cell_type": "code",
   "execution_count": 597,
   "id": "70056bb0",
   "metadata": {},
   "outputs": [
    {
     "name": "stdout",
     "output_type": "stream",
     "text": [
      "division by zero!\n",
      "executing finally clause\n"
     ]
    }
   ],
   "source": [
    "divide(2,0)"
   ]
  },
  {
   "cell_type": "code",
   "execution_count": 598,
   "id": "c9b0ff31",
   "metadata": {},
   "outputs": [
    {
     "name": "stdout",
     "output_type": "stream",
     "text": [
      "result is 0.0\n",
      "executing finally clause\n"
     ]
    }
   ],
   "source": [
    "divide(0,2)"
   ]
  },
  {
   "cell_type": "code",
   "execution_count": 599,
   "id": "6c89a6a8",
   "metadata": {},
   "outputs": [
    {
     "name": "stdout",
     "output_type": "stream",
     "text": [
      "executing finally clause\n"
     ]
    },
    {
     "ename": "TypeError",
     "evalue": "unsupported operand type(s) for /: 'str' and 'str'",
     "output_type": "error",
     "traceback": [
      "\u001b[1;31m---------------------------------------------------------------------------\u001b[0m",
      "\u001b[1;31mTypeError\u001b[0m                                 Traceback (most recent call last)",
      "Cell \u001b[1;32mIn[599], line 1\u001b[0m\n\u001b[1;32m----> 1\u001b[0m divide(\u001b[38;5;124m'\u001b[39m\u001b[38;5;124m0\u001b[39m\u001b[38;5;124m'\u001b[39m,\u001b[38;5;124m'\u001b[39m\u001b[38;5;124m2\u001b[39m\u001b[38;5;124m'\u001b[39m)\n",
      "Cell \u001b[1;32mIn[595], line 3\u001b[0m, in \u001b[0;36mdivide\u001b[1;34m(x, y)\u001b[0m\n\u001b[0;32m      1\u001b[0m \u001b[38;5;28;01mdef\u001b[39;00m \u001b[38;5;21mdivide\u001b[39m(x, y):\n\u001b[0;32m      2\u001b[0m     \u001b[38;5;28;01mtry\u001b[39;00m:\n\u001b[1;32m----> 3\u001b[0m         result \u001b[38;5;241m=\u001b[39m x \u001b[38;5;241m/\u001b[39m y\n\u001b[0;32m      4\u001b[0m     \u001b[38;5;28;01mexcept\u001b[39;00m \u001b[38;5;167;01mZeroDivisionError\u001b[39;00m:\n\u001b[0;32m      5\u001b[0m         \u001b[38;5;28mprint\u001b[39m(\u001b[38;5;124m\"\u001b[39m\u001b[38;5;124mdivision by zero!\u001b[39m\u001b[38;5;124m\"\u001b[39m)\n",
      "\u001b[1;31mTypeError\u001b[0m: unsupported operand type(s) for /: 'str' and 'str'"
     ]
    }
   ],
   "source": [
    "divide('0','2')"
   ]
  },
  {
   "cell_type": "code",
   "execution_count": 601,
   "id": "8d1f2a96",
   "metadata": {},
   "outputs": [
    {
     "name": "stdout",
     "output_type": "stream",
     "text": [
      "enter the num1:2\n",
      "enter the num1:0\n",
      "ZeroDivisionError Exception\n",
      "divison is:  None\n"
     ]
    }
   ],
   "source": [
    "x = input('enter the num1:')\n",
    "y = input('enter the num1:')\n",
    "try:\n",
    "    z = int(x)/int(y)\n",
    "except ZeroDivisionError:  # perticular exception\n",
    "    print('ZeroDivisionError Exception')\n",
    "    z = None\n",
    "# here we can check what type of error leading to exception    \n",
    "except Exception as e:  # generic exception\n",
    "    print('exception type: ',type(e).__name__)\n",
    "    z = None    \n",
    "print('divison is: ',z)"
   ]
  },
  {
   "cell_type": "code",
   "execution_count": 604,
   "id": "f52c6b44",
   "metadata": {},
   "outputs": [
    {
     "name": "stdout",
     "output_type": "stream",
     "text": [
      "enter the num1:2\n",
      "enter the num1:6\n",
      "divison is:  0.3333333333333333\n"
     ]
    }
   ],
   "source": [
    "x = input('enter the num1:')\n",
    "y = input('enter the num1:')\n",
    "try:\n",
    "    z = int(x)/int(y)\n",
    "except ZeroDivisionError:  # perticular exception\n",
    "    print('ZeroDivisionError Exception')\n",
    "    z = None\n",
    "    \n",
    "print('divison is: ',z)"
   ]
  },
  {
   "cell_type": "code",
   "execution_count": 605,
   "id": "a92fbe95",
   "metadata": {},
   "outputs": [
    {
     "name": "stdout",
     "output_type": "stream",
     "text": [
      "enter the num1:5\n",
      "enter the num1:0\n",
      "exception accured:  division by zero\n",
      "divison is:  None\n"
     ]
    }
   ],
   "source": [
    "#exceptional handling\n",
    "\n",
    "x = input('enter the num1:')\n",
    "y = input('enter the num1:')\n",
    "try:\n",
    "    z = int(x)/int(y)\n",
    "except Exception as e:  # generic exception\n",
    "    print('exception accured: ',e)\n",
    "    z = None\n",
    "    \n",
    "print('divison is: ',z)"
   ]
  },
  {
   "cell_type": "markdown",
   "id": "051a5dc2",
   "metadata": {},
   "source": [
    "How to raise exceptional error"
   ]
  },
  {
   "cell_type": "code",
   "execution_count": 606,
   "id": "fee9c448",
   "metadata": {},
   "outputs": [
    {
     "name": "stdout",
     "output_type": "stream",
     "text": [
      "memory error\n"
     ]
    }
   ],
   "source": [
    "# always use specific exceptuonal error\n",
    "try:\n",
    "    raise MemoryError('memory error')\n",
    "except MemoryError as e:\n",
    "    print(e)"
   ]
  },
  {
   "cell_type": "code",
   "execution_count": 607,
   "id": "d6162a2d",
   "metadata": {},
   "outputs": [
    {
     "name": "stdout",
     "output_type": "stream",
     "text": [
      "user defined xception: crash betweem two cars\n"
     ]
    }
   ],
   "source": [
    "class Accident(Exception):\n",
    "    def __init__(self,msg):\n",
    "        self.msg=msg\n",
    "    def print_exception(self):\n",
    "        print('user defined xception:',self.msg)\n",
    "\n",
    "        \n",
    "try:\n",
    "    raise Accident('crash betweem two cars')\n",
    "except Accident as e:\n",
    "    e.print_exception()"
   ]
  },
  {
   "cell_type": "code",
   "execution_count": 366,
   "id": "f3c0bdf7",
   "metadata": {},
   "outputs": [
    {
     "name": "stdout",
     "output_type": "stream",
     "text": [
      "args is ('one', 'two')\n",
      "kwargs is {'x': 1, 'y': 2, 'z': 3}\n"
     ]
    }
   ],
   "source": [
    "# we can give any num of arg n kwargs\n",
    "def variable_args(*args, **kwargs):\n",
    "    print('args is', args)\n",
    "    print('kwargs is', kwargs)\n",
    "    \n",
    "variable_args('one', 'two', x=1, y=2, z=3)"
   ]
  },
  {
   "cell_type": "code",
   "execution_count": null,
   "id": "37db9f85",
   "metadata": {},
   "outputs": [],
   "source": []
  },
  {
   "cell_type": "code",
   "execution_count": null,
   "id": "9eb52938",
   "metadata": {},
   "outputs": [],
   "source": []
  },
  {
   "cell_type": "markdown",
   "id": "b726d214",
   "metadata": {},
   "source": [
    "# OOPS"
   ]
  },
  {
   "cell_type": "raw",
   "id": "87270977",
   "metadata": {},
   "source": [
    "oops = obejct oriented programming structure\n",
    "class \n",
    "object\n",
    "constructor\n",
    "self\n",
    "pillars of oops = 4 features\n",
    "1.Inheirtance\n",
    "2.Encapsulation\n",
    "3. Polymorphism\n",
    "4. Abstarction"
   ]
  },
  {
   "cell_type": "raw",
   "id": "f1fc3487",
   "metadata": {},
   "source": [
    "class = a class is blue print of a programn or  Blueprint to create objects\n",
    "object= real world entity\n",
    "\n",
    "class syntax\n",
    "class classname:\n",
    "    statement\n",
    "    \n",
    "syntax object\n",
    "objectname = classname()\n",
    "objectname.functioname(parameter)"
   ]
  },
  {
   "cell_type": "markdown",
   "id": "cced7243",
   "metadata": {},
   "source": [
    "self = self is keywrord that is used to provide the address of a function inside a class"
   ]
  },
  {
   "cell_type": "code",
   "execution_count": 339,
   "id": "fec3da85",
   "metadata": {},
   "outputs": [
    {
     "data": {
      "text/plain": [
       "5"
      ]
     },
     "execution_count": 339,
     "metadata": {},
     "output_type": "execute_result"
    }
   ],
   "source": [
    "class parent:\n",
    "    def fun1(self,v,y):\n",
    "        return v+y\n",
    "obj = parent()\n",
    "obj.fun1(2,3)"
   ]
  },
  {
   "cell_type": "code",
   "execution_count": 509,
   "id": "53635136",
   "metadata": {},
   "outputs": [
    {
     "name": "stdout",
     "output_type": "stream",
     "text": [
      "24\n",
      "9\n",
      "120\n",
      "15\n"
     ]
    }
   ],
   "source": [
    "class calcu:\n",
    "    def math(self,a,b,c):\n",
    "        print(a*b*c)\n",
    "        print(a+b+c)\n",
    "object=calcu()\n",
    "object.math(2,3,4)\n",
    "object.math(5,6,4)\n"
   ]
  },
  {
   "cell_type": "code",
   "execution_count": 512,
   "id": "b6302e54",
   "metadata": {},
   "outputs": [],
   "source": [
    "class variable:\n",
    "    def name(self,a):\n",
    "        return a\n",
    "    def age(self,b):\n",
    "        return b\n",
    "    def group(self,c):\n",
    "        return c\n"
   ]
  },
  {
   "cell_type": "code",
   "execution_count": 513,
   "id": "4d3e4bb1",
   "metadata": {},
   "outputs": [
    {
     "name": "stdout",
     "output_type": "stream",
     "text": [
      "ragunpati\n",
      "27\n",
      "ds\n"
     ]
    }
   ],
   "source": [
    "ob = variable()\n",
    "print(ob.name('ragunpati'))\n",
    "print(ob.age(27))\n",
    "print(ob.group(\"ds\"))"
   ]
  },
  {
   "cell_type": "code",
   "execution_count": null,
   "id": "5a97c6f7",
   "metadata": {},
   "outputs": [],
   "source": []
  },
  {
   "cell_type": "code",
   "execution_count": null,
   "id": "c2faf829",
   "metadata": {},
   "outputs": [],
   "source": []
  },
  {
   "cell_type": "code",
   "execution_count": 341,
   "id": "606844bd",
   "metadata": {},
   "outputs": [
    {
     "name": "stdout",
     "output_type": "stream",
     "text": [
      "REddt\n"
     ]
    }
   ],
   "source": [
    "class fun2:\n",
    "    def name(slef, s):\n",
    "        print(s)\n",
    "    def age(self,a):\n",
    "        return a\n",
    "    def group(self,x):\n",
    "        return x\n",
    "\n",
    "obj = fun2()\n",
    "obj.name(\"REddt\")"
   ]
  },
  {
   "cell_type": "code",
   "execution_count": 342,
   "id": "2d898bc3",
   "metadata": {},
   "outputs": [
    {
     "name": "stdout",
     "output_type": "stream",
     "text": [
      "30\n"
     ]
    }
   ],
   "source": [
    "print(obj.age(30))"
   ]
  },
  {
   "cell_type": "code",
   "execution_count": 344,
   "id": "b997317c",
   "metadata": {},
   "outputs": [
    {
     "data": {
      "text/plain": [
       "'TEch'"
      ]
     },
     "execution_count": 344,
     "metadata": {},
     "output_type": "execute_result"
    }
   ],
   "source": [
    "obj.group('TEch')"
   ]
  },
  {
   "cell_type": "code",
   "execution_count": 345,
   "id": "4c8740aa",
   "metadata": {},
   "outputs": [
    {
     "name": "stdout",
     "output_type": "stream",
     "text": [
      "3\n",
      "Hello\n"
     ]
    }
   ],
   "source": [
    "class Python:\n",
    "    def program(self,x,y):\n",
    "        return x//y\n",
    "    def code(self, c):\n",
    "        return c\n",
    "obje=Python()\n",
    "print(obje.program(10,3))\n",
    "print(obje.code(\"Hello\"))"
   ]
  },
  {
   "cell_type": "raw",
   "id": "d459914c",
   "metadata": {},
   "source": [
    "note \n",
    "-  Step 1 make the object for the class\n",
    "-  step 2 calling the function via the same object"
   ]
  },
  {
   "cell_type": "markdown",
   "id": "e4152553",
   "metadata": {},
   "source": [
    "# constructor"
   ]
  },
  {
   "cell_type": "raw",
   "id": "38726a6e",
   "metadata": {},
   "source": [
    "constructor is function  (__init__)\n",
    "constructor is the self invoking function inside a class\n",
    "rule = for each class there would be one constructor only\n",
    "\n",
    "syntax\n",
    "def __init__():\n",
    "    statement"
   ]
  },
  {
   "cell_type": "code",
   "execution_count": 346,
   "id": "78045851",
   "metadata": {},
   "outputs": [
    {
     "name": "stdout",
     "output_type": "stream",
     "text": [
      "hello ji\n"
     ]
    }
   ],
   "source": [
    "class abc:\n",
    "    def dun(self):\n",
    "        print('hello ji')\n",
    "x = abc()\n",
    "x.dun()"
   ]
  },
  {
   "cell_type": "code",
   "execution_count": 347,
   "id": "db281b82",
   "metadata": {},
   "outputs": [],
   "source": [
    "class abc():\n",
    "    def __init__(self):\n",
    "        print('my name is class')\n",
    "    def fun1(self):\n",
    "        print('rock the party')"
   ]
  },
  {
   "cell_type": "code",
   "execution_count": 349,
   "id": "fe0873ad",
   "metadata": {},
   "outputs": [
    {
     "name": "stdout",
     "output_type": "stream",
     "text": [
      "my name is class\n",
      "rock the party\n"
     ]
    }
   ],
   "source": [
    "obj = abc() \n",
    "obj.fun1()"
   ]
  },
  {
   "cell_type": "raw",
   "id": "529c8d9b",
   "metadata": {},
   "source": [
    "Note - whenever we will make a constructor (__init__) it woulb be called whenevr we will make the object of the class"
   ]
  },
  {
   "cell_type": "code",
   "execution_count": 351,
   "id": "348c2034",
   "metadata": {},
   "outputs": [],
   "source": [
    "class me:\n",
    "    def __init__(self, a,b):\n",
    "        print(a+b)\n",
    "    def fun3(self, x,y):\n",
    "        print(x-y)\n",
    "    def fun4(self, v,z):\n",
    "         print(v*z)\n",
    "    def fun5(self, k,l):\n",
    "        print(k%l)"
   ]
  },
  {
   "cell_type": "code",
   "execution_count": 356,
   "id": "63b47b11",
   "metadata": {},
   "outputs": [
    {
     "name": "stdout",
     "output_type": "stream",
     "text": [
      "11\n",
      "-52\n"
     ]
    }
   ],
   "source": [
    "o = me(5,6)\n",
    "o.fun3(3,55)"
   ]
  },
  {
   "cell_type": "code",
   "execution_count": 358,
   "id": "0ee6575c",
   "metadata": {},
   "outputs": [
    {
     "name": "stdout",
     "output_type": "stream",
     "text": [
      "13\n"
     ]
    }
   ],
   "source": [
    "xx=me(5,8) # we can use multiple object for same class"
   ]
  },
  {
   "cell_type": "code",
   "execution_count": 360,
   "id": "624a5db2",
   "metadata": {},
   "outputs": [
    {
     "name": "stdout",
     "output_type": "stream",
     "text": [
      "40\n",
      "40\n"
     ]
    }
   ],
   "source": [
    "xx.fun4(5,8)\n",
    "o.fun4(5,8)"
   ]
  },
  {
   "cell_type": "code",
   "execution_count": 361,
   "id": "488c0947",
   "metadata": {},
   "outputs": [
    {
     "name": "stdout",
     "output_type": "stream",
     "text": [
      "0\n"
     ]
    }
   ],
   "source": [
    "o.fun5(10,2)"
   ]
  },
  {
   "cell_type": "code",
   "execution_count": 514,
   "id": "f18a3592",
   "metadata": {},
   "outputs": [
    {
     "name": "stdout",
     "output_type": "stream",
     "text": [
      "my name is raghunathreddy\n",
      "alias reddy\n"
     ]
    }
   ],
   "source": [
    "class datas:\n",
    "    def __init__(self):\n",
    "        print('my name is raghunathreddy')\n",
    "    def fun(self):\n",
    "        print('alias reddy')\n",
    "ob=datas()\n",
    "ob.fun()       "
   ]
  },
  {
   "cell_type": "code",
   "execution_count": 515,
   "id": "a9eabb39",
   "metadata": {},
   "outputs": [],
   "source": [
    "class mony:\n",
    "    def __init__(self,x,z):\n",
    "        print(x+z)\n",
    "    def fun(self,a,b):\n",
    "        print(a*b)\n",
    "    def fun1(self,d,s):\n",
    "        print(d//s)"
   ]
  },
  {
   "cell_type": "code",
   "execution_count": 516,
   "id": "21653038",
   "metadata": {},
   "outputs": [
    {
     "name": "stdout",
     "output_type": "stream",
     "text": [
      "14\n",
      "30\n",
      "0\n",
      "1\n"
     ]
    }
   ],
   "source": [
    "ob=mony(8,6)\n",
    "ob.fun(5,6)\n",
    "ob.fun1(6,9)\n",
    "ob.fun1(26,23)"
   ]
  },
  {
   "cell_type": "code",
   "execution_count": 280,
   "id": "c24910f1",
   "metadata": {},
   "outputs": [],
   "source": [
    "class person:\n",
    "    def __init__(self, name, gender, proff):\n",
    "        self.name  = name\n",
    "        self.gender = gender\n",
    "        self.profession = proff\n",
    "    def intro(self):\n",
    "        print('name: ',self.name, 'geender is : ',self.gender, 'profession: ',self.profession)\n",
    "    def work(self):\n",
    "        print(self.name, \"work as \",self.profession)"
   ]
  },
  {
   "cell_type": "code",
   "execution_count": 283,
   "id": "04ed1cb7",
   "metadata": {},
   "outputs": [
    {
     "name": "stdout",
     "output_type": "stream",
     "text": [
      "name:  reddy geender is :  m profession:  data science\n",
      "reddy work as  data science\n"
     ]
    }
   ],
   "source": [
    "ob = person('reddy',\"m\",'data science')\n",
    "ob.intro()\n",
    "ob.work()"
   ]
  },
  {
   "cell_type": "code",
   "execution_count": 284,
   "id": "f6118229",
   "metadata": {},
   "outputs": [],
   "source": [
    "class Student:\n",
    "    #class variable\n",
    "    school_name = \"St. Paul's High School\"\n",
    "    \n",
    "    #constructor\n",
    "    def __init__(self, name, age):\n",
    "        #instance variables\n",
    "        self.name = name\n",
    "        self.age = age\n",
    "    \n",
    "    #instance methods\n",
    "    def show(self):\n",
    "        #access instance variables and class variables\n",
    "        print('Student:', self.name, 'having age:', self.age, 'studied in:', Student.school_name)\n",
    "        \n",
    "    #instance method --> to modify the instannce variable\n",
    "    def change_age(self, new_age):#using new_age parameter to change the old 'age'\n",
    "        #modify the instance variable\n",
    "        self.age = new_age\n",
    "        \n",
    "    #class method\n",
    "    @classmethod #is a decorator; used to define class method. Class methods are bound to the class and not the instance of the class\\\n",
    "    \n",
    "    def modify_school_name(cls, new_name):\n",
    "        #modify the class variable\n",
    "        cls.school_name = new_name #modifies the class variable 'school_name' by assigning it to a new value 'new_name'\n",
    "                                   #cls refers to the class itself, allowing method to access and modify class variables"
   ]
  },
  {
   "cell_type": "code",
   "execution_count": 285,
   "id": "493ad1af",
   "metadata": {},
   "outputs": [
    {
     "name": "stdout",
     "output_type": "stream",
     "text": [
      "Student: Prachi having age: 20 studied in: St. Paul's High School\n"
     ]
    }
   ],
   "source": [
    "student1 = Student('Prachi',20)\n",
    "\n",
    "#Call instance methods\n",
    "student1.show()\n"
   ]
  },
  {
   "cell_type": "code",
   "execution_count": 286,
   "id": "41b28217",
   "metadata": {},
   "outputs": [],
   "source": [
    "student1.change_age(18)"
   ]
  },
  {
   "cell_type": "code",
   "execution_count": 287,
   "id": "069aadac",
   "metadata": {},
   "outputs": [
    {
     "name": "stdout",
     "output_type": "stream",
     "text": [
      "Student: Prachi having age: 18 studied in: St. Paul's High School\n"
     ]
    }
   ],
   "source": [
    "#Call instance methods\n",
    "student1.show()"
   ]
  },
  {
   "cell_type": "code",
   "execution_count": 288,
   "id": "67f8f8b8",
   "metadata": {},
   "outputs": [],
   "source": [
    "Student.modify_school_name('NKBPS Dwarka')"
   ]
  },
  {
   "cell_type": "code",
   "execution_count": 289,
   "id": "44461277",
   "metadata": {},
   "outputs": [
    {
     "name": "stdout",
     "output_type": "stream",
     "text": [
      "Student: Prachi having age: 18 studied in: NKBPS Dwarka\n"
     ]
    }
   ],
   "source": [
    "#Call instance methods\n",
    "student1.show()"
   ]
  },
  {
   "cell_type": "code",
   "execution_count": null,
   "id": "fa52e647",
   "metadata": {},
   "outputs": [],
   "source": []
  },
  {
   "cell_type": "code",
   "execution_count": null,
   "id": "7470936b",
   "metadata": {},
   "outputs": [],
   "source": []
  },
  {
   "cell_type": "code",
   "execution_count": null,
   "id": "f14d1523",
   "metadata": {},
   "outputs": [],
   "source": []
  },
  {
   "cell_type": "markdown",
   "id": "117c51ef",
   "metadata": {},
   "source": [
    "# Encapsulation"
   ]
  },
  {
   "cell_type": "markdown",
   "id": "7da1d9c3",
   "metadata": {},
   "source": [
    "1. Encapsulation = wrapping the data and the function inside the class"
   ]
  },
  {
   "cell_type": "raw",
   "id": "dbffbc33",
   "metadata": {},
   "source": [
    "Encapsulation allows you to control the access to the internal state of an object, ensuring that data integrity is maintained and interactions with the object are performed through well-defined interfaces\n",
    "\n",
    "Encapsulation means ABstraction+DAta hiding."
   ]
  },
  {
   "cell_type": "code",
   "execution_count": 362,
   "id": "65af0f94",
   "metadata": {},
   "outputs": [],
   "source": [
    "class Enc:\n",
    "    def __init__(self):\n",
    "        print(\"I am a constructor\")\n",
    "    def Fun6(self):\n",
    "        print(\"I am a funtion 6\")\n",
    "    def Fun7(self, a):\n",
    "        print(a)"
   ]
  },
  {
   "cell_type": "code",
   "execution_count": 363,
   "id": "909bead3",
   "metadata": {},
   "outputs": [
    {
     "name": "stdout",
     "output_type": "stream",
     "text": [
      "I am a constructor\n"
     ]
    }
   ],
   "source": [
    "ob = Enc()"
   ]
  },
  {
   "cell_type": "code",
   "execution_count": 364,
   "id": "95a1c5ab",
   "metadata": {},
   "outputs": [
    {
     "name": "stdout",
     "output_type": "stream",
     "text": [
      "I am a funtion 6\n"
     ]
    }
   ],
   "source": [
    "ob.Fun6()"
   ]
  },
  {
   "cell_type": "code",
   "execution_count": 365,
   "id": "3fad7d7c",
   "metadata": {},
   "outputs": [
    {
     "name": "stdout",
     "output_type": "stream",
     "text": [
      "reddy\n"
     ]
    }
   ],
   "source": [
    "ob.Fun7(\"reddy\")"
   ]
  },
  {
   "cell_type": "code",
   "execution_count": 366,
   "id": "793e71d0",
   "metadata": {},
   "outputs": [],
   "source": [
    "class Encap:\n",
    "    def __init__(self,a):\n",
    "        print(a)\n",
    "    def HH(self, b):\n",
    "        print(b)\n",
    "\n",
    "class Sulation:\n",
    "    def __init__(self, x):\n",
    "        print(x)\n",
    "    def YY(self,y):\n",
    "        print(y)"
   ]
  },
  {
   "cell_type": "code",
   "execution_count": 367,
   "id": "0c5885f3",
   "metadata": {},
   "outputs": [
    {
     "name": "stdout",
     "output_type": "stream",
     "text": [
      "I am the onstructor of class 1\n",
      "7\n"
     ]
    }
   ],
   "source": [
    "obj1=Encap(\"I am the onstructor of class 1\")\n",
    "obj1.HH(7)"
   ]
  },
  {
   "cell_type": "code",
   "execution_count": 368,
   "id": "07c74135",
   "metadata": {
    "scrolled": true
   },
   "outputs": [
    {
     "name": "stdout",
     "output_type": "stream",
     "text": [
      " I am the constructor of the class 2\n",
      "8\n"
     ]
    }
   ],
   "source": [
    "obj2=Sulation(\" I am the constructor of the class 2\")\n",
    "obj2.YY(8)"
   ]
  },
  {
   "cell_type": "code",
   "execution_count": 29,
   "id": "eb3e2ee5",
   "metadata": {},
   "outputs": [],
   "source": [
    "class BankAccount:\n",
    "    def __init__(self, account_number, balance):\n",
    "        self.__account_number = account_number # Private attribute\n",
    "        self.__balance = balance # Private attribute\n",
    "    def deposit(self, amount):\n",
    "        if amount > 0:\n",
    "            self.__balance += amount\n",
    "    def withdraw(self, amount):\n",
    "        if 0 < amount <= self.__balance:\n",
    "            self.__balance -= amount\n",
    "    def get_balance(self):\n",
    "         return self.__balance"
   ]
  },
  {
   "cell_type": "code",
   "execution_count": 30,
   "id": "cf570704",
   "metadata": {},
   "outputs": [],
   "source": [
    "# Creating an instance of the BankAccount class\n",
    "account = BankAccount(\"12345\", 1000)"
   ]
  },
  {
   "cell_type": "code",
   "execution_count": 31,
   "id": "c977d0ff",
   "metadata": {},
   "outputs": [
    {
     "name": "stdout",
     "output_type": "stream",
     "text": [
      "Account balance: 1300\n"
     ]
    }
   ],
   "source": [
    "# Accessing and modifying through methods (encapsulation)\n",
    "account.deposit(500)\n",
    "account.withdraw(200)\n",
    "print(\"Account balance:\", account.get_balance())"
   ]
  },
  {
   "cell_type": "code",
   "execution_count": null,
   "id": "9a631ba9",
   "metadata": {},
   "outputs": [],
   "source": []
  },
  {
   "cell_type": "code",
   "execution_count": null,
   "id": "348a6616",
   "metadata": {},
   "outputs": [],
   "source": []
  },
  {
   "cell_type": "code",
   "execution_count": null,
   "id": "d52e78a9",
   "metadata": {},
   "outputs": [],
   "source": []
  },
  {
   "cell_type": "code",
   "execution_count": null,
   "id": "cf21a920",
   "metadata": {},
   "outputs": [],
   "source": []
  },
  {
   "cell_type": "code",
   "execution_count": null,
   "id": "fa727977",
   "metadata": {},
   "outputs": [],
   "source": []
  },
  {
   "cell_type": "code",
   "execution_count": null,
   "id": "e866f3c6",
   "metadata": {},
   "outputs": [],
   "source": []
  },
  {
   "cell_type": "code",
   "execution_count": null,
   "id": "9f0a77ec",
   "metadata": {},
   "outputs": [],
   "source": []
  },
  {
   "cell_type": "code",
   "execution_count": null,
   "id": "ef32c0ba",
   "metadata": {},
   "outputs": [],
   "source": []
  },
  {
   "cell_type": "code",
   "execution_count": null,
   "id": "83d9336e",
   "metadata": {},
   "outputs": [],
   "source": []
  },
  {
   "cell_type": "code",
   "execution_count": null,
   "id": "a92e6e32",
   "metadata": {},
   "outputs": [],
   "source": []
  },
  {
   "cell_type": "markdown",
   "id": "1acd2578",
   "metadata": {},
   "source": [
    "# Inheritance"
   ]
  },
  {
   "cell_type": "raw",
   "id": "a4fb7fb9",
   "metadata": {},
   "source": [
    "2. Inheritance= if one class inherit the feature of another class is called inheriatnce\n",
    "\n",
    "syntax \n",
    "class parentclass:\n",
    "    statement\n",
    "class childclass(parentclass):\n",
    "    statement"
   ]
  },
  {
   "cell_type": "code",
   "execution_count": 369,
   "id": "81044e18",
   "metadata": {},
   "outputs": [],
   "source": [
    "class parent():\n",
    "    def info(self):\n",
    "        print('parent class')\n",
    "class child(parent):\n",
    "    def getinfo(self):\n",
    "        print('child class')"
   ]
  },
  {
   "cell_type": "code",
   "execution_count": 371,
   "id": "09d6c631",
   "metadata": {},
   "outputs": [
    {
     "name": "stdout",
     "output_type": "stream",
     "text": [
      "parent class\n",
      "child class\n"
     ]
    }
   ],
   "source": [
    "ob = child()  # here we can excess parent class using child classs object\n",
    "ob.info()\n",
    "ob.getinfo()"
   ]
  },
  {
   "cell_type": "raw",
   "id": "9a4f90a8",
   "metadata": {},
   "source": [
    "Types of the inheriatance\n",
    "1. single inheritance\n",
    "2. Multiple inheritance"
   ]
  },
  {
   "cell_type": "code",
   "execution_count": 373,
   "id": "1ab8a7f1",
   "metadata": {},
   "outputs": [],
   "source": [
    "#single inheriatnce = only one parent and only one child\n",
    "class Parent:\n",
    "    def fun(self):\n",
    "        print(\"I am parent\")\n",
    "class Child(Parent):\n",
    "    def fun1(self):\n",
    "        print(\"I am child\")"
   ]
  },
  {
   "cell_type": "code",
   "execution_count": 374,
   "id": "579425aa",
   "metadata": {},
   "outputs": [
    {
     "name": "stdout",
     "output_type": "stream",
     "text": [
      "I am child\n"
     ]
    }
   ],
   "source": [
    "obj1= Child()\n",
    "obj1.fun1()"
   ]
  },
  {
   "cell_type": "code",
   "execution_count": 375,
   "id": "11b23522",
   "metadata": {},
   "outputs": [
    {
     "name": "stdout",
     "output_type": "stream",
     "text": [
      "I am parent\n"
     ]
    }
   ],
   "source": [
    "obj1.fun()"
   ]
  },
  {
   "cell_type": "raw",
   "id": "28877445",
   "metadata": {},
   "source": [
    "Multiple Inheraitance = two parent class but only one child\n",
    "\n",
    "syntax\n",
    "class child(both classes)"
   ]
  },
  {
   "cell_type": "code",
   "execution_count": 376,
   "id": "10061ab1",
   "metadata": {},
   "outputs": [],
   "source": [
    "#multiple inheriatnce\n",
    "class Father:\n",
    "    def info(self):\n",
    "        print(\" I am a father class\")\n",
    "\n",
    "class Mother:\n",
    "    def info2(self):\n",
    "        print(\" I am a mother class\")\n",
    "    \n",
    "class child(Father,Mother):\n",
    "    def getinfo(self):\n",
    "        print(\" I am child\")"
   ]
  },
  {
   "cell_type": "code",
   "execution_count": 378,
   "id": "a9c5eee3",
   "metadata": {},
   "outputs": [
    {
     "name": "stdout",
     "output_type": "stream",
     "text": [
      " I am a father class\n",
      " I am a mother class\n",
      " I am child\n"
     ]
    }
   ],
   "source": [
    "z = child()\n",
    "z.info()\n",
    "z.info2()\n",
    "z.getinfo()"
   ]
  },
  {
   "cell_type": "raw",
   "id": "86691c66",
   "metadata": {},
   "source": [
    "multilevel inheritance= one class inherits the property of another class and that inherited class has child class as well"
   ]
  },
  {
   "cell_type": "code",
   "execution_count": 381,
   "id": "ca5547ce",
   "metadata": {},
   "outputs": [],
   "source": [
    "#multilevel inheritance\n",
    "class Grand:\n",
    "    def info(self):\n",
    "        print(\"i am a grand class\")\n",
    "class Father(Grand):\n",
    "    def getinfo(self):\n",
    "        print(\" i am father class\")\n",
    "class child(Father):\n",
    "    def getinfo1(self):\n",
    "        print(\" i am the child class\")"
   ]
  },
  {
   "cell_type": "code",
   "execution_count": 382,
   "id": "e11c9749",
   "metadata": {},
   "outputs": [
    {
     "name": "stdout",
     "output_type": "stream",
     "text": [
      " i am the child class\n"
     ]
    }
   ],
   "source": [
    "x = child()\n",
    "x.getinfo1()"
   ]
  },
  {
   "cell_type": "code",
   "execution_count": 383,
   "id": "02767e56",
   "metadata": {},
   "outputs": [
    {
     "name": "stdout",
     "output_type": "stream",
     "text": [
      " i am father class\n"
     ]
    }
   ],
   "source": [
    "x.getinfo()"
   ]
  },
  {
   "cell_type": "code",
   "execution_count": 384,
   "id": "21168ba2",
   "metadata": {},
   "outputs": [
    {
     "name": "stdout",
     "output_type": "stream",
     "text": [
      "i am a grand class\n"
     ]
    }
   ],
   "source": [
    "x.info()"
   ]
  },
  {
   "cell_type": "code",
   "execution_count": null,
   "id": "d1041f6c",
   "metadata": {},
   "outputs": [],
   "source": []
  },
  {
   "cell_type": "raw",
   "id": "bf1088d9",
   "metadata": {},
   "source": [
    "hierarchical inheritance= one parent class but more than one child class"
   ]
  },
  {
   "cell_type": "code",
   "execution_count": 386,
   "id": "9bc92722",
   "metadata": {},
   "outputs": [],
   "source": [
    "class father():\n",
    "    def info(self):\n",
    "        print('father')\n",
    "class child1(father):\n",
    "    def info1(self):\n",
    "        print('child1')\n",
    "class child2(father):\n",
    "    def info2(self):\n",
    "        print('child2')"
   ]
  },
  {
   "cell_type": "code",
   "execution_count": 388,
   "id": "35a28871",
   "metadata": {},
   "outputs": [
    {
     "name": "stdout",
     "output_type": "stream",
     "text": [
      "child1\n",
      "father\n"
     ]
    }
   ],
   "source": [
    "ob1 = child1()\n",
    "ob1.info1()\n",
    "ob1.info()"
   ]
  },
  {
   "cell_type": "code",
   "execution_count": 389,
   "id": "0efdf2ab",
   "metadata": {},
   "outputs": [
    {
     "name": "stdout",
     "output_type": "stream",
     "text": [
      "child2\n",
      "father\n"
     ]
    }
   ],
   "source": [
    "ob2 = child2()\n",
    "ob2.info2()\n",
    "ob2.info()"
   ]
  },
  {
   "cell_type": "markdown",
   "id": "cb3af706",
   "metadata": {},
   "source": [
    "# Hybrid inheritance"
   ]
  },
  {
   "cell_type": "code",
   "execution_count": 608,
   "id": "4d9e2ad1",
   "metadata": {},
   "outputs": [
    {
     "data": {
      "text/plain": [
       "1"
      ]
     },
     "execution_count": 608,
     "metadata": {},
     "output_type": "execute_result"
    }
   ],
   "source": [
    "class A:\n",
    "    x = 1\n",
    "class B(A):\n",
    "    pass\n",
    "class C(A):\n",
    "    pass\n",
    "class D(B,C):\n",
    "    pass\n",
    "o = D()\n",
    "o.x"
   ]
  },
  {
   "cell_type": "code",
   "execution_count": null,
   "id": "a6a031f7",
   "metadata": {},
   "outputs": [],
   "source": []
  },
  {
   "cell_type": "markdown",
   "id": "4d39f08b",
   "metadata": {},
   "source": [
    "# POLYMORPHISM"
   ]
  },
  {
   "cell_type": "raw",
   "id": "5b454931",
   "metadata": {},
   "source": [
    "Polymorphism= same name but different in feature\n",
    "1.fuction overloading\n",
    "2.function overridding"
   ]
  },
  {
   "cell_type": "markdown",
   "id": "a8a59597",
   "metadata": {},
   "source": [
    "1. function overloading=  inside a class when we have more than one same name of function but having different functionality"
   ]
  },
  {
   "cell_type": "code",
   "execution_count": 394,
   "id": "507d21d3",
   "metadata": {},
   "outputs": [],
   "source": [
    "class poly():\n",
    "    def fun(self, x, y):\n",
    "        return x+y\n",
    "    def fun(self, a, b):\n",
    "        return a*b"
   ]
  },
  {
   "cell_type": "code",
   "execution_count": 395,
   "id": "0f9c3713",
   "metadata": {},
   "outputs": [
    {
     "data": {
      "text/plain": [
       "2"
      ]
     },
     "execution_count": 395,
     "metadata": {},
     "output_type": "execute_result"
    }
   ],
   "source": [
    "z=poly()\n",
    "z.fun(1,2)"
   ]
  },
  {
   "cell_type": "code",
   "execution_count": 396,
   "id": "c29f8076",
   "metadata": {},
   "outputs": [],
   "source": [
    "class Poly:\n",
    "    def fun(self, x,y):\n",
    "        print(x+y)\n",
    "    def fun(self, x,y):\n",
    "        print(x*y)\n",
    "    def fun(self, a,b):\n",
    "        print(a-b)"
   ]
  },
  {
   "cell_type": "code",
   "execution_count": 397,
   "id": "dee70995",
   "metadata": {},
   "outputs": [
    {
     "name": "stdout",
     "output_type": "stream",
     "text": [
      "7\n"
     ]
    }
   ],
   "source": [
    "o1=Poly()\n",
    "o1.fun(10,3)  # when we have overloading only last function get execute "
   ]
  },
  {
   "cell_type": "raw",
   "id": "1fd25d8b",
   "metadata": {},
   "source": [
    "function overridding= when we have two classes and one class inherits the prperty of the another class and both class name of function\n",
    "note = there should be two classes\n",
    "1 function should have same name"
   ]
  },
  {
   "cell_type": "code",
   "execution_count": 398,
   "id": "2df44a1e",
   "metadata": {},
   "outputs": [],
   "source": [
    "class Parent:\n",
    "    def info(self):\n",
    "        print(\"i am the parent class\")\n",
    "class Child(Parent):\n",
    "    def info(self):\n",
    "        print('i am a child class')"
   ]
  },
  {
   "cell_type": "code",
   "execution_count": 399,
   "id": "0f6107fe",
   "metadata": {},
   "outputs": [
    {
     "name": "stdout",
     "output_type": "stream",
     "text": [
      "i am a child class\n"
     ]
    }
   ],
   "source": [
    "o2= Child()\n",
    "o2.info()"
   ]
  },
  {
   "cell_type": "code",
   "execution_count": 400,
   "id": "f309cb4a",
   "metadata": {},
   "outputs": [
    {
     "name": "stdout",
     "output_type": "stream",
     "text": [
      "i am the parent class\n"
     ]
    }
   ],
   "source": [
    "o3=Parent()\n",
    "o3.info()"
   ]
  },
  {
   "cell_type": "code",
   "execution_count": 549,
   "id": "48b45195",
   "metadata": {},
   "outputs": [
    {
     "name": "stdout",
     "output_type": "stream",
     "text": [
      "i am an animal\n",
      "im a dog\n"
     ]
    }
   ],
   "source": [
    "class animal:\n",
    "    def speak(self):\n",
    "        print('i am an animal')\n",
    "    def walk(self):\n",
    "        print(' a am walking')\n",
    "class dog(animal):\n",
    "    def speak(self):\n",
    "        print('im a dog')\n",
    "o1 = animal()\n",
    "o1.speak()\n",
    "o2=dog()\n",
    "o2.speak()"
   ]
  },
  {
   "cell_type": "code",
   "execution_count": null,
   "id": "d3c25801",
   "metadata": {},
   "outputs": [],
   "source": []
  },
  {
   "cell_type": "code",
   "execution_count": null,
   "id": "bda98dd0",
   "metadata": {},
   "outputs": [],
   "source": []
  },
  {
   "cell_type": "markdown",
   "id": "9c8ecc59",
   "metadata": {},
   "source": [
    "# abstraction "
   ]
  },
  {
   "cell_type": "raw",
   "id": "75f6ccd0",
   "metadata": {},
   "source": [
    "abstraction = hiding the sensitive data from our code\n",
    "encapulstion \n",
    "access modifier = it is used to provide the access of the data towrads the user\n",
    "Public \n",
    "Protected = _ single underscore\n",
    "Private = __ double underscore"
   ]
  },
  {
   "cell_type": "code",
   "execution_count": 401,
   "id": "19bdf09a",
   "metadata": {},
   "outputs": [],
   "source": [
    "a=10\n",
    "_a=10\n",
    "__a=10"
   ]
  },
  {
   "cell_type": "code",
   "execution_count": 411,
   "id": "3b8c657a",
   "metadata": {},
   "outputs": [],
   "source": [
    "class abst():\n",
    "    def __init__(self, x):\n",
    "        self.x = 10  # constant\n",
    "    def fun(self):\n",
    "        print(self.x)\n",
    "        "
   ]
  },
  {
   "cell_type": "code",
   "execution_count": 412,
   "id": "194b0d29",
   "metadata": {},
   "outputs": [
    {
     "name": "stdout",
     "output_type": "stream",
     "text": [
      "10\n"
     ]
    }
   ],
   "source": [
    "ob = abst(30)\n",
    "ob.fun()"
   ]
  },
  {
   "cell_type": "code",
   "execution_count": 414,
   "id": "bcee5b4d",
   "metadata": {},
   "outputs": [
    {
     "name": "stdout",
     "output_type": "stream",
     "text": [
      "30\n"
     ]
    }
   ],
   "source": [
    "class s:\n",
    "    def __init__(self, x):\n",
    "        self.x=x\n",
    "    def fun(self):\n",
    "        print(self.x)\n",
    "obj=s(7)\n",
    "obj.fun()"
   ]
  },
  {
   "cell_type": "code",
   "execution_count": 415,
   "id": "e0542c09",
   "metadata": {},
   "outputs": [
    {
     "name": "stdout",
     "output_type": "stream",
     "text": [
      "5\n"
     ]
    }
   ],
   "source": [
    "class V:\n",
    "    def __init__(self, a):\n",
    "        self._a=5\n",
    "    def Fun3(self):\n",
    "        print(self._a)\n",
    "ob1= V(3)\n",
    "ob1.Fun3()"
   ]
  },
  {
   "cell_type": "code",
   "execution_count": 416,
   "id": "875e4e11",
   "metadata": {},
   "outputs": [
    {
     "name": "stdout",
     "output_type": "stream",
     "text": [
      "7\n"
     ]
    }
   ],
   "source": [
    "class Y:\n",
    "    def __init__(self,z):\n",
    "        self.__z=7\n",
    "    def Fun4(self):\n",
    "        print(self.__z)\n",
    "ob2=Y(2)\n",
    "ob2.Fun4()"
   ]
  },
  {
   "cell_type": "code",
   "execution_count": 423,
   "id": "97d5479c",
   "metadata": {},
   "outputs": [
    {
     "ename": "AttributeError",
     "evalue": "'me' object has no attribute '_me__a'",
     "output_type": "error",
     "traceback": [
      "\u001b[1;31m---------------------------------------------------------------------------\u001b[0m",
      "\u001b[1;31mAttributeError\u001b[0m                            Traceback (most recent call last)",
      "Cell \u001b[1;32mIn[423], line 8\u001b[0m\n\u001b[0;32m      6\u001b[0m         \u001b[38;5;28mprint\u001b[39m(\u001b[38;5;28mself\u001b[39m\u001b[38;5;241m.\u001b[39m__a) \n\u001b[0;32m      7\u001b[0m obj1\u001b[38;5;241m=\u001b[39mme(\u001b[38;5;241m10\u001b[39m)\n\u001b[1;32m----> 8\u001b[0m obj1\u001b[38;5;241m.\u001b[39mfun3(\u001b[38;5;241m5\u001b[39m)\n",
      "Cell \u001b[1;32mIn[423], line 6\u001b[0m, in \u001b[0;36mme.fun3\u001b[1;34m(self, b)\u001b[0m\n\u001b[0;32m      5\u001b[0m \u001b[38;5;28;01mdef\u001b[39;00m \u001b[38;5;21mfun3\u001b[39m(\u001b[38;5;28mself\u001b[39m,b): \n\u001b[1;32m----> 6\u001b[0m     \u001b[38;5;28mprint\u001b[39m(\u001b[38;5;28mself\u001b[39m\u001b[38;5;241m.\u001b[39m__a)\n",
      "\u001b[1;31mAttributeError\u001b[0m: 'me' object has no attribute '_me__a'"
     ]
    }
   ],
   "source": [
    "class my: \n",
    "    def __init__(self,a): \n",
    "        self.__a=9 \n",
    "class me(my): \n",
    "    def fun3(self,b): \n",
    "        print(self.__a) \n",
    "obj1=me(10)\n",
    "obj1.fun3(5)"
   ]
  },
  {
   "cell_type": "code",
   "execution_count": 424,
   "id": "d66b77f4",
   "metadata": {},
   "outputs": [
    {
     "name": "stdout",
     "output_type": "stream",
     "text": [
      "45\n"
     ]
    }
   ],
   "source": [
    "class A:\n",
    "    def __init__(self):\n",
    "        self.a=45\n",
    "class B(A):\n",
    "    def fun(self):\n",
    "        print(self.a)\n",
    "ob=B()\n",
    "ob.fun()"
   ]
  },
  {
   "cell_type": "markdown",
   "id": "3c0f783a",
   "metadata": {},
   "source": [
    "pass = to pass the statement block \n",
    " "
   ]
  },
  {
   "cell_type": "code",
   "execution_count": 430,
   "id": "279bc05f",
   "metadata": {},
   "outputs": [
    {
     "data": {
      "text/plain": [
       "10"
      ]
     },
     "execution_count": 430,
     "metadata": {},
     "output_type": "execute_result"
    }
   ],
   "source": [
    "class A:\n",
    "    num=10\n",
    "class B(A):\n",
    "    pass  \n",
    "ob=B()\n",
    "ob.num"
   ]
  },
  {
   "cell_type": "code",
   "execution_count": 431,
   "id": "7ad28a25",
   "metadata": {},
   "outputs": [
    {
     "name": "stdout",
     "output_type": "stream",
     "text": [
      "hello python\n",
      "hello python\n",
      "hello python\n",
      "hello python\n",
      "hello python\n"
     ]
    }
   ],
   "source": [
    "def message():\n",
    "    for i in range(5):\n",
    "        print('hello python')\n",
    "message()"
   ]
  },
  {
   "cell_type": "code",
   "execution_count": 436,
   "id": "0b3683b0",
   "metadata": {},
   "outputs": [],
   "source": [
    "## Exercise : Create function to identify the square of a number\n",
    "def sqr(x):\n",
    "    if (x*x)%2==0:\n",
    "        print('its square num', x)\n",
    "    else:\n",
    "        print('its not square num', x)"
   ]
  },
  {
   "cell_type": "code",
   "execution_count": 438,
   "id": "ef78ada1",
   "metadata": {},
   "outputs": [
    {
     "name": "stdout",
     "output_type": "stream",
     "text": [
      "its not square num 9\n"
     ]
    }
   ],
   "source": [
    "sqr(9)"
   ]
  },
  {
   "cell_type": "code",
   "execution_count": 439,
   "id": "90bf5fdd",
   "metadata": {},
   "outputs": [],
   "source": [
    "# Create computer type\n",
    "# Create class - Blueprint to create objects \n",
    "\n",
    "class computer:\n",
    "    def config(self):\n",
    "        print(\"i5, 16GB, 1TB\")"
   ]
  },
  {
   "cell_type": "code",
   "execution_count": 441,
   "id": "0a4fc888",
   "metadata": {},
   "outputs": [
    {
     "name": "stdout",
     "output_type": "stream",
     "text": [
      "<class '__main__.computer'>\n",
      "i5, 16GB, 1TB\n"
     ]
    },
    {
     "data": {
      "text/plain": [
       "__main__.computer"
      ]
     },
     "execution_count": 441,
     "metadata": {},
     "output_type": "execute_result"
    }
   ],
   "source": [
    "# Create objects - Objects are instances / Copies of class  \n",
    "## Create computer type \n",
    "\n",
    "comp1 = computer()\n",
    "print(type(comp1))\n",
    "comp1.config()\n",
    "type(comp1)"
   ]
  },
  {
   "cell_type": "code",
   "execution_count": 442,
   "id": "fd7fc6cc",
   "metadata": {},
   "outputs": [
    {
     "name": "stdout",
     "output_type": "stream",
     "text": [
      "<class '__main__.computer'>\n"
     ]
    }
   ],
   "source": [
    "print(type(computer()))"
   ]
  },
  {
   "cell_type": "code",
   "execution_count": 443,
   "id": "0aadb9ef",
   "metadata": {},
   "outputs": [
    {
     "name": "stdout",
     "output_type": "stream",
     "text": [
      "<function computer.config at 0x0000019EE3967B00>\n"
     ]
    }
   ],
   "source": [
    "print(computer.config)"
   ]
  },
  {
   "cell_type": "code",
   "execution_count": 444,
   "id": "78c46960",
   "metadata": {},
   "outputs": [
    {
     "name": "stdout",
     "output_type": "stream",
     "text": [
      "i5, 16GB, 1TB\n",
      "None\n"
     ]
    }
   ],
   "source": [
    "print(computer.config(comp1))"
   ]
  },
  {
   "cell_type": "code",
   "execution_count": 447,
   "id": "359ad6f4",
   "metadata": {
    "scrolled": true
   },
   "outputs": [
    {
     "name": "stdout",
     "output_type": "stream",
     "text": [
      "<class '__main__.computer'>\n",
      "<class '__main__.computer'>\n",
      "--------------------\n",
      "i5, 16GB, 1TB\n",
      "None\n",
      "--------------------\n",
      "<function computer.config at 0x0000019EE3967B00>\n",
      "--------------------\n",
      "i5, 16GB, 1TB\n",
      "None\n"
     ]
    }
   ],
   "source": [
    "print(type(computer()))\n",
    "print(type(comp1))\n",
    "print(\"--------------------\")\n",
    "print(comp1.config())\n",
    "print(\"--------------------\")\n",
    "print(computer.config)\n",
    "print(\"--------------------\")\n",
    "#print(computer.config())\n",
    "print(computer.config(comp1))"
   ]
  },
  {
   "cell_type": "raw",
   "id": "d820ffa8",
   "metadata": {},
   "source": [
    "# Check objects \n",
    "#computer.config()  ## Self error - Talks about which object the attribute is talking about ( Mention names )\n",
    "#computer.config(comp1) # comp1 is param - goes to \"self\" to access the object\n",
    "\n",
    "comp1.config()\n"
   ]
  },
  {
   "cell_type": "code",
   "execution_count": 449,
   "id": "4e9b7f40",
   "metadata": {},
   "outputs": [],
   "source": [
    "## Create multiple objects \n",
    "\n",
    "class computer:\n",
    "    \n",
    "    def config(self):\n",
    "        print(\"i5, 16, 1TB\")\n",
    "        \n",
    "comp1 = computer()\n",
    "comp2 = computer()\n",
    "comp3 = computer()\n",
    "comp4 = computer()"
   ]
  },
  {
   "cell_type": "code",
   "execution_count": 450,
   "id": "8fdab65c",
   "metadata": {},
   "outputs": [
    {
     "name": "stdout",
     "output_type": "stream",
     "text": [
      "i5, 16, 1TB\n",
      "i5, 16, 1TB\n",
      "------------------------\n",
      "i5, 16, 1TB\n",
      "i5, 16, 1TB\n"
     ]
    }
   ],
   "source": [
    "computer.config(comp1)\n",
    "computer.config(comp2)\n",
    "print(\"------------------------\")\n",
    "comp1.config()\n",
    "comp2.config()"
   ]
  },
  {
   "cell_type": "code",
   "execution_count": 451,
   "id": "f51afff2",
   "metadata": {},
   "outputs": [],
   "source": [
    "## We have used a single object now.. let us create multiple objects now for computer\n",
    "## Create multiple objects \n",
    "\n",
    "class computer:\n",
    "    def Intel(self):\n",
    "        print(\"i5, 16, 1TB\")\n",
    "    def AMD(self):\n",
    "        print(\"i7, 32, 2TB\")\n",
    "        \n",
    "comp1 = computer()\n",
    "comp2 = computer()\n",
    "comp3 = computer()\n",
    "comp4 = computer()"
   ]
  },
  {
   "cell_type": "code",
   "execution_count": 457,
   "id": "653fb016",
   "metadata": {},
   "outputs": [
    {
     "name": "stdout",
     "output_type": "stream",
     "text": [
      "i5, 16, 1TB\n",
      "i7, 32, 2TB\n",
      "------------------------\n",
      "i5, 16, 1TB\n",
      "i7, 32, 2TB\n"
     ]
    }
   ],
   "source": [
    "computer.Intel(comp1)\n",
    "computer.AMD(comp2)\n",
    "print(\"------------------------\")\n",
    "comp1.Intel()\n",
    "comp2.AMD()"
   ]
  },
  {
   "cell_type": "code",
   "execution_count": 459,
   "id": "d4ce3387",
   "metadata": {},
   "outputs": [
    {
     "name": "stdout",
     "output_type": "stream",
     "text": [
      "I'm walking\n",
      "I'm dancing\n",
      "I'm singing\n"
     ]
    }
   ],
   "source": [
    "# Class and Object - Exercise \n",
    "\n",
    "class Human:     #Create a class    \n",
    "    def walk(self):   #This is behaviour/function/methods\n",
    "        print(\"I'm walking\")        \n",
    "    def dance(self):   #This is behaviour/function/methods\n",
    "        print(\"I'm dancing\")        \n",
    "    def sing(self):   #This is behaviour/function/methods\n",
    "        print(\"I'm singing\")\n",
    "\n",
    "#Create an object:\n",
    "com1 = Human()      \n",
    "com2 = Human()\n",
    "com3 = Human()\n",
    "\n",
    "com1.walk()   #Result : I'm walking\n",
    "com2.dance()  #Result : I'm dancing\n",
    "com3.sing()   #Result : I'm singing"
   ]
  },
  {
   "cell_type": "code",
   "execution_count": 460,
   "id": "956ce744",
   "metadata": {},
   "outputs": [
    {
     "name": "stdout",
     "output_type": "stream",
     "text": [
      "This is my __init__\n",
      "This is my __init__\n",
      "This is my __init__\n",
      "This is my __init__\n",
      "i5, 16, 1TB\n",
      "i3 4\n",
      "i5, 16, 1TB\n",
      "i5 4\n",
      "i5, 16, 1TB\n",
      "i3 8\n",
      "i5, 16, 1TB\n",
      "i5 16\n"
     ]
    }
   ],
   "source": [
    "# __init__ Method\n",
    "# Usages : to initialize (assign value) to the data member of the class when an object of class is created\n",
    "\n",
    "\n",
    "class computer:\n",
    "    \n",
    "    def __init__(self,cpu,ram):\n",
    "        print(\"This is my __init__\")\n",
    "        self.cpu = cpu\n",
    "        self.ram = ram\n",
    "    \n",
    "    def config(self):\n",
    "        print(\"i5, 16, 1TB\")\n",
    "        print(self.cpu, self.ram)\n",
    "\n",
    "# Create objects\n",
    "comp1 = computer(\"i3\",4)\n",
    "comp2 = computer(\"i5\",4)\n",
    "comp3 = computer(\"i3\",8)\n",
    "comp4 = computer(\"i5\",16)\n",
    "\n",
    "#print(\"-------------------\")\n",
    "#computer.config(comp1)\n",
    "#computer.config(comp2)\n",
    "#print(\"------------------------\")\n",
    "comp1.config()\n",
    "comp2.config()\n",
    "#print(\"-------------------\")\n",
    "#computer.config(comp1)\n",
    "#computer.config(comp2)\n",
    "#print(\"------------------------\")\n",
    "comp3.config()\n",
    "comp4.config()"
   ]
  },
  {
   "cell_type": "code",
   "execution_count": 461,
   "id": "56127a6d",
   "metadata": {},
   "outputs": [
    {
     "name": "stdout",
     "output_type": "stream",
     "text": [
      "Hi, my name is Navin and I'm 28 years old!\n",
      "Hi, my name is Pravin and I'm 18 years old!\n"
     ]
    }
   ],
   "source": [
    "# The __init__ Method\n",
    "\n",
    "# __init__ is similar to constructors in C++ and Java\n",
    "# Usages : to initialize (assign value) to the data member of the class when an object of class is created\n",
    "\n",
    "class Human:\n",
    "    def __init__(self,name,age):\n",
    "        self.name = name\n",
    "        self.age = age\n",
    "\n",
    "    def greeting(self):\n",
    "        print(\"Hi, my name is\",self.name, \"and I'm\",self.age,\"years old!\")\n",
    "\n",
    "# Create an object:\n",
    "human1 = Human(\"Navin\",28)\n",
    "human2 = Human(\"Pravin\",18)\n",
    "\n",
    "human1.greeting()\n",
    "human2.greeting()"
   ]
  },
  {
   "cell_type": "code",
   "execution_count": 466,
   "id": "baf6574c",
   "metadata": {},
   "outputs": [
    {
     "name": "stdout",
     "output_type": "stream",
     "text": [
      "Enter side 1 : 9\n",
      "Enter side 2 : 8\n",
      "Enter side 3 : 6\n",
      "Enter side 4 : 5\n",
      "Side 1 is 9.0\n",
      "Side 2 is 8.0\n",
      "Side 3 is 6.0\n",
      "Side 4 is 5.0\n"
     ]
    }
   ],
   "source": [
    "## Polygon example \n",
    "class Polygon:\n",
    "    def __init__(self, no_of_sides):\n",
    "        self.n = no_of_sides\n",
    "        self.sides = [0 for i in range(no_of_sides)]\n",
    "\n",
    "    def inputSides(self):\n",
    "        self.sides = [float(input(\"Enter side \"+str(i+1)+\" : \")) for i in range(self.n)]\n",
    "         \n",
    "    def dispSides(self):\n",
    "        for i in range(self.n):\n",
    "            print(\"Side\",i+1,\"is\",self.sides[i])\n",
    "\n",
    "obj = Polygon(4)\n",
    "obj.inputSides()\n",
    "obj.dispSides()"
   ]
  },
  {
   "cell_type": "code",
   "execution_count": 467,
   "id": "dbbf7181",
   "metadata": {},
   "outputs": [],
   "source": [
    "class Triangle(Polygon):\n",
    "    \n",
    "    def __init__(self):\n",
    "        Polygon.__init__(self,3)\n",
    "\n",
    "    def findArea(self):\n",
    "        a, b, c = self.sides\n",
    "        # calculate the semi-perimeter\n",
    "        s = (a + b + c) / 2\n",
    "        area = round(s*(s-a)*(s-b)*(s-c)) ** 0.5\n",
    "        print(\"The Area is\")\n",
    "        print(area)"
   ]
  },
  {
   "cell_type": "code",
   "execution_count": 468,
   "id": "045251b8",
   "metadata": {},
   "outputs": [
    {
     "name": "stdout",
     "output_type": "stream",
     "text": [
      "Enter side 1 : 3\n",
      "Enter side 2 : 5\n",
      "Enter side 3 : 6\n"
     ]
    }
   ],
   "source": [
    "t = Triangle()\n",
    "t.inputSides()"
   ]
  },
  {
   "cell_type": "code",
   "execution_count": 469,
   "id": "9cf00205",
   "metadata": {},
   "outputs": [
    {
     "name": "stdout",
     "output_type": "stream",
     "text": [
      "Side 1 is 3.0\n",
      "Side 2 is 5.0\n",
      "Side 3 is 6.0\n"
     ]
    }
   ],
   "source": [
    "t.dispSides()"
   ]
  },
  {
   "cell_type": "code",
   "execution_count": 470,
   "id": "37a8d119",
   "metadata": {},
   "outputs": [
    {
     "name": "stdout",
     "output_type": "stream",
     "text": [
      "The Area is\n",
      "7.483314773547883\n"
     ]
    }
   ],
   "source": [
    "t.findArea()"
   ]
  },
  {
   "cell_type": "code",
   "execution_count": 475,
   "id": "b63835a5",
   "metadata": {},
   "outputs": [
    {
     "name": "stdout",
     "output_type": "stream",
     "text": [
      "Selling Price: 900\n",
      "Selling Price: 900\n"
     ]
    }
   ],
   "source": [
    "class Computer:\n",
    "\n",
    "    def __init__(self):\n",
    "        self.__maxprice = 900\n",
    "\n",
    "    def sell(self):\n",
    "        print(\"Selling Price: {}\".format(self.__maxprice))\n",
    "\n",
    "    def setMaxPrice(self, price):\n",
    "        self.__maxprice = price\n",
    "\n",
    "c = Computer()\n",
    "c.sell()\n",
    "\n",
    "d = Computer()\n",
    "d.sell()"
   ]
  },
  {
   "cell_type": "code",
   "execution_count": 476,
   "id": "8837ae7f",
   "metadata": {},
   "outputs": [
    {
     "name": "stdout",
     "output_type": "stream",
     "text": [
      "Selling Price: 900\n"
     ]
    }
   ],
   "source": [
    "# change the price\n",
    "c.__maxprice = 1000\n",
    "c.sell()"
   ]
  },
  {
   "cell_type": "code",
   "execution_count": 477,
   "id": "d918ee56",
   "metadata": {},
   "outputs": [
    {
     "name": "stdout",
     "output_type": "stream",
     "text": [
      "Selling Price: 1000\n"
     ]
    }
   ],
   "source": [
    "# using setter function\n",
    "c.setMaxPrice(1000)\n",
    "c.sell()"
   ]
  },
  {
   "cell_type": "code",
   "execution_count": 478,
   "id": "3d973f26",
   "metadata": {},
   "outputs": [
    {
     "name": "stdout",
     "output_type": "stream",
     "text": [
      "Selling Price: 1000\n",
      "Selling Price: 900\n"
     ]
    }
   ],
   "source": [
    "c.sell()\n",
    "d.sell()"
   ]
  },
  {
   "cell_type": "code",
   "execution_count": 479,
   "id": "7d827110",
   "metadata": {},
   "outputs": [],
   "source": [
    "# Polymorphism  : Use common interface for multiple forms "
   ]
  },
  {
   "cell_type": "code",
   "execution_count": 480,
   "id": "d16af413",
   "metadata": {},
   "outputs": [],
   "source": [
    "class Parrot:\n",
    "\n",
    "    def fly(self):\n",
    "        print(\"Parrot can fly\")\n",
    "    \n",
    "    def swim(self):\n",
    "        print(\"Parrot can't swim\")\n",
    "\n",
    "class Penguin:\n",
    "\n",
    "    def fly(self):\n",
    "        print(\"Penguin can't fly\")\n",
    "    \n",
    "    def swim(self):\n",
    "        print(\"Penguin can swim\")\n"
   ]
  },
  {
   "cell_type": "code",
   "execution_count": 481,
   "id": "ce9b466a",
   "metadata": {},
   "outputs": [],
   "source": [
    "# common interface\n",
    "def flying_test(bird):\n",
    "    bird.fly()"
   ]
  },
  {
   "cell_type": "code",
   "execution_count": 482,
   "id": "c7e6a046",
   "metadata": {},
   "outputs": [],
   "source": [
    "#instantiate objects\n",
    "blu = Parrot()\n",
    "peggy = Penguin()"
   ]
  },
  {
   "cell_type": "code",
   "execution_count": 483,
   "id": "dc68d9d6",
   "metadata": {},
   "outputs": [
    {
     "name": "stdout",
     "output_type": "stream",
     "text": [
      "Parrot can fly\n",
      "Penguin can't fly\n"
     ]
    }
   ],
   "source": [
    "# passing the object\n",
    "flying_test(blu)\n",
    "flying_test(peggy)"
   ]
  },
  {
   "cell_type": "code",
   "execution_count": 487,
   "id": "fb937d70",
   "metadata": {},
   "outputs": [
    {
     "name": "stdout",
     "output_type": "stream",
     "text": [
      "Parrot can fly\n",
      "Penguin can't fly\n"
     ]
    }
   ],
   "source": [
    "blu.fly()\n",
    "peggy.fly()"
   ]
  },
  {
   "cell_type": "code",
   "execution_count": 488,
   "id": "1f693b58",
   "metadata": {},
   "outputs": [
    {
     "name": "stdout",
     "output_type": "stream",
     "text": [
      "Parrot can't swim\n",
      "Penguin can swim\n"
     ]
    }
   ],
   "source": [
    "blu.swim()\n",
    "peggy.swim()"
   ]
  },
  {
   "cell_type": "code",
   "execution_count": 491,
   "id": "77775789",
   "metadata": {},
   "outputs": [
    {
     "name": "stdout",
     "output_type": "stream",
     "text": [
      "15\n",
      "python\n"
     ]
    }
   ],
   "source": [
    "class python:\n",
    "    def program(self, x, y):\n",
    "        return x//y\n",
    "    def code(self,c):\n",
    "        return c\n",
    "ob = python()\n",
    "z = ob.program(76,5)\n",
    "print(z)\n",
    "print(ob.code(\"python\"))"
   ]
  },
  {
   "cell_type": "code",
   "execution_count": 492,
   "id": "f666b4ed",
   "metadata": {},
   "outputs": [],
   "source": [
    "class cons:\n",
    "    def __init__(self,a,b):\n",
    "        print(a+b)\n",
    "    def fun(self,x,y):\n",
    "        print(x*y)\n",
    "    def fun2(self,p,q):\n",
    "        print(p-q)"
   ]
  },
  {
   "cell_type": "code",
   "execution_count": 493,
   "id": "e7018c1e",
   "metadata": {},
   "outputs": [
    {
     "name": "stdout",
     "output_type": "stream",
     "text": [
      "9\n"
     ]
    }
   ],
   "source": [
    "o=cons(4,5)"
   ]
  },
  {
   "cell_type": "code",
   "execution_count": 494,
   "id": "9c2977db",
   "metadata": {},
   "outputs": [
    {
     "name": "stdout",
     "output_type": "stream",
     "text": [
      "40\n"
     ]
    }
   ],
   "source": [
    "o.fun(5,8)"
   ]
  },
  {
   "cell_type": "code",
   "execution_count": 495,
   "id": "ca5046f2",
   "metadata": {},
   "outputs": [
    {
     "name": "stdout",
     "output_type": "stream",
     "text": [
      "7\n"
     ]
    }
   ],
   "source": [
    "o.fun2(9,2)"
   ]
  },
  {
   "cell_type": "code",
   "execution_count": 496,
   "id": "59bd7c3d",
   "metadata": {},
   "outputs": [
    {
     "name": "stdout",
     "output_type": "stream",
     "text": [
      "last\n"
     ]
    }
   ],
   "source": [
    "class poly:\n",
    "    def fun(self):\n",
    "        print('name')\n",
    "    def fun(self):\n",
    "        print('last')\n",
    "ob=poly()\n",
    "ob.fun()"
   ]
  },
  {
   "cell_type": "code",
   "execution_count": 497,
   "id": "d76ec15d",
   "metadata": {},
   "outputs": [
    {
     "name": "stdout",
     "output_type": "stream",
     "text": [
      "10\n"
     ]
    }
   ],
   "source": [
    "class note:\n",
    "    def __init__(self):\n",
    "        self.x=10\n",
    "class page(note):\n",
    "    def fun(self):\n",
    "        print(self.x)\n",
    "ob=page()\n",
    "ob.fun()"
   ]
  },
  {
   "cell_type": "code",
   "execution_count": 526,
   "id": "ac2d177c",
   "metadata": {},
   "outputs": [
    {
     "name": "stdout",
     "output_type": "stream",
     "text": [
      "a student object is created\n",
      "name: reddy\n",
      "Branch: python\n",
      "year: 2018\n"
     ]
    }
   ],
   "source": [
    "class student():\n",
    "    \n",
    "    def __init__(self,name,branch,year):\n",
    "        self.name = name\n",
    "        self.branch = branch\n",
    "        self.year = year\n",
    "        print(\"a student object is created\")\n",
    "    def details(self):\n",
    "        print('name:',self.name)\n",
    "        print('Branch:',self.branch)\n",
    "        print('year:',self.year)\n",
    "obj = student('reddy','python',2018)\n",
    "obj.details()"
   ]
  },
  {
   "cell_type": "code",
   "execution_count": 528,
   "id": "f25ecfa8",
   "metadata": {},
   "outputs": [
    {
     "name": "stdout",
     "output_type": "stream",
     "text": [
      "reddy 2018 python\n",
      "a student object is created\n"
     ]
    }
   ],
   "source": [
    "class student():\n",
    "    \n",
    "    def __init__(self,name,branch,year):\n",
    "        self.name = name\n",
    "        self.branch = branch\n",
    "        self.year = year\n",
    "        print(self.name,self.year,self.branch)\n",
    "        print(\"a student object is created\")\n",
    "obj = student('reddy','python',2018)"
   ]
  },
  {
   "cell_type": "code",
   "execution_count": 532,
   "id": "13c35174",
   "metadata": {},
   "outputs": [
    {
     "name": "stdout",
     "output_type": "stream",
     "text": [
      " car name is Ferrari, color red, price 700000\n",
      " car name is JEEP, color Blue, price 1500000\n"
     ]
    }
   ],
   "source": [
    "class vehicle:\n",
    "    def __init__(self,name,color,price):\n",
    "        self.name = name\n",
    "        self.color = color\n",
    "        self.price = price\n",
    "        \n",
    "    def description(self):\n",
    "        \n",
    "        print(f\" car name is {self.name}, color {self.color}, price {self.price}\")             \n",
    "              \n",
    "              \n",
    "obj = vehicle('Ferrari','red','700000')\n",
    "obj.description()  \n",
    "obj2 = vehicle('JEEP','Blue','1500000')\n",
    "obj2.description()     "
   ]
  },
  {
   "cell_type": "code",
   "execution_count": 537,
   "id": "e1dfc734",
   "metadata": {},
   "outputs": [
    {
     "name": "stdout",
     "output_type": "stream",
     "text": [
      "im a fruit\n",
      "im mango\n"
     ]
    }
   ],
   "source": [
    "class fruit:\n",
    "    def __init__(self):\n",
    "        print('im a fruit')\n",
    "class mango(fruit):\n",
    "    def __init__(self):\n",
    "        super().__init__()\n",
    "        print('im mango')\n",
    "z = mango()        "
   ]
  },
  {
   "cell_type": "code",
   "execution_count": 1,
   "id": "a4fec634",
   "metadata": {},
   "outputs": [
    {
     "name": "stdout",
     "output_type": "stream",
     "text": [
      "im fruit\n",
      "im citrus\n"
     ]
    }
   ],
   "source": [
    "class fruit:\n",
    "    def __init__(self):\n",
    "        print('im fruit')\n",
    "class citrus(fruit):\n",
    "    def __init__(self):\n",
    "        fruit.__init__(self)\n",
    "        print('im citrus')\n",
    "ob = citrus()"
   ]
  },
  {
   "cell_type": "code",
   "execution_count": 535,
   "id": "7718d015",
   "metadata": {},
   "outputs": [
    {
     "name": "stdout",
     "output_type": "stream",
     "text": [
      "im a fruit\n",
      "im mango\n"
     ]
    }
   ],
   "source": [
    "class fruit:\n",
    "    def __init__(self):\n",
    "        print('im a fruit')\n",
    "class mango(fruit):\n",
    "    def dev(self):\n",
    "       \n",
    "        print('im mango')\n",
    "z = mango()\n",
    "z.dev()"
   ]
  },
  {
   "cell_type": "code",
   "execution_count": 538,
   "id": "548f1b27",
   "metadata": {},
   "outputs": [
    {
     "name": "stdout",
     "output_type": "stream",
     "text": [
      "im mango\n"
     ]
    }
   ],
   "source": [
    "class fruit:\n",
    "    def __init__(self):\n",
    "        print('im a fruit')\n",
    "class mango():\n",
    "    def dev(self):\n",
    "       \n",
    "        print('im mango')\n",
    "z = mango()\n",
    "z.dev()"
   ]
  },
  {
   "cell_type": "code",
   "execution_count": 542,
   "id": "b3cd4f50",
   "metadata": {},
   "outputs": [
    {
     "name": "stdout",
     "output_type": "stream",
     "text": [
      "20000\n"
     ]
    }
   ],
   "source": [
    "class fruit:\n",
    "    def __len__(self):\n",
    "        return 20000\n",
    "print(len(fruit()))"
   ]
  },
  {
   "cell_type": "code",
   "execution_count": 543,
   "id": "89c10c56",
   "metadata": {},
   "outputs": [
    {
     "name": "stdout",
     "output_type": "stream",
     "text": [
      "Reddy\n"
     ]
    }
   ],
   "source": [
    "class fruit:\n",
    "    def __str__(self):\n",
    "        return 'Reddy'\n",
    "print(fruit())"
   ]
  },
  {
   "cell_type": "code",
   "execution_count": 544,
   "id": "a86884cd",
   "metadata": {},
   "outputs": [
    {
     "name": "stdout",
     "output_type": "stream",
     "text": [
      "reddy\n"
     ]
    }
   ],
   "source": [
    "class naaa:\n",
    "    def __str__(self):\n",
    "        return self.name\n",
    "o = naaa()\n",
    "print('reddy')"
   ]
  },
  {
   "cell_type": "code",
   "execution_count": 545,
   "id": "5875fc52",
   "metadata": {},
   "outputs": [
    {
     "name": "stdout",
     "output_type": "stream",
     "text": [
      "im a fruit\n",
      "im king of fruit\n"
     ]
    }
   ],
   "source": [
    "class fruit:\n",
    "    def __init__(self):\n",
    "        print('im a fruit')\n",
    "class mango(fruit):\n",
    "    def __init__(self):\n",
    "        super().__init__()\n",
    "        print('im king of fruit')\n",
    "obj = mango()"
   ]
  },
  {
   "cell_type": "markdown",
   "id": "00190261",
   "metadata": {},
   "source": [
    "use of super() function to call a method from parent class "
   ]
  },
  {
   "cell_type": "code",
   "execution_count": 547,
   "id": "ec464dcc",
   "metadata": {},
   "outputs": [
    {
     "name": "stdout",
     "output_type": "stream",
     "text": [
      "start engine\n",
      "i have twi wheeler\n",
      "stop engine\n"
     ]
    }
   ],
   "source": [
    "class vehicle:\n",
    "    def start(self):\n",
    "        print('start engine')\n",
    "    def stop(self):\n",
    "        print('stop engine')\n",
    "class twowheeler(vehicle):\n",
    "    def say(self):\n",
    "        super().start()\n",
    "        print('i have twi wheeler')\n",
    "        super().stop()\n",
    "bike  = twowheeler()\n",
    "bike.say()"
   ]
  },
  {
   "cell_type": "code",
   "execution_count": 332,
   "id": "7c03cab3",
   "metadata": {},
   "outputs": [
    {
     "name": "stdout",
     "output_type": "stream",
     "text": [
      "Abhiramraj\n",
      "4563876\n",
      "my name is  Abhiramraj\n",
      "my idnumber is  4563876\n",
      "post:  data scientist\n",
      "my salary is  50000\n"
     ]
    }
   ],
   "source": [
    "class person():\n",
    "    def __init__(self, name, idnumber):\n",
    "        self.name = name\n",
    "        self.idnumber = idnumber\n",
    "        \n",
    "    def display(self):\n",
    "        print(self.name)\n",
    "        print(self.idnumber)\n",
    "        \n",
    "    def details(self):\n",
    "        print('my name is {}',format(self.name))\n",
    "        print('my idnumber is {}',format(self.idnumber))\n",
    "\n",
    "class employee(person):\n",
    "    def __init__(self,name,idnumber,salary,post):\n",
    "        self.salary = salary\n",
    "        self.post = post\n",
    "        person.__init__(self,name,idnumber)\n",
    "    def datails(self):\n",
    "        print('my name is ',format(self.name))\n",
    "        print('my idnumber is ',format(self.idnumber))\n",
    "        print('post: ',format(self.post))\n",
    "        print('my salary is ',format(self.salary))\n",
    "obj = employee('Abhiramraj',4563876,50000,'data scientist')\n",
    "\n",
    "obj.display()\n",
    "obj.datails()\n",
    "        "
   ]
  },
  {
   "cell_type": "code",
   "execution_count": 346,
   "id": "cb374090",
   "metadata": {},
   "outputs": [
    {
     "name": "stdout",
     "output_type": "stream",
     "text": [
      "i enjoy gardening\n",
      "i like cooking\n",
      "i like sports\n"
     ]
    }
   ],
   "source": [
    "class Father():\n",
    "    def skills(self):\n",
    "        print('i enjoy gardening')\n",
    "\n",
    "class Mother():\n",
    "    def skills(self):\n",
    "        print('i like cooking')\n",
    "class Child(Father,Mother):\n",
    "    def skills(self):\n",
    "        Father.skills(self)\n",
    "        Mother.skills(self)\n",
    "        print('i like sports')\n",
    "        \n",
    "obj = Child()\n",
    "obj.skills()"
   ]
  },
  {
   "cell_type": "code",
   "execution_count": 347,
   "id": "720f9419",
   "metadata": {},
   "outputs": [
    {
     "data": {
      "text/plain": [
       "100"
      ]
     },
     "execution_count": 347,
     "metadata": {},
     "output_type": "execute_result"
    }
   ],
   "source": [
    "class Animals:\n",
    "    a=100\n",
    "    b=22\n",
    "    \n",
    "    def traits(self):\n",
    "        print('Depends on animal')\n",
    "        \n",
    "tiger = Animals()\n",
    "tiger.a"
   ]
  },
  {
   "cell_type": "code",
   "execution_count": 350,
   "id": "9f3a47ca",
   "metadata": {},
   "outputs": [
    {
     "data": {
      "text/plain": [
       "22"
      ]
     },
     "execution_count": 350,
     "metadata": {},
     "output_type": "execute_result"
    }
   ],
   "source": [
    "tiger.b\n"
   ]
  },
  {
   "cell_type": "code",
   "execution_count": 351,
   "id": "a9120ea1",
   "metadata": {},
   "outputs": [
    {
     "name": "stdout",
     "output_type": "stream",
     "text": [
      "Depends on animal\n"
     ]
    }
   ],
   "source": [
    "tiger.traits()"
   ]
  },
  {
   "cell_type": "code",
   "execution_count": 352,
   "id": "e915ca07",
   "metadata": {},
   "outputs": [],
   "source": [
    "import math as m"
   ]
  },
  {
   "cell_type": "code",
   "execution_count": 335,
   "id": "e36c944c",
   "metadata": {},
   "outputs": [
    {
     "data": {
      "text/plain": [
       "4.0"
      ]
     },
     "execution_count": 335,
     "metadata": {},
     "output_type": "execute_result"
    }
   ],
   "source": [
    "m.sqrt(16)"
   ]
  },
  {
   "cell_type": "code",
   "execution_count": 336,
   "id": "d617bd3f",
   "metadata": {},
   "outputs": [
    {
     "data": {
      "text/plain": [
       "3.141592653589793"
      ]
     },
     "execution_count": 336,
     "metadata": {},
     "output_type": "execute_result"
    }
   ],
   "source": [
    "m.pi"
   ]
  },
  {
   "cell_type": "code",
   "execution_count": 337,
   "id": "98ddd837",
   "metadata": {},
   "outputs": [
    {
     "data": {
      "text/plain": [
       "25.0"
      ]
     },
     "execution_count": 337,
     "metadata": {},
     "output_type": "execute_result"
    }
   ],
   "source": [
    "m.pow(5,2)"
   ]
  },
  {
   "cell_type": "code",
   "execution_count": 339,
   "id": "bfb1e1c1",
   "metadata": {
    "collapsed": true
   },
   "outputs": [
    {
     "data": {
      "text/plain": [
       "['__doc__',\n",
       " '__loader__',\n",
       " '__name__',\n",
       " '__package__',\n",
       " '__spec__',\n",
       " 'acos',\n",
       " 'acosh',\n",
       " 'asin',\n",
       " 'asinh',\n",
       " 'atan',\n",
       " 'atan2',\n",
       " 'atanh',\n",
       " 'cbrt',\n",
       " 'ceil',\n",
       " 'comb',\n",
       " 'copysign',\n",
       " 'cos',\n",
       " 'cosh',\n",
       " 'degrees',\n",
       " 'dist',\n",
       " 'e',\n",
       " 'erf',\n",
       " 'erfc',\n",
       " 'exp',\n",
       " 'exp2',\n",
       " 'expm1',\n",
       " 'fabs',\n",
       " 'factorial',\n",
       " 'floor',\n",
       " 'fmod',\n",
       " 'frexp',\n",
       " 'fsum',\n",
       " 'gamma',\n",
       " 'gcd',\n",
       " 'hypot',\n",
       " 'inf',\n",
       " 'isclose',\n",
       " 'isfinite',\n",
       " 'isinf',\n",
       " 'isnan',\n",
       " 'isqrt',\n",
       " 'lcm',\n",
       " 'ldexp',\n",
       " 'lgamma',\n",
       " 'log',\n",
       " 'log10',\n",
       " 'log1p',\n",
       " 'log2',\n",
       " 'modf',\n",
       " 'nan',\n",
       " 'nextafter',\n",
       " 'perm',\n",
       " 'pi',\n",
       " 'pow',\n",
       " 'prod',\n",
       " 'radians',\n",
       " 'remainder',\n",
       " 'sin',\n",
       " 'sinh',\n",
       " 'sqrt',\n",
       " 'tan',\n",
       " 'tanh',\n",
       " 'tau',\n",
       " 'trunc',\n",
       " 'ulp']"
      ]
     },
     "execution_count": 339,
     "metadata": {},
     "output_type": "execute_result"
    }
   ],
   "source": [
    "# if i want to know what all function in math \n",
    "dir(m)"
   ]
  },
  {
   "cell_type": "code",
   "execution_count": 341,
   "id": "76ca809c",
   "metadata": {},
   "outputs": [
    {
     "data": {
      "text/plain": [
       "10"
      ]
     },
     "execution_count": 341,
     "metadata": {},
     "output_type": "execute_result"
    }
   ],
   "source": [
    "m.floor(10.151321   )"
   ]
  },
  {
   "cell_type": "code",
   "execution_count": 343,
   "id": "3c828a50",
   "metadata": {},
   "outputs": [
    {
     "data": {
      "text/plain": [
       "7"
      ]
     },
     "execution_count": 343,
     "metadata": {},
     "output_type": "execute_result"
    }
   ],
   "source": [
    "m.ceil(6.1)"
   ]
  },
  {
   "cell_type": "code",
   "execution_count": null,
   "id": "3d906c32",
   "metadata": {},
   "outputs": [],
   "source": []
  },
  {
   "cell_type": "code",
   "execution_count": null,
   "id": "51de36c6",
   "metadata": {},
   "outputs": [],
   "source": []
  }
 ],
 "metadata": {
  "kernelspec": {
   "display_name": "Python 3 (ipykernel)",
   "language": "python",
   "name": "python3"
  },
  "language_info": {
   "codemirror_mode": {
    "name": "ipython",
    "version": 3
   },
   "file_extension": ".py",
   "mimetype": "text/x-python",
   "name": "python",
   "nbconvert_exporter": "python",
   "pygments_lexer": "ipython3",
   "version": "3.11.3"
  }
 },
 "nbformat": 4,
 "nbformat_minor": 5
}
